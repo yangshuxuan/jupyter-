{
 "cells": [
  {
   "cell_type": "code",
   "execution_count": 3,
   "metadata": {},
   "outputs": [],
   "source": [
    "user = '001'\n",
    "userdata = 'C:\\\\Users\\\\yangshuxuan\\\\Downloads\\\\Geolife Trajectories 1.3\\\\Data\\\\' + user + '\\\\Trajectory\\\\'"
   ]
  },
  {
   "cell_type": "code",
   "execution_count": 12,
   "metadata": {},
   "outputs": [
    {
     "data": {
      "text/html": [
       "<div>\n",
       "<style scoped>\n",
       "    .dataframe tbody tr th:only-of-type {\n",
       "        vertical-align: middle;\n",
       "    }\n",
       "\n",
       "    .dataframe tbody tr th {\n",
       "        vertical-align: top;\n",
       "    }\n",
       "\n",
       "    .dataframe thead th {\n",
       "        text-align: right;\n",
       "    }\n",
       "</style>\n",
       "<table border=\"1\" class=\"dataframe\">\n",
       "  <thead>\n",
       "    <tr style=\"text-align: right;\">\n",
       "      <th></th>\n",
       "      <th>lat</th>\n",
       "      <th>lng</th>\n",
       "      <th>alt</th>\n",
       "      <th>date</th>\n",
       "      <th>time</th>\n",
       "    </tr>\n",
       "  </thead>\n",
       "  <tbody>\n",
       "    <tr>\n",
       "      <th>0</th>\n",
       "      <td>39.984198</td>\n",
       "      <td>116.319322</td>\n",
       "      <td>492</td>\n",
       "      <td>2008-10-23</td>\n",
       "      <td>05:53:06</td>\n",
       "    </tr>\n",
       "    <tr>\n",
       "      <th>12</th>\n",
       "      <td>39.984611</td>\n",
       "      <td>116.319822</td>\n",
       "      <td>304</td>\n",
       "      <td>2008-10-23</td>\n",
       "      <td>05:53:58</td>\n",
       "    </tr>\n",
       "    <tr>\n",
       "      <th>24</th>\n",
       "      <td>39.984252</td>\n",
       "      <td>116.320826</td>\n",
       "      <td>227</td>\n",
       "      <td>2008-10-23</td>\n",
       "      <td>05:54:43</td>\n",
       "    </tr>\n",
       "    <tr>\n",
       "      <th>36</th>\n",
       "      <td>39.983916</td>\n",
       "      <td>116.320980</td>\n",
       "      <td>180</td>\n",
       "      <td>2008-10-23</td>\n",
       "      <td>05:55:39</td>\n",
       "    </tr>\n",
       "    <tr>\n",
       "      <th>48</th>\n",
       "      <td>39.982688</td>\n",
       "      <td>116.321225</td>\n",
       "      <td>154</td>\n",
       "      <td>2008-10-23</td>\n",
       "      <td>05:56:17</td>\n",
       "    </tr>\n",
       "    <tr>\n",
       "      <th>60</th>\n",
       "      <td>39.981441</td>\n",
       "      <td>116.321305</td>\n",
       "      <td>97</td>\n",
       "      <td>2008-10-23</td>\n",
       "      <td>05:56:55</td>\n",
       "    </tr>\n",
       "    <tr>\n",
       "      <th>72</th>\n",
       "      <td>39.980291</td>\n",
       "      <td>116.321430</td>\n",
       "      <td>81</td>\n",
       "      <td>2008-10-23</td>\n",
       "      <td>05:57:32</td>\n",
       "    </tr>\n",
       "    <tr>\n",
       "      <th>84</th>\n",
       "      <td>39.979675</td>\n",
       "      <td>116.321805</td>\n",
       "      <td>100</td>\n",
       "      <td>2008-10-23</td>\n",
       "      <td>05:58:18</td>\n",
       "    </tr>\n",
       "    <tr>\n",
       "      <th>96</th>\n",
       "      <td>39.979546</td>\n",
       "      <td>116.322926</td>\n",
       "      <td>115</td>\n",
       "      <td>2008-10-23</td>\n",
       "      <td>05:59:11</td>\n",
       "    </tr>\n",
       "    <tr>\n",
       "      <th>108</th>\n",
       "      <td>39.979758</td>\n",
       "      <td>116.324513</td>\n",
       "      <td>98</td>\n",
       "      <td>2008-10-23</td>\n",
       "      <td>05:59:47</td>\n",
       "    </tr>\n",
       "  </tbody>\n",
       "</table>\n",
       "</div>"
      ],
      "text/plain": [
       "           lat         lng  alt        date      time\n",
       "0    39.984198  116.319322  492  2008-10-23  05:53:06\n",
       "12   39.984611  116.319822  304  2008-10-23  05:53:58\n",
       "24   39.984252  116.320826  227  2008-10-23  05:54:43\n",
       "36   39.983916  116.320980  180  2008-10-23  05:55:39\n",
       "48   39.982688  116.321225  154  2008-10-23  05:56:17\n",
       "60   39.981441  116.321305   97  2008-10-23  05:56:55\n",
       "72   39.980291  116.321430   81  2008-10-23  05:57:32\n",
       "84   39.979675  116.321805  100  2008-10-23  05:58:18\n",
       "96   39.979546  116.322926  115  2008-10-23  05:59:11\n",
       "108  39.979758  116.324513   98  2008-10-23  05:59:47"
      ]
     },
     "execution_count": 12,
     "metadata": {},
     "output_type": "execute_result"
    }
   ],
   "source": [
    "import numpy as np\n",
    "import matplotlib.pyplot as plt\n",
    "import pandas as pd\n",
    "import os\n",
    "\n",
    "# Enable inline plotting\n",
    "%matplotlib inline\n",
    "\n",
    "filelist = os.listdir(userdata) \n",
    "names = ['lat','lng','zero','alt','days','date','time']\n",
    "df_list = [pd.read_csv(userdata + f,header=6,names=names,index_col=False) for f in filelist]\n",
    "df = pd.concat(df_list, ignore_index=True)\n",
    "\n",
    "# delete unused column\n",
    "df.drop(['zero', 'days'], axis=1, inplace=True)\n",
    "\n",
    "# data is recorded every 1~5 seconds, which is too frequent. Reduce it to every minute\n",
    "df_min = df.iloc[::12, :]\n",
    "\n",
    "df_min.head(10)"
   ]
  },
  {
   "cell_type": "code",
   "execution_count": 6,
   "metadata": {},
   "outputs": [
    {
     "name": "stdout",
     "output_type": "stream",
     "text": [
      "Total GPS points: 9045\n"
     ]
    }
   ],
   "source": [
    "print('Total GPS points: ' + str(df_min.shape[0]))"
   ]
  },
  {
   "cell_type": "code",
   "execution_count": 27,
   "metadata": {},
   "outputs": [
    {
     "data": {
      "text/plain": [
       "array([[ 39.984198, 116.319322],\n",
       "       [ 39.984611, 116.319822],\n",
       "       [ 39.984252, 116.320826],\n",
       "       ...,\n",
       "       [ 39.978249, 116.327146],\n",
       "       [ 39.978113, 116.327042],\n",
       "       [ 39.978046, 116.326701]])"
      ]
     },
     "execution_count": 27,
     "metadata": {},
     "output_type": "execute_result"
    }
   ],
   "source": [
    " df_min[['lat', 'lng']].values"
   ]
  },
  {
   "cell_type": "code",
   "execution_count": 9,
   "metadata": {},
   "outputs": [],
   "source": [
    "import gmplot\n",
    "# declare the center of the map, and how much we want the map zoomed in\n",
    "gmap = gmplot.GoogleMapPlotter(df_min.lat[0], df_min.lng[0], 11)\n",
    "gmap.plot(df_min.lat, df_min.lng)\n",
    "gmap.draw(\"user001_map.html\")"
   ]
  },
  {
   "cell_type": "code",
   "execution_count": 20,
   "metadata": {},
   "outputs": [
    {
     "name": "stdout",
     "output_type": "stream",
     "text": [
      "Clustered 9045 points to 4 clusters\n"
     ]
    },
    {
     "data": {
      "text/plain": [
       "0    [[39.984198, 116.319322], [39.984611, 116.3198...\n",
       "1    [[40.069857, 116.333592], [40.069868, 116.3351...\n",
       "2    [[39.909038, 116.41192099999999], [39.908906, ...\n",
       "3    [[39.967153, 116.43158700000001], [39.96669699...\n",
       "dtype: object"
      ]
     },
     "execution_count": 20,
     "metadata": {},
     "output_type": "execute_result"
    }
   ],
   "source": [
    "from sklearn.cluster import DBSCAN\n",
    "from sklearn import metrics\n",
    "\n",
    "# represent GPS points as (lat, lon)\n",
    "coords = df_min[['lat', 'lng']].values\n",
    "\n",
    "# earth's radius in km\n",
    "kms_per_radian = 6371.0088\n",
    "# define epsilon as 0.5 kilometers, converted to radians for use by haversine\n",
    "epsilon = 0.5 / kms_per_radian\n",
    "\n",
    "# eps is the max distance that points can be from each other to be considered in a cluster\n",
    "# min_samples is the minimum cluster size (everything else is classified as noise)\n",
    "db = DBSCAN(eps=epsilon, min_samples=100, algorithm='ball_tree', metric='haversine').fit(np.radians(coords))\n",
    "cluster_labels = db.labels_\n",
    "# get the number of clusters (ignore noisy samples which are given the label -1)\n",
    "num_clusters = len(set(cluster_labels) - set([-1]))\n",
    "\n",
    "print('Clustered ' + str(len(df_min)) + ' points to ' + str(num_clusters) + ' clusters')\n",
    "\n",
    "# turn the clusters in to a pandas series\n",
    "clusters = pd.Series([coords[cluster_labels == n] for n in range(num_clusters)])\n",
    "clusters"
   ]
  },
  {
   "cell_type": "code",
   "execution_count": 22,
   "metadata": {},
   "outputs": [
    {
     "data": {
      "text/plain": [
       "array([0, 0, 0, ..., 0, 0, 0], dtype=int64)"
      ]
     },
     "execution_count": 22,
     "metadata": {},
     "output_type": "execute_result"
    }
   ],
   "source": [
    "cluster_labels"
   ]
  },
  {
   "cell_type": "code",
   "execution_count": 23,
   "metadata": {},
   "outputs": [
    {
     "data": {
      "text/plain": [
       "array([[ 39.984198, 116.319322],\n",
       "       [ 39.984611, 116.319822],\n",
       "       [ 39.984252, 116.320826],\n",
       "       ...,\n",
       "       [ 39.978249, 116.327146],\n",
       "       [ 39.978113, 116.327042],\n",
       "       [ 39.978046, 116.326701]])"
      ]
     },
     "execution_count": 23,
     "metadata": {},
     "output_type": "execute_result"
    }
   ],
   "source": [
    "clusters[0]"
   ]
  },
  {
   "cell_type": "code",
   "execution_count": 37,
   "metadata": {},
   "outputs": [],
   "source": [
    "firstCluster = pd.DataFrame(clusters[0],columns=[\"lat\",\"lng\"])\n",
    "gmap = gmplot.GoogleMapPlotter(firstCluster.lat[0], firstCluster.lng[0], 11)\n",
    "gmap.plot(firstCluster.lat, firstCluster.lng)\n",
    "gmap.draw(\"firstCluster_map.html\")"
   ]
  },
  {
   "cell_type": "code",
   "execution_count": 38,
   "metadata": {},
   "outputs": [],
   "source": [
    "secondCluster = pd.DataFrame(clusters[1],columns=[\"lat\",\"lng\"])\n",
    "gmap = gmplot.GoogleMapPlotter(secondCluster.lat[0], secondCluster.lng[0], 11)\n",
    "gmap.plot(secondCluster.lat, secondCluster.lng)\n",
    "gmap.draw(\"secondCluster_map.html\")"
   ]
  },
  {
   "cell_type": "code",
   "execution_count": 42,
   "metadata": {},
   "outputs": [],
   "source": [
    "from shapely.geometry import MultiPoint\n",
    "from geopy.distance import great_circle\n",
    "def get_centermost_point(cluster):\n",
    "    centroid = (MultiPoint(cluster).centroid.x, MultiPoint(cluster).centroid.y)\n",
    "    centermost_point = min(cluster, key=lambda point: great_circle(point, centroid).m)\n",
    "    return tuple(centermost_point)\n",
    "\n",
    "# get the centroid point for each cluster\n",
    "centermost_points = clusters.map(get_centermost_point)\n",
    "lats, lons = zip(*centermost_points)\n",
    "rep_points = pd.DataFrame({'lon':lons, 'lat':lats})"
   ]
  },
  {
   "cell_type": "code",
   "execution_count": 43,
   "metadata": {},
   "outputs": [
    {
     "data": {
      "text/html": [
       "<div>\n",
       "<style scoped>\n",
       "    .dataframe tbody tr th:only-of-type {\n",
       "        vertical-align: middle;\n",
       "    }\n",
       "\n",
       "    .dataframe tbody tr th {\n",
       "        vertical-align: top;\n",
       "    }\n",
       "\n",
       "    .dataframe thead th {\n",
       "        text-align: right;\n",
       "    }\n",
       "</style>\n",
       "<table border=\"1\" class=\"dataframe\">\n",
       "  <thead>\n",
       "    <tr style=\"text-align: right;\">\n",
       "      <th></th>\n",
       "      <th>lon</th>\n",
       "      <th>lat</th>\n",
       "    </tr>\n",
       "  </thead>\n",
       "  <tbody>\n",
       "    <tr>\n",
       "      <th>0</th>\n",
       "      <td>116.318391</td>\n",
       "      <td>39.999488</td>\n",
       "    </tr>\n",
       "    <tr>\n",
       "      <th>1</th>\n",
       "      <td>116.340532</td>\n",
       "      <td>40.074273</td>\n",
       "    </tr>\n",
       "    <tr>\n",
       "      <th>2</th>\n",
       "      <td>116.409603</td>\n",
       "      <td>39.908693</td>\n",
       "    </tr>\n",
       "    <tr>\n",
       "      <th>3</th>\n",
       "      <td>116.438344</td>\n",
       "      <td>39.961443</td>\n",
       "    </tr>\n",
       "  </tbody>\n",
       "</table>\n",
       "</div>"
      ],
      "text/plain": [
       "          lon        lat\n",
       "0  116.318391  39.999488\n",
       "1  116.340532  40.074273\n",
       "2  116.409603  39.908693\n",
       "3  116.438344  39.961443"
      ]
     },
     "execution_count": 43,
     "metadata": {},
     "output_type": "execute_result"
    }
   ],
   "source": [
    "rep_points"
   ]
  },
  {
   "cell_type": "code",
   "execution_count": 47,
   "metadata": {},
   "outputs": [],
   "source": [
    "cluster = clusters[0]\n",
    "centroid = (MultiPoint(cluster).centroid.x, MultiPoint(cluster).centroid.y)\n",
    "centermost_point = min(cluster, key=lambda point: great_circle(point, centroid).m)"
   ]
  },
  {
   "cell_type": "code",
   "execution_count": 56,
   "metadata": {},
   "outputs": [],
   "source": [
    "MultiPoint?"
   ]
  },
  {
   "cell_type": "code",
   "execution_count": 64,
   "metadata": {},
   "outputs": [
    {
     "data": {
      "image/png": "[encoded data removed]",
      "text/plain": [
       "<Figure size 720x432 with 1 Axes>"
      ]
     },
     "metadata": {
      "needs_background": "light"
     },
     "output_type": "display_data"
    }
   ],
   "source": [
    "fig, ax = plt.subplots(figsize=[10, 6])\n",
    "rs_scatter = ax.scatter(rep_points['lon'][0], rep_points['lat'][0], c='#99cc99', edgecolor='None', alpha=0.7, s=450)\n",
    "ax.scatter(rep_points['lon'][1], rep_points['lat'][1], c='#99cc99', edgecolor='None', alpha=0.7, s=250)\n",
    "ax.scatter(rep_points['lon'][2], rep_points['lat'][2], c='#99cc99', edgecolor='None', alpha=0.7, s=250)\n",
    "ax.scatter(rep_points['lon'][3], rep_points['lat'][3], c='#99cc99', edgecolor='None', alpha=0.7, s=150)\n",
    "df_scatter = ax.scatter(secondCluster.lng, secondCluster.lat, c='k', alpha=0.9, s=3)\n",
    "ax.scatter(firstCluster.lng, firstCluster.lat, c='k', alpha=0.9, s=3)\n",
    "ax.scatter(df_min['lng'], df_min['lat'], c='k', alpha=0.9, s=3)\n",
    "ax.set_title('Full GPS trace vs. DBSCAN clusters')\n",
    "ax.set_xlabel('Longitude')\n",
    "ax.set_ylabel('Latitude')\n",
    "ax.legend([df_scatter, rs_scatter], ['GPS points', 'Cluster centers'], loc='upper right')\n",
    "\n",
    "labels = ['cluster{0}'.format(i) for i in range(1, num_clusters+1)]\n",
    "for label, x, y in zip(labels, rep_points['lon'], rep_points['lat']):\n",
    "    plt.annotate(\n",
    "        label, \n",
    "        xy = (x, y), xytext = (-25, -30),\n",
    "        textcoords = 'offset points', ha = 'right', va = 'bottom',\n",
    "        bbox = dict(boxstyle = 'round,pad=0.5', fc = 'white', alpha = 0.5),\n",
    "        arrowprops = dict(arrowstyle = '->', connectionstyle = 'arc3,rad=0'))\n",
    "\n",
    "plt.show()"
   ]
  },
  {
   "cell_type": "code",
   "execution_count": 45,
   "metadata": {},
   "outputs": [
    {
     "data": {
      "text/plain": [
       "(39.999488, 40.074273, 39.908693, 39.961443)"
      ]
     },
     "execution_count": 45,
     "metadata": {},
     "output_type": "execute_result"
    }
   ],
   "source": [
    "lats"
   ]
  },
  {
   "cell_type": "code",
   "execution_count": null,
   "metadata": {},
   "outputs": [],
   "source": []
  }
 ],
 "metadata": {
  "kernelspec": {
   "display_name": "Python 3",
   "language": "python",
   "name": "python3"
  },
  "language_info": {
   "codemirror_mode": {
    "name": "ipython",
    "version": 3
   },
   "file_extension": ".py",
   "mimetype": "text/x-python",
   "name": "python",
   "nbconvert_exporter": "python",
   "pygments_lexer": "ipython3",
   "version": "3.7.6"
  }
 },
 "nbformat": 4,
 "nbformat_minor": 4
}
