{
 "cells": [
  {
   "cell_type": "code",
   "execution_count": 4,
   "metadata": {},
   "outputs": [
    {
     "ename": "ModuleNotFoundError",
     "evalue": "No module named 'traj_dist'",
     "output_type": "error",
     "traceback": [
      "\u001b[1;31m---------------------------------------------------------------------------\u001b[0m",
      "\u001b[1;31mModuleNotFoundError\u001b[0m                       Traceback (most recent call last)",
      "\u001b[1;32m<ipython-input-4-3c704a212d75>\u001b[0m in \u001b[0;36m<module>\u001b[1;34m\u001b[0m\n\u001b[1;32m----> 1\u001b[1;33m \u001b[1;32mimport\u001b[0m \u001b[0mtraj_dist\u001b[0m\u001b[1;33m.\u001b[0m\u001b[0mdistance\u001b[0m \u001b[1;32mas\u001b[0m \u001b[0mtdist\u001b[0m\u001b[1;33m\u001b[0m\u001b[1;33m\u001b[0m\u001b[0m\n\u001b[0m",
      "\u001b[1;31mModuleNotFoundError\u001b[0m: No module named 'traj_dist'"
     ]
    }
   ],
   "source": [
    "import traj_dist.distance as tdist"
   ]
  },
  {
   "cell_type": "code",
   "execution_count": 1,
   "metadata": {},
   "outputs": [],
   "source": [
    "import numpy as np"
   ]
  },
  {
   "cell_type": "code",
   "execution_count": 17,
   "metadata": {},
   "outputs": [
    {
     "ename": "ModuleNotFoundError",
     "evalue": "No module named 'pyspark'",
     "output_type": "error",
     "traceback": [
      "\u001b[1;31m---------------------------------------------------------------------------\u001b[0m",
      "\u001b[1;31mModuleNotFoundError\u001b[0m                       Traceback (most recent call last)",
      "\u001b[1;32m<ipython-input-17-61fbc0d156c2>\u001b[0m in \u001b[0;36m<module>\u001b[1;34m\u001b[0m\n\u001b[1;32m----> 1\u001b[1;33m \u001b[1;32mfrom\u001b[0m \u001b[0mpyspark\u001b[0m\u001b[1;33m.\u001b[0m\u001b[0msql\u001b[0m \u001b[1;32mimport\u001b[0m \u001b[0mSparkSession\u001b[0m\u001b[1;33m\u001b[0m\u001b[1;33m\u001b[0m\u001b[0m\n\u001b[0m",
      "\u001b[1;31mModuleNotFoundError\u001b[0m: No module named 'pyspark'"
     ]
    }
   ],
   "source": [
    "from pyspark.sql import SparkSession\n"
   ]
  },
  {
   "cell_type": "code",
   "execution_count": 5,
   "metadata": {},
   "outputs": [],
   "source": [
    "import numpy as np\n",
    "from sklearn.datasets import make_blobs\n",
    "from sklearn.neighbors import NearestNeighbors\n",
    "from sklearn.cluster import DBSCAN\n",
    "from matplotlib import pyplot as plt\n",
    "import seaborn as sns\n",
    "sns.set()"
   ]
  },
  {
   "cell_type": "code",
   "execution_count": 6,
   "metadata": {},
   "outputs": [
    {
     "data": {
      "text/plain": [
       "<matplotlib.collections.PathCollection at 0x1d9350f9788>"
      ]
     },
     "execution_count": 6,
     "metadata": {},
     "output_type": "execute_result"
    },
    {
     "name": "stdout",
     "output_type": "stream",
     "text": [
      "C:\\Windows\\Fonts\\arial.ttf\n"
     ]
    },
    {
     "data": {
      "image/png": "[encoded data removed]",
      "text/plain": [
       "<Figure size 432x288 with 1 Axes>"
      ]
     },
     "metadata": {},
     "output_type": "display_data"
    }
   ],
   "source": [
    "X, y = make_blobs(n_samples=300, centers=4, cluster_std=0.60, random_state=0)\n",
    "plt.scatter(X[:,0], X[:,1])"
   ]
  },
  {
   "cell_type": "code",
   "execution_count": 8,
   "metadata": {},
   "outputs": [],
   "source": [
    "neigh = NearestNeighbors(n_neighbors=2)\n",
    "nbrs = neigh.fit(X)\n",
    "distances, indices = nbrs.kneighbors(X)"
   ]
  },
  {
   "cell_type": "code",
   "execution_count": 10,
   "metadata": {},
   "outputs": [
    {
     "data": {
      "text/plain": [
       "array([[  0,   4],\n",
       "       [  1,  89],\n",
       "       [  2, 186],\n",
       "       [  3, 228],\n",
       "       [  4, 124],\n",
       "       [  5, 242],\n",
       "       [  6, 129],\n",
       "       [  7, 185],\n",
       "       [  8, 130],\n",
       "       [  9, 207],\n",
       "       [ 10, 299],\n",
       "       [ 11, 140],\n",
       "       [ 12, 210],\n",
       "       [ 13,  88],\n",
       "       [ 14, 154],\n",
       "       [ 15,  90],\n",
       "       [ 16, 104],\n",
       "       [ 17, 221],\n",
       "       [ 18, 265],\n",
       "       [ 19, 110],\n",
       "       [ 20, 240],\n",
       "       [ 21,  83],\n",
       "       [ 22, 164],\n",
       "       [ 23, 299],\n",
       "       [ 24, 272],\n",
       "       [ 25, 212],\n",
       "       [ 26,  91],\n",
       "       [ 27, 253],\n",
       "       [ 28, 165],\n",
       "       [ 29, 147],\n",
       "       [ 30, 267],\n",
       "       [ 31, 137],\n",
       "       [ 32, 181],\n",
       "       [ 33, 209],\n",
       "       [ 34, 246],\n",
       "       [ 35,  66],\n",
       "       [ 36, 137],\n",
       "       [ 37, 140],\n",
       "       [ 38, 272],\n",
       "       [ 39, 126],\n",
       "       [ 40,  90],\n",
       "       [ 41, 194],\n",
       "       [ 42,  98],\n",
       "       [ 43, 181],\n",
       "       [ 44, 131],\n",
       "       [ 45, 191],\n",
       "       [ 46, 278],\n",
       "       [ 47, 206],\n",
       "       [ 48,  89],\n",
       "       [ 49, 295],\n",
       "       [ 50, 262],\n",
       "       [ 51, 221],\n",
       "       [ 52, 102],\n",
       "       [ 53,  39],\n",
       "       [ 54, 163],\n",
       "       [ 55,  65],\n",
       "       [ 56, 298],\n",
       "       [ 57,  19],\n",
       "       [ 58, 279],\n",
       "       [ 59,  82],\n",
       "       [ 60,  35],\n",
       "       [ 61, 193],\n",
       "       [ 62, 231],\n",
       "       [ 63, 141],\n",
       "       [ 64, 239],\n",
       "       [ 65,  55],\n",
       "       [ 66,  35],\n",
       "       [ 67, 283],\n",
       "       [ 68,  37],\n",
       "       [ 69, 183],\n",
       "       [ 70,   7],\n",
       "       [ 71, 287],\n",
       "       [ 72, 156],\n",
       "       [ 73, 183],\n",
       "       [ 74, 129],\n",
       "       [ 75,  84],\n",
       "       [ 76,  93],\n",
       "       [ 77, 208],\n",
       "       [ 78, 284],\n",
       "       [ 79,  72],\n",
       "       [ 80,  14],\n",
       "       [ 81, 178],\n",
       "       [ 82,  59],\n",
       "       [ 83,  21],\n",
       "       [ 84,  75],\n",
       "       [ 85, 109],\n",
       "       [ 86, 283],\n",
       "       [ 87, 261],\n",
       "       [ 88,  13],\n",
       "       [ 89,  48],\n",
       "       [ 90,  15],\n",
       "       [ 91,  26],\n",
       "       [ 92, 293],\n",
       "       [ 93,  76],\n",
       "       [ 94, 237],\n",
       "       [ 95, 204],\n",
       "       [ 96, 276],\n",
       "       [ 97, 281],\n",
       "       [ 98, 119],\n",
       "       [ 99, 196],\n",
       "       [100, 207],\n",
       "       [101, 202],\n",
       "       [102, 267],\n",
       "       [103,  51],\n",
       "       [104,  16],\n",
       "       [105, 177],\n",
       "       [106, 133],\n",
       "       [107,  77],\n",
       "       [108,  33],\n",
       "       [109,  85],\n",
       "       [110,  19],\n",
       "       [111, 247],\n",
       "       [112, 121],\n",
       "       [113, 160],\n",
       "       [114,  53],\n",
       "       [115, 273],\n",
       "       [116, 243],\n",
       "       [117, 276],\n",
       "       [118, 163],\n",
       "       [119,  98],\n",
       "       [120,  71],\n",
       "       [121, 126],\n",
       "       [122, 201],\n",
       "       [123, 263],\n",
       "       [124, 276],\n",
       "       [125, 258],\n",
       "       [126,  39],\n",
       "       [127, 195],\n",
       "       [128,  82],\n",
       "       [129, 203],\n",
       "       [130, 264],\n",
       "       [131,  44],\n",
       "       [132, 145],\n",
       "       [133, 106],\n",
       "       [134, 146],\n",
       "       [135, 127],\n",
       "       [136, 262],\n",
       "       [137,  36],\n",
       "       [138, 226],\n",
       "       [139, 227],\n",
       "       [140,  37],\n",
       "       [141,  63],\n",
       "       [142, 200],\n",
       "       [143, 174],\n",
       "       [144, 173],\n",
       "       [145, 132],\n",
       "       [146, 134],\n",
       "       [147,  29],\n",
       "       [148, 292],\n",
       "       [149, 220],\n",
       "       [150,  34],\n",
       "       [151, 260],\n",
       "       [152, 249],\n",
       "       [153, 241],\n",
       "       [154, 224],\n",
       "       [155,  63],\n",
       "       [156,  72],\n",
       "       [157, 198],\n",
       "       [158,  91],\n",
       "       [159,  77],\n",
       "       [160,  92],\n",
       "       [161,  81],\n",
       "       [162, 161],\n",
       "       [163, 118],\n",
       "       [164,  27],\n",
       "       [165, 196],\n",
       "       [166,  57],\n",
       "       [167, 241],\n",
       "       [168,  96],\n",
       "       [169, 200],\n",
       "       [170, 230],\n",
       "       [171, 278],\n",
       "       [172, 252],\n",
       "       [173, 229],\n",
       "       [174, 143],\n",
       "       [175, 228],\n",
       "       [176, 296],\n",
       "       [177, 105],\n",
       "       [178,  81],\n",
       "       [179, 265],\n",
       "       [180, 281],\n",
       "       [181,  43],\n",
       "       [182,  38],\n",
       "       [183, 251],\n",
       "       [184, 212],\n",
       "       [185,   7],\n",
       "       [186,   2],\n",
       "       [187, 235],\n",
       "       [188, 296],\n",
       "       [189, 286],\n",
       "       [190, 138],\n",
       "       [191, 155],\n",
       "       [192,  16],\n",
       "       [193,  61],\n",
       "       [194,  41],\n",
       "       [195, 127],\n",
       "       [196, 225],\n",
       "       [197, 282],\n",
       "       [198, 157],\n",
       "       [199, 246],\n",
       "       [200, 169],\n",
       "       [201, 179],\n",
       "       [202, 275],\n",
       "       [203, 129],\n",
       "       [204,  95],\n",
       "       [205, 249],\n",
       "       [206,  47],\n",
       "       [207,   9],\n",
       "       [208,  77],\n",
       "       [209,  33],\n",
       "       [210,  12],\n",
       "       [211,  47],\n",
       "       [212, 184],\n",
       "       [213, 173],\n",
       "       [214, 259],\n",
       "       [215, 216],\n",
       "       [216,  45],\n",
       "       [217, 222],\n",
       "       [218, 106],\n",
       "       [219,  61],\n",
       "       [220, 149],\n",
       "       [221,  51],\n",
       "       [222, 217],\n",
       "       [223, 271],\n",
       "       [224, 154],\n",
       "       [225, 271],\n",
       "       [226, 138],\n",
       "       [227, 139],\n",
       "       [228, 175],\n",
       "       [229, 173],\n",
       "       [230, 170],\n",
       "       [231, 288],\n",
       "       [232, 161],\n",
       "       [233, 128],\n",
       "       [234, 155],\n",
       "       [235, 187],\n",
       "       [236, 114],\n",
       "       [237,  94],\n",
       "       [238, 231],\n",
       "       [239,  93],\n",
       "       [240, 281],\n",
       "       [241, 167],\n",
       "       [242, 285],\n",
       "       [243, 116],\n",
       "       [244, 214],\n",
       "       [245, 189],\n",
       "       [246,  34],\n",
       "       [247, 111],\n",
       "       [248, 237],\n",
       "       [249, 152],\n",
       "       [250, 277],\n",
       "       [251, 183],\n",
       "       [252, 172],\n",
       "       [253,  27],\n",
       "       [254, 239],\n",
       "       [255,  50],\n",
       "       [256, 287],\n",
       "       [257, 275],\n",
       "       [258, 125],\n",
       "       [259, 214],\n",
       "       [260, 151],\n",
       "       [261,  87],\n",
       "       [262,  50],\n",
       "       [263, 123],\n",
       "       [264, 130],\n",
       "       [265, 179],\n",
       "       [266, 197],\n",
       "       [267, 102],\n",
       "       [268,  85],\n",
       "       [269, 105],\n",
       "       [270, 123],\n",
       "       [271, 225],\n",
       "       [272,  24],\n",
       "       [273, 115],\n",
       "       [274, 285],\n",
       "       [275, 202],\n",
       "       [276,  96],\n",
       "       [277, 250],\n",
       "       [278,  46],\n",
       "       [279,  58],\n",
       "       [280,  20],\n",
       "       [281,  97],\n",
       "       [282, 197],\n",
       "       [283,  86],\n",
       "       [284, 283],\n",
       "       [285, 242],\n",
       "       [286, 146],\n",
       "       [287,  71],\n",
       "       [288, 231],\n",
       "       [289, 232],\n",
       "       [290, 101],\n",
       "       [291,  21],\n",
       "       [292, 148],\n",
       "       [293, 231],\n",
       "       [294, 175],\n",
       "       [295,  49],\n",
       "       [296, 188],\n",
       "       [297, 253],\n",
       "       [298,  56],\n",
       "       [299,  10]], dtype=int64)"
      ]
     },
     "execution_count": 10,
     "metadata": {},
     "output_type": "execute_result"
    }
   ],
   "source": [
    "indices"
   ]
  },
  {
   "cell_type": "code",
   "execution_count": 11,
   "metadata": {},
   "outputs": [
    {
     "data": {
      "text/plain": [
       "[<matplotlib.lines.Line2D at 0x1d9351ae088>]"
      ]
     },
     "execution_count": 11,
     "metadata": {},
     "output_type": "execute_result"
    },
    {
     "data": {
      "image/png": "[encoded data removed]",
      "text/plain": [
       "<Figure size 432x288 with 1 Axes>"
      ]
     },
     "metadata": {},
     "output_type": "display_data"
    }
   ],
   "source": [
    "distances = np.sort(distances, axis=0)\n",
    "distances = distances[:,1]\n",
    "plt.plot(distances)"
   ]
  },
  {
   "cell_type": "code",
   "execution_count": 12,
   "metadata": {},
   "outputs": [
    {
     "data": {
      "text/plain": [
       "array([0.00647163, 0.00647163, 0.00975014, 0.00975014, 0.01234906,\n",
       "       0.01234906, 0.01264242, 0.01264242, 0.01430681, 0.01430681,\n",
       "       0.01593125, 0.01593125, 0.01966341, 0.01966341, 0.02207558,\n",
       "       0.02207558, 0.02296282, 0.02296282, 0.02878472, 0.02878472,\n",
       "       0.03245783, 0.03349706, 0.03349706, 0.03769112, 0.03769112,\n",
       "       0.03905497, 0.03905497, 0.03932308, 0.03932308, 0.0432228 ,\n",
       "       0.0432228 , 0.04626217, 0.04626217, 0.04636689, 0.04636689,\n",
       "       0.04666165, 0.04666165, 0.04827548, 0.04827548, 0.05056531,\n",
       "       0.05158224, 0.053448  , 0.053448  , 0.05592457, 0.05592457,\n",
       "       0.05623953, 0.05623953, 0.06142808, 0.06142808, 0.06166964,\n",
       "       0.06166964, 0.06394655, 0.06394655, 0.06423229, 0.06423229,\n",
       "       0.06578034, 0.066143  , 0.066143  , 0.06779552, 0.06779552,\n",
       "       0.06979926, 0.06979926, 0.06984003, 0.07167141, 0.07167141,\n",
       "       0.07204812, 0.07204812, 0.07250337, 0.07250337, 0.07388278,\n",
       "       0.07541255, 0.07541255, 0.07581508, 0.07581508, 0.07714258,\n",
       "       0.07770645, 0.07878442, 0.07878442, 0.07923392, 0.07958344,\n",
       "       0.07958344, 0.08021003, 0.08021003, 0.08115241, 0.08115241,\n",
       "       0.08200176, 0.08200176, 0.08318165, 0.08393989, 0.08393989,\n",
       "       0.08453753, 0.08453753, 0.08480982, 0.08480982, 0.08530597,\n",
       "       0.08530597, 0.08542599, 0.08542599, 0.08739771, 0.08829225,\n",
       "       0.09067363, 0.09067363, 0.09078366, 0.09103051, 0.09103051,\n",
       "       0.09325163, 0.09325163, 0.09335536, 0.09335536, 0.09434692,\n",
       "       0.09434692, 0.0944693 , 0.09447441, 0.09447441, 0.09469163,\n",
       "       0.09469163, 0.09758787, 0.09913369, 0.0991543 , 0.10192291,\n",
       "       0.10192291, 0.10259092, 0.10259092, 0.10755353, 0.1083796 ,\n",
       "       0.1083796 , 0.10864143, 0.1095539 , 0.1095539 , 0.10964975,\n",
       "       0.1101499 , 0.11049628, 0.11121558, 0.11423238, 0.11482982,\n",
       "       0.11482982, 0.11509095, 0.11509095, 0.11844863, 0.11856671,\n",
       "       0.11971729, 0.12019666, 0.12019666, 0.12039139, 0.12039139,\n",
       "       0.12156709, 0.1216412 , 0.1216412 , 0.12404174, 0.12641423,\n",
       "       0.12641423, 0.12673309, 0.12874176, 0.13157714, 0.13256145,\n",
       "       0.13438155, 0.13438155, 0.13644162, 0.13644162, 0.13688333,\n",
       "       0.13772595, 0.13772595, 0.13971857, 0.13971857, 0.13976049,\n",
       "       0.14029948, 0.14030649, 0.14135314, 0.14171121, 0.14171121,\n",
       "       0.1426018 , 0.14393191, 0.14393191, 0.14403194, 0.14403194,\n",
       "       0.14536256, 0.14553834, 0.14591083, 0.1460482 , 0.14619334,\n",
       "       0.15106217, 0.15106217, 0.15641004, 0.15789589, 0.15789589,\n",
       "       0.15913959, 0.15913959, 0.16030616, 0.16345958, 0.16400682,\n",
       "       0.16400682, 0.1666952 , 0.1666952 , 0.17149737, 0.17149737,\n",
       "       0.17153615, 0.17153615, 0.17967984, 0.17967984, 0.1812924 ,\n",
       "       0.18263659, 0.18263659, 0.18303442, 0.18480257, 0.18821858,\n",
       "       0.18821858, 0.18885508, 0.18885508, 0.18978456, 0.19205733,\n",
       "       0.19256561, 0.19267973, 0.19267973, 0.19436544, 0.19531115,\n",
       "       0.19569748, 0.1971566 , 0.19724095, 0.20161588, 0.20980317,\n",
       "       0.21272027, 0.21611552, 0.21704432, 0.21929592, 0.2220933 ,\n",
       "       0.22255221, 0.22255221, 0.22596451, 0.22717367, 0.22898617,\n",
       "       0.23176964, 0.23293743, 0.23293743, 0.23300561, 0.23329901,\n",
       "       0.23337164, 0.23337164, 0.23419336, 0.23419336, 0.23476712,\n",
       "       0.23544821, 0.23647322, 0.23733639, 0.24002308, 0.24050799,\n",
       "       0.24050799, 0.24061987, 0.24061987, 0.24207383, 0.24257696,\n",
       "       0.24519004, 0.24895377, 0.24927461, 0.25169873, 0.25468964,\n",
       "       0.25635988, 0.25655518, 0.25656675, 0.25730896, 0.26305303,\n",
       "       0.26472336, 0.26751856, 0.28828177, 0.29118898, 0.29313186,\n",
       "       0.29733787, 0.3005636 , 0.3005636 , 0.30068697, 0.31020985,\n",
       "       0.31020985, 0.31064694, 0.3107807 , 0.31626272, 0.31690933,\n",
       "       0.31690933, 0.31991687, 0.32979699, 0.32979699, 0.33069345,\n",
       "       0.33806562, 0.34328702, 0.35774854, 0.38493956, 0.39129344,\n",
       "       0.40987856, 0.411357  , 0.411357  , 0.42995328, 0.44563434,\n",
       "       0.49822928, 0.52120874, 0.55886876, 0.56539061, 0.58022027,\n",
       "       0.58132588, 0.61124146, 0.70707372, 0.72411965, 0.78860553])"
      ]
     },
     "execution_count": 12,
     "metadata": {},
     "output_type": "execute_result"
    }
   ],
   "source": [
    "distances"
   ]
  },
  {
   "cell_type": "code",
   "execution_count": 13,
   "metadata": {},
   "outputs": [
    {
     "data": {
      "text/plain": [
       "DBSCAN(algorithm='auto', eps=0.3, leaf_size=30, metric='euclidean',\n",
       "       metric_params=None, min_samples=5, n_jobs=None, p=None)"
      ]
     },
     "execution_count": 13,
     "metadata": {},
     "output_type": "execute_result"
    }
   ],
   "source": [
    "m = DBSCAN(eps=0.3, min_samples=5)\n",
    "m.fit(X)"
   ]
  },
  {
   "cell_type": "code",
   "execution_count": 14,
   "metadata": {},
   "outputs": [],
   "source": [
    "clusters = m.labels_"
   ]
  },
  {
   "cell_type": "code",
   "execution_count": 15,
   "metadata": {},
   "outputs": [],
   "source": [
    "colors = ['royalblue', 'maroon', 'forestgreen', 'mediumorchid', 'tan', 'deeppink', 'olive', 'goldenrod', 'lightcyan', 'navy']\n",
    "vectorizer = np.vectorize(lambda x: colors[x % len(colors)])"
   ]
  },
  {
   "cell_type": "code",
   "execution_count": 16,
   "metadata": {},
   "outputs": [
    {
     "data": {
      "text/plain": [
       "<matplotlib.collections.PathCollection at 0x1d935242748>"
      ]
     },
     "execution_count": 16,
     "metadata": {},
     "output_type": "execute_result"
    },
    {
     "data": {
      "image/png": "[encoded data removed]",
      "text/plain": [
       "<Figure size 432x288 with 1 Axes>"
      ]
     },
     "metadata": {},
     "output_type": "display_data"
    }
   ],
   "source": [
    "plt.scatter(X[:,0], X[:,1], c=vectorizer(clusters))"
   ]
  },
  {
   "cell_type": "code",
   "execution_count": 11,
   "metadata": {},
   "outputs": [],
   "source": [
    "import findspark\n",
    "findspark.init()\n",
    "\n",
    "import pyspark\n",
    "import random\n",
    "from pyspark.sql import SparkSession\n",
    "\n",
    "spark = SparkSession.builder.appName(\"Python Spark SQL basic example\").config(\"spark.some.config.option\", \"some-value\").getOrCreate()"
   ]
  },
  {
   "cell_type": "code",
   "execution_count": 5,
   "metadata": {},
   "outputs": [
    {
     "name": "stdout",
     "output_type": "stream",
     "text": [
      "3.14152732\n"
     ]
    }
   ],
   "source": [
    "sc = pyspark.SparkContext(appName=\"Pi\")\n",
    "num_samples = 100000000\n",
    "def inside(p):     \n",
    "  x, y = random.random(), random.random()\n",
    "  return x*x + y*y < 1\n",
    "\n",
    "count = sc.parallelize(range(0, num_samples)).filter(inside).count()\n",
    "\n",
    "pi = 4 * count / num_samples\n",
    "print(pi)\n",
    "\n",
    "sc.stop()"
   ]
  },
  {
   "cell_type": "code",
   "execution_count": 12,
   "metadata": {},
   "outputs": [
    {
     "data": {
      "text/plain": [
       "<function __main__.squared_typed(s)>"
      ]
     },
     "execution_count": 12,
     "metadata": {},
     "output_type": "execute_result"
    }
   ],
   "source": [
    "from pyspark.sql.types import LongType\n",
    "def squared_typed(s):\n",
    "    return s * s\n",
    "spark.udf.register(\"squaredWithPython\", squared_typed, LongType())"
   ]
  },
  {
   "cell_type": "code",
   "execution_count": 14,
   "metadata": {},
   "outputs": [],
   "source": [
    "spark.range(1, 20).createOrReplaceTempView(\"test\")"
   ]
  },
  {
   "cell_type": "code",
   "execution_count": 15,
   "metadata": {},
   "outputs": [],
   "source": [
    "sqlDF = spark.sql(\"select id, squaredWithPython(id) as id_squared from test\")"
   ]
  },
  {
   "cell_type": "code",
   "execution_count": 16,
   "metadata": {},
   "outputs": [
    {
     "name": "stdout",
     "output_type": "stream",
     "text": [
      "+---+----------+\n",
      "| id|id_squared|\n",
      "+---+----------+\n",
      "|  1|         1|\n",
      "|  2|         4|\n",
      "|  3|         9|\n",
      "|  4|        16|\n",
      "|  5|        25|\n",
      "|  6|        36|\n",
      "|  7|        49|\n",
      "|  8|        64|\n",
      "|  9|        81|\n",
      "| 10|       100|\n",
      "| 11|       121|\n",
      "| 12|       144|\n",
      "| 13|       169|\n",
      "| 14|       196|\n",
      "| 15|       225|\n",
      "| 16|       256|\n",
      "| 17|       289|\n",
      "| 18|       324|\n",
      "| 19|       361|\n",
      "+---+----------+\n",
      "\n"
     ]
    }
   ],
   "source": [
    "sqlDF.show()"
   ]
  },
  {
   "cell_type": "code",
   "execution_count": 18,
   "metadata": {},
   "outputs": [
    {
     "data": {
      "text/plain": [
       "DataFrame[id: bigint, id_squared: bigint]"
      ]
     },
     "metadata": {},
     "output_type": "display_data"
    }
   ],
   "source": [
    "from pyspark.sql.functions import udf\n",
    "from pyspark.sql.types import LongType\n",
    "squared_udf = udf(lambda x : x * x, LongType())\n",
    "df = spark.table(\"test\")\n",
    "display(df.select(\"id\", squared_udf(\"id\").alias(\"id_squared\")))"
   ]
  },
  {
   "cell_type": "code",
   "execution_count": 19,
   "metadata": {},
   "outputs": [
    {
     "name": "stdout",
     "output_type": "stream",
     "text": [
      "+---+----------+\n",
      "| id|id_squared|\n",
      "+---+----------+\n",
      "|  1|         1|\n",
      "|  2|         4|\n",
      "|  3|         9|\n",
      "|  4|        16|\n",
      "|  5|        25|\n",
      "|  6|        36|\n",
      "|  7|        49|\n",
      "|  8|        64|\n",
      "|  9|        81|\n",
      "| 10|       100|\n",
      "| 11|       121|\n",
      "| 12|       144|\n",
      "| 13|       169|\n",
      "| 14|       196|\n",
      "| 15|       225|\n",
      "| 16|       256|\n",
      "| 17|       289|\n",
      "| 18|       324|\n",
      "| 19|       361|\n",
      "+---+----------+\n",
      "\n"
     ]
    }
   ],
   "source": [
    "df.select(\"id\", squared_udf(\"id\").alias(\"id_squared\")).show()"
   ]
  },
  {
   "cell_type": "code",
   "execution_count": 20,
   "metadata": {},
   "outputs": [
    {
     "name": "stdout",
     "output_type": "stream",
     "text": [
      "root\n",
      " |-- id: long (nullable = false)\n",
      "\n"
     ]
    }
   ],
   "source": [
    "df.printSchema()"
   ]
  },
  {
   "cell_type": "code",
   "execution_count": null,
   "metadata": {},
   "outputs": [],
   "source": []
  }
 ],
 "metadata": {
  "kernelspec": {
   "display_name": "Python 3",
   "language": "python",
   "name": "python3"
  },
  "language_info": {
   "codemirror_mode": {
    "name": "ipython",
    "version": 3
   },
   "file_extension": ".py",
   "mimetype": "text/x-python",
   "name": "python",
   "nbconvert_exporter": "python",
   "pygments_lexer": "ipython3",
   "version": "3.8.3"
  }
 },
 "nbformat": 4,
 "nbformat_minor": 4
}
