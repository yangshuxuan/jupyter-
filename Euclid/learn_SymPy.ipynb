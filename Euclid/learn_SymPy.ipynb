{
 "cells": [
  {
   "cell_type": "code",
   "execution_count": 7,
   "metadata": {},
   "outputs": [],
   "source": [
    "from sympy import symbols, Eq, solve\n",
    "import numpy as np"
   ]
  },
  {
   "cell_type": "code",
   "execution_count": 2,
   "metadata": {},
   "outputs": [],
   "source": [
    "x, y = symbols('x y')"
   ]
  },
  {
   "cell_type": "code",
   "execution_count": 4,
   "metadata": {},
   "outputs": [],
   "source": [
    "eq1 = Eq(x + y - 5,0)\n",
    "eq2 = Eq(x - y + 3,0)"
   ]
  },
  {
   "cell_type": "code",
   "execution_count": 5,
   "metadata": {},
   "outputs": [
    {
     "data": {
      "text/plain": [
       "{x: 1, y: 4}"
      ]
     },
     "execution_count": 5,
     "metadata": {},
     "output_type": "execute_result"
    }
   ],
   "source": [
    "solve((eq1,eq2), (x, y))"
   ]
  },
  {
   "cell_type": "code",
   "execution_count": 9,
   "metadata": {},
   "outputs": [],
   "source": [
    "A = [0.5,0.5]\n",
    "B = [0.8,0.7]\n",
    "r1 = ((np.array(A) - np.array(B))**2).sum()"
   ]
  },
  {
   "cell_type": "code",
   "execution_count": 10,
   "metadata": {},
   "outputs": [],
   "source": [
    "eq1 = Eq((x-0.5)**2 + (y-0.5)**2 ,r1)\n",
    "eq2 = Eq((x-0.8)**2 + (y -0.7)**2,r1)"
   ]
  },
  {
   "cell_type": "code",
   "execution_count": 11,
   "metadata": {},
   "outputs": [
    {
     "data": {
      "text/plain": [
       "[(0.476794919243112, 0.859807621135332),\n",
       " (0.823205080756888, 0.340192378864668)]"
      ]
     },
     "execution_count": 11,
     "metadata": {},
     "output_type": "execute_result"
    }
   ],
   "source": [
    "solve((eq1,eq2), (x, y))"
   ]
  },
  {
   "cell_type": "code",
   "execution_count": 12,
   "metadata": {},
   "outputs": [],
   "source": [
    "eq1 = Eq(((np.array([x,y]) - np.array(B))**2).sum(),r1)\n",
    "eq2 = Eq(((np.array([x,y]) - np.array(A))**2).sum(),r1)"
   ]
  },
  {
   "cell_type": "code",
   "execution_count": 14,
   "metadata": {},
   "outputs": [],
   "source": [
    "k = solve((eq1,eq2), (x, y))"
   ]
  },
  {
   "cell_type": "code",
   "execution_count": 15,
   "metadata": {},
   "outputs": [
    {
     "data": {
      "text/plain": [
       "[(0.476794919243112, 0.859807621135332),\n",
       " (0.823205080756888, 0.340192378864668)]"
      ]
     },
     "execution_count": 15,
     "metadata": {},
     "output_type": "execute_result"
    }
   ],
   "source": [
    "k"
   ]
  },
  {
   "cell_type": "code",
   "execution_count": 22,
   "metadata": {},
   "outputs": [],
   "source": [
    "def findCrossPointOfTowCirclesWithSameRadius(A,B):\n",
    "    \"\"\"计算两个分别以A,B为圆心的，r为半径的圆的交点\"\"\"\n",
    "    x, y = symbols('x y')\n",
    "    r = ((np.array(A) - np.array(B))**2).sum()\n",
    "    eq1 = Eq(((np.array([x,y]) - np.array(B))**2).sum(),r)\n",
    "    eq2 = Eq(((np.array([x,y]) - np.array(A))**2).sum(),r)\n",
    "    return solve((eq1,eq2), (x, y))"
   ]
  },
  {
   "cell_type": "code",
   "execution_count": 23,
   "metadata": {},
   "outputs": [
    {
     "data": {
      "text/plain": [
       "[(0.476794919243112, 0.859807621135332),\n",
       " (0.823205080756888, 0.340192378864668)]"
      ]
     },
     "execution_count": 23,
     "metadata": {},
     "output_type": "execute_result"
    }
   ],
   "source": [
    "findCrossPointOfTowCirclesWithSameRadius(A,B)"
   ]
  },
  {
   "cell_type": "code",
   "execution_count": null,
   "metadata": {},
   "outputs": [],
   "source": [
    "def findCrossPointOfLineAndCircle(lineStart,centerOfCircle,pointOnEdge):\n",
    "    \"\"\"计算经过lineStart,centerOfCircle两点的直线和以centerOfCircle为圆心，边经过pointOnEdge的圆的交点\"\"\"\n",
    "    x, y = symbols('x y')\n",
    "    x0,y0 = lineStart\n",
    "    x1,y1 = centerOfCircle\n",
    "\n",
    "    r = ((np.array(centerOfCircle) - np.array(pointOnEdge))**2).sum()\n",
    "    \n",
    "    \n",
    "    eq1 = Eq((x-x0)*(y-y1)-(x-x1)*(y-y0),0)\n",
    "    eq2 = Eq(((np.array([x,y]) - np.array(centerOfCircle))**2).sum(),r)\n",
    "    return solve((eq1,eq2), (x, y))"
   ]
  },
  {
   "cell_type": "code",
   "execution_count": 20,
   "metadata": {},
   "outputs": [],
   "source": [
    "x,y = [1,2]"
   ]
  },
  {
   "cell_type": "code",
   "execution_count": 21,
   "metadata": {},
   "outputs": [
    {
     "data": {
      "text/plain": [
       "1"
      ]
     },
     "execution_count": 21,
     "metadata": {},
     "output_type": "execute_result"
    }
   ],
   "source": [
    "x\n"
   ]
  },
  {
   "cell_type": "code",
   "execution_count": null,
   "metadata": {},
   "outputs": [],
   "source": []
  }
 ],
 "metadata": {
  "kernelspec": {
   "display_name": "Python 3",
   "language": "python",
   "name": "python3"
  },
  "language_info": {
   "codemirror_mode": {
    "name": "ipython",
    "version": 3
   },
   "file_extension": ".py",
   "mimetype": "text/x-python",
   "name": "python",
   "nbconvert_exporter": "python",
   "pygments_lexer": "ipython3",
   "version": "3.8.3"
  }
 },
 "nbformat": 4,
 "nbformat_minor": 4
}
