{
 "cells": [
  {
   "cell_type": "code",
   "execution_count": 1,
   "metadata": {},
   "outputs": [
    {
     "data": {
      "image/png": "[encoded data removed]",
      "text/plain": [
       "<Figure size 432x288 with 3 Axes>"
      ]
     },
     "metadata": {
      "needs_background": "light"
     },
     "output_type": "display_data"
    }
   ],
   "source": [
    "import matplotlib.pyplot as plt\n",
    "import numpy as np\n",
    "import matplotlib.gridspec as gridspec\n",
    "\n",
    "fig = plt.figure(tight_layout=True)\n",
    "gs = gridspec.GridSpec(2, 2)\n",
    "\n",
    "ax = fig.add_subplot(gs[0, :])\n",
    "ax.plot(np.arange(0, 1e6, 1000))\n",
    "ax.set_ylabel('YLabel0')\n",
    "ax.set_xlabel('XLabel0')\n",
    "\n",
    "for i in range(2):\n",
    "    ax = fig.add_subplot(gs[1, i])\n",
    "    ax.plot(np.arange(1., 0., -0.1) * 2000., np.arange(1., 0., -0.1))\n",
    "    ax.set_ylabel('YLabel1 %d' % i)\n",
    "    ax.set_xlabel('XLabel1 %d' % i)\n",
    "    if i == 0:\n",
    "        for tick in ax.get_xticklabels():\n",
    "            tick.set_rotation(55)\n",
    "fig.align_labels()"
   ]
  },
  {
   "cell_type": "code",
   "execution_count": 4,
   "metadata": {},
   "outputs": [
    {
     "name": "stdout",
     "output_type": "stream",
     "text": [
      "saving to C:\\Users\\yangshuxuan\\Euclid\\data\\titanic.csv\n"
     ]
    }
   ],
   "source": [
    "import os\n",
    "import requests\n",
    "def download(url: str, dest_folder: str):\n",
    "    if not os.path.exists(dest_folder):\n",
    "        os.makedirs(dest_folder)\n",
    "    filename = url.split('/')[-1].replace(\" \", \"_\")\n",
    "    file_path = os.path.join(dest_folder, filename)\n",
    "    r = requests.get(url, stream=True)\n",
    "    if r.ok:\n",
    "        print(\"saving to\", os.path.abspath(file_path))\n",
    "        with open(file_path, 'wb') as f:\n",
    "            for chunk in r.iter_content(chunk_size=1024 * 8):\n",
    "                if chunk:\n",
    "                    f.write(chunk)\n",
    "                    f.flush()\n",
    "                    os.fsync(f.fileno())\n",
    "    else:\n",
    "        print(\"Download failed: status code {}\\n{}\".format(r.status_code, r.text))\n",
    "url_to_titanic_data = 'https://web.stanford.edu/class/archive/cs/cs109/cs109.1166/stuff/titanic.csv'\n",
    "download(url_to_titanic_data,'./data')"
   ]
  },
  {
   "cell_type": "code",
   "execution_count": 13,
   "metadata": {},
   "outputs": [],
   "source": [
    "%matplotlib ipympl"
   ]
  },
  {
   "cell_type": "code",
   "execution_count": 12,
   "metadata": {},
   "outputs": [
    {
     "data": {
      "application/vnd.jupyter.widget-view+json": {
       "model_id": "abc5f667247241019a78257b0272a12f",
       "version_major": 2,
       "version_minor": 0
      },
      "text/plain": [
       "Canvas(toolbar=Toolbar(toolitems=[('Home', 'Reset original view', 'home', 'home'), ('Back', 'Back to previous …"
      ]
     },
     "metadata": {},
     "output_type": "display_data"
    }
   ],
   "source": [
    "import matplotlib.pyplot as plt\n",
    "import numpy as np\n",
    "\n",
    "# Fixing random state for reproducibility\n",
    "np.random.seed(19680801)\n",
    "\n",
    "\n",
    "# create some data to use for the plot\n",
    "dt = 0.001\n",
    "t = np.arange(0.0, 10.0, dt)\n",
    "r = np.exp(-t[:1000] / 0.05)  # impulse response\n",
    "x = np.random.randn(len(t))\n",
    "s = np.convolve(x, r)[:len(x)] * dt  # colored noise\n",
    "\n",
    "fig, main_ax = plt.subplots()\n",
    "main_ax.plot(t, s)\n",
    "main_ax.set_xlim(0, 1)\n",
    "main_ax.set_ylim(1.1 * np.min(s), 2 * np.max(s))\n",
    "main_ax.set_xlabel('time (s)')\n",
    "main_ax.set_ylabel('current (nA)')\n",
    "main_ax.set_title('Gaussian colored noise')\n",
    "\n",
    "# this is an inset axes over the main axes\n",
    "right_inset_ax = fig.add_axes([.65, .6, .2, .2], facecolor='k')\n",
    "right_inset_ax.hist(s, 400, density=True)\n",
    "right_inset_ax.set_title('Probability')\n",
    "right_inset_ax.set_xticks([])\n",
    "right_inset_ax.set_yticks([])\n",
    "\n",
    "# this is another inset axes over the main axes\n",
    "left_inset_ax = fig.add_axes([.2, 0.6, .2, .2], facecolor='k')\n",
    "left_inset_ax.plot(t[:len(r)], r)\n",
    "left_inset_ax.set_title('Impulse response')\n",
    "left_inset_ax.set_xlim(0, 0.2)\n",
    "left_inset_ax.set_xticks([])\n",
    "left_inset_ax.set_yticks([])\n",
    "\n",
    "plt.show()"
   ]
  },
  {
   "cell_type": "code",
   "execution_count": 13,
   "metadata": {},
   "outputs": [
    {
     "data": {
      "text/plain": [
       "\u001b[1;31mSignature:\u001b[0m \u001b[0mfig\u001b[0m\u001b[1;33m.\u001b[0m\u001b[0madd_axes\u001b[0m\u001b[1;33m(\u001b[0m\u001b[1;33m*\u001b[0m\u001b[0margs\u001b[0m\u001b[1;33m,\u001b[0m \u001b[1;33m**\u001b[0m\u001b[0mkwargs\u001b[0m\u001b[1;33m)\u001b[0m\u001b[1;33m\u001b[0m\u001b[1;33m\u001b[0m\u001b[0m\n",
       "\u001b[1;31mDocstring:\u001b[0m\n",
       "Add an axes to the figure.\n",
       "\n",
       "Call signatures::\n",
       "\n",
       "    add_axes(rect, projection=None, polar=False, **kwargs)\n",
       "    add_axes(ax)\n",
       "\n",
       "Parameters\n",
       "----------\n",
       "rect : sequence of float\n",
       "    The dimensions [left, bottom, width, height] of the new axes. All\n",
       "    quantities are in fractions of figure width and height.\n",
       "\n",
       "projection : {None, 'aitoff', 'hammer', 'lambert', 'mollweide', 'polar', 'rectilinear', str}, optional\n",
       "    The projection type of the `~.axes.Axes`. *str* is the name of\n",
       "    a custom projection, see `~matplotlib.projections`. The default\n",
       "    None results in a 'rectilinear' projection.\n",
       "\n",
       "polar : bool, default: False\n",
       "    If True, equivalent to projection='polar'.\n",
       "\n",
       "sharex, sharey : `~.axes.Axes`, optional\n",
       "    Share the x or y `~matplotlib.axis` with sharex and/or sharey.\n",
       "    The axis will have the same limits, ticks, and scale as the axis\n",
       "    of the shared axes.\n",
       "\n",
       "label : str\n",
       "    A label for the returned axes.\n",
       "\n",
       "Returns\n",
       "-------\n",
       "`~.axes.Axes`, or a subclass of `~.axes.Axes`\n",
       "    The returned axes class depends on the projection used. It is\n",
       "    `~.axes.Axes` if rectilinear projection is used and\n",
       "    `.projections.polar.PolarAxes` if polar projection is used.\n",
       "\n",
       "Other Parameters\n",
       "----------------\n",
       "**kwargs\n",
       "    This method also takes the keyword arguments for\n",
       "    the returned axes class. The keyword arguments for the\n",
       "    rectilinear axes class `~.axes.Axes` can be found in\n",
       "    the following table but there might also be other keyword\n",
       "    arguments if another projection is used, see the actual axes\n",
       "    class.\n",
       "\n",
       "    Properties:\n",
       "    adjustable: {'box', 'datalim'}\n",
       "    agg_filter: a filter function, which takes a (m, n, 3) float array and a dpi value, and returns a (m, n, 3) array\n",
       "    alpha: float or None\n",
       "    anchor: 2-tuple of floats or {'C', 'SW', 'S', 'SE', ...}\n",
       "    animated: bool\n",
       "    aspect: {'auto'} or num\n",
       "    autoscale_on: bool\n",
       "    autoscalex_on: bool\n",
       "    autoscaley_on: bool\n",
       "    axes_locator: Callable[[Axes, Renderer], Bbox]\n",
       "    axisbelow: bool or 'line'\n",
       "    box_aspect: None, or a number\n",
       "    clip_box: `.Bbox`\n",
       "    clip_on: bool\n",
       "    clip_path: Patch or (Path, Transform) or None\n",
       "    contains: unknown\n",
       "    facecolor or fc: color\n",
       "    figure: `.Figure`\n",
       "    frame_on: bool\n",
       "    gid: str\n",
       "    in_layout: bool\n",
       "    label: object\n",
       "    navigate: bool\n",
       "    navigate_mode: unknown\n",
       "    path_effects: `.AbstractPathEffect`\n",
       "    picker: None or bool or callable\n",
       "    position: [left, bottom, width, height] or `~matplotlib.transforms.Bbox`\n",
       "    prop_cycle: unknown\n",
       "    rasterization_zorder: float or None\n",
       "    rasterized: bool or None\n",
       "    sketch_params: (scale: float, length: float, randomness: float)\n",
       "    snap: bool or None\n",
       "    title: str\n",
       "    transform: `.Transform`\n",
       "    url: str\n",
       "    visible: bool\n",
       "    xbound: unknown\n",
       "    xlabel: str\n",
       "    xlim: (bottom: float, top: float)\n",
       "    xmargin: float greater than -0.5\n",
       "    xscale: {\"linear\", \"log\", \"symlog\", \"logit\", ...}\n",
       "    xticklabels: unknown\n",
       "    xticks: unknown\n",
       "    ybound: unknown\n",
       "    ylabel: str\n",
       "    ylim: (bottom: float, top: float)\n",
       "    ymargin: float greater than -0.5\n",
       "    yscale: {\"linear\", \"log\", \"symlog\", \"logit\", ...}\n",
       "    yticklabels: unknown\n",
       "    yticks: unknown\n",
       "    zorder: float\n",
       "\n",
       "Notes\n",
       "-----\n",
       "If the figure already has an axes with key (*args*,\n",
       "*kwargs*) then it will simply make that axes current and\n",
       "return it.  This behavior is deprecated. Meanwhile, if you do\n",
       "not want this behavior (i.e., you want to force the creation of a\n",
       "new axes), you must use a unique set of args and kwargs.  The axes\n",
       "*label* attribute has been exposed for this purpose: if you want\n",
       "two axes that are otherwise identical to be added to the figure,\n",
       "make sure you give them unique labels.\n",
       "\n",
       "In rare circumstances, `.add_axes` may be called with a single\n",
       "argument, a axes instance already created in the present figure but\n",
       "not in the figure's list of axes.\n",
       "\n",
       "See Also\n",
       "--------\n",
       ".Figure.add_subplot\n",
       ".pyplot.subplot\n",
       ".pyplot.axes\n",
       ".Figure.subplots\n",
       ".pyplot.subplots\n",
       "\n",
       "Examples\n",
       "--------\n",
       "Some simple examples::\n",
       "\n",
       "    rect = l, b, w, h\n",
       "    fig = plt.figure()\n",
       "    fig.add_axes(rect, label=label1)\n",
       "    fig.add_axes(rect, label=label2)\n",
       "    fig.add_axes(rect, frameon=False, facecolor='g')\n",
       "    fig.add_axes(rect, polar=True)\n",
       "    ax = fig.add_axes(rect, projection='polar')\n",
       "    fig.delaxes(ax)\n",
       "    fig.add_axes(ax)\n",
       "\u001b[1;31mFile:\u001b[0m      c:\\programdata\\miniconda3\\lib\\site-packages\\matplotlib\\figure.py\n",
       "\u001b[1;31mType:\u001b[0m      method\n"
      ]
     },
     "metadata": {},
     "output_type": "display_data"
    }
   ],
   "source": [
    "fig.add_axes?"
   ]
  },
  {
   "cell_type": "code",
   "execution_count": 10,
   "metadata": {},
   "outputs": [
    {
     "data": {
      "image/png": "[encoded data removed]",
      "text/plain": [
       "<Figure size 432x288 with 3 Axes>"
      ]
     },
     "metadata": {
      "needs_background": "light"
     },
     "output_type": "display_data"
    }
   ],
   "source": [
    "import numpy as np\n",
    "import matplotlib.pyplot as plt\n",
    "\n",
    "\n",
    "def f(t):\n",
    "    return np.exp(-t) * np.cos(2*np.pi*t)\n",
    "\n",
    "\n",
    "t1 = np.arange(0.0, 3.0, 0.01)\n",
    "\n",
    "ax1 = plt.subplot(212)\n",
    "ax1.margins(0.05)           # Default margin is 0.05, value 0 means fit\n",
    "ax1.plot(t1, f(t1))\n",
    "\n",
    "ax2 = plt.subplot(221)\n",
    "ax2.margins(2, 2)           # Values >0.0 zoom out\n",
    "ax2.plot(t1, f(t1))\n",
    "ax2.set_title('Zoomed out')\n",
    "\n",
    "ax3 = plt.subplot(222)\n",
    "ax3.margins(x=0, y=-0.25)   # Values in (-0.5, 0.0) zooms in to center\n",
    "ax3.plot(t1, f(t1))\n",
    "ax3.set_title('Zoomed in')\n",
    "\n",
    "plt.show()"
   ]
  },
  {
   "cell_type": "code",
   "execution_count": 14,
   "metadata": {},
   "outputs": [
    {
     "data": {
      "application/vnd.jupyter.widget-view+json": {
       "model_id": "c68a644b620c484995e412fc90f55795",
       "version_major": 2,
       "version_minor": 0
      },
      "text/plain": [
       "Canvas(toolbar=Toolbar(toolitems=[('Home', 'Reset original view', 'home', 'home'), ('Back', 'Back to previous …"
      ]
     },
     "metadata": {},
     "output_type": "display_data"
    }
   ],
   "source": [
    "y, x = np.mgrid[:5, 1:6]\n",
    "poly_coords = [\n",
    "    (0.25, 2.75), (3.25, 2.75),\n",
    "    (2.25, 0.75), (0.25, 0.75)\n",
    "]\n",
    "fig, (ax1, ax2) = plt.subplots(ncols=2)\n",
    "\n",
    "# Here we set the stickiness of the axes object...\n",
    "# ax1 we'll leave as the default, which uses sticky edges\n",
    "# and we'll turn off stickiness for ax2\n",
    "ax2.use_sticky_edges = False\n",
    "\n",
    "for ax, status in zip((ax1, ax2), ('Is', 'Is Not')):\n",
    "    cells = ax.pcolor(x, y, x+y, cmap='inferno',shading='auto')  # sticky\n",
    "    ax.add_patch(\n",
    "        plt.Polygon(poly_coords, color='forestgreen', alpha=0.5)\n",
    "    )  # not sticky\n",
    "    ax.margins(x=0.1, y=0.05)\n",
    "    ax.set_aspect('equal')\n",
    "    ax.set_title('{} Sticky'.format(status))\n",
    "\n",
    "plt.show()"
   ]
  },
  {
   "cell_type": "code",
   "execution_count": 16,
   "metadata": {},
   "outputs": [
    {
     "data": {
      "application/vnd.jupyter.widget-view+json": {
       "model_id": "9fdcda8b521542ad948aff6ce0120967",
       "version_major": 2,
       "version_minor": 0
      },
      "text/plain": [
       "Canvas(toolbar=Toolbar(toolitems=[('Home', 'Reset original view', 'home', 'home'), ('Back', 'Back to previous …"
      ]
     },
     "metadata": {},
     "output_type": "display_data"
    },
    {
     "data": {
      "text/plain": [
       "Text(0.5, 1.0, 'Simple plot')"
      ]
     },
     "execution_count": 16,
     "metadata": {},
     "output_type": "execute_result"
    }
   ],
   "source": [
    "x = np.linspace(0, 2*np.pi, 400)\n",
    "y = np.sin(x**2)\n",
    "\n",
    "# Create a figure\n",
    "fig = plt.figure()\n",
    "\n",
    "# Create a subplot\n",
    "ax = fig.subplots()\n",
    "ax.plot(x, y)\n",
    "ax.set_title('Simple plot')"
   ]
  },
  {
   "cell_type": "code",
   "execution_count": 17,
   "metadata": {},
   "outputs": [
    {
     "data": {
      "application/vnd.jupyter.widget-view+json": {
       "model_id": "d5c59fe866114af3a2caf288709b7875",
       "version_major": 2,
       "version_minor": 0
      },
      "text/plain": [
       "Canvas(toolbar=Toolbar(toolitems=[('Home', 'Reset original view', 'home', 'home'), ('Back', 'Back to previous …"
      ]
     },
     "metadata": {},
     "output_type": "display_data"
    }
   ],
   "source": [
    "import matplotlib.gridspec as gridspec\n",
    "plt.rcParams['savefig.facecolor'] = \"0.8\"\n",
    "def example_plot(ax, fontsize=12):\n",
    "    ax.plot([1, 2])\n",
    "\n",
    "    ax.locator_params(nbins=3)\n",
    "    ax.set_xlabel('x-label', fontsize=fontsize)\n",
    "    ax.set_ylabel('y-label', fontsize=fontsize)\n",
    "    ax.set_title('Title', fontsize=fontsize)\n",
    "plt.close('all')\n",
    "fig = plt.figure()\n",
    "\n",
    "gs1 = gridspec.GridSpec(2, 1)\n",
    "ax1 = fig.add_subplot(gs1[0])\n",
    "ax2 = fig.add_subplot(gs1[1])\n",
    "\n",
    "example_plot(ax1)\n",
    "example_plot(ax2)\n",
    "gs1.tight_layout(fig)"
   ]
  },
  {
   "cell_type": "code",
   "execution_count": 18,
   "metadata": {},
   "outputs": [
    {
     "data": {
      "text/plain": [
       "'C:\\\\Users\\\\yangshuxuan\\\\.matplotlib'"
      ]
     },
     "execution_count": 18,
     "metadata": {},
     "output_type": "execute_result"
    }
   ],
   "source": [
    "import matplotlib\n",
    "matplotlib.get_configdir()"
   ]
  },
  {
   "cell_type": "code",
   "execution_count": 21,
   "metadata": {},
   "outputs": [],
   "source": [
    "import matplotlib.pyplot as plt\n",
    "plt.style.use('C:\\\\Users\\\\yangshuxuan\\\\.matplotlib\\\\stylelib\\\\presentation.mplstyle')"
   ]
  },
  {
   "cell_type": "code",
   "execution_count": null,
   "metadata": {},
   "outputs": [],
   "source": []
  }
 ],
 "metadata": {
  "kernelspec": {
   "display_name": "Python 3",
   "language": "python",
   "name": "python3"
  },
  "language_info": {
   "codemirror_mode": {
    "name": "ipython",
    "version": 3
   },
   "file_extension": ".py",
   "mimetype": "text/x-python",
   "name": "python",
   "nbconvert_exporter": "python",
   "pygments_lexer": "ipython3",
   "version": "3.8.3"
  }
 },
 "nbformat": 4,
 "nbformat_minor": 4
}
