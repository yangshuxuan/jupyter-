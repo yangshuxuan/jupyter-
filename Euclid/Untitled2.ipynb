{
 "cells": [
  {
   "cell_type": "code",
   "execution_count": 1,
   "metadata": {},
   "outputs": [],
   "source": [
    "%matplotlib widget"
   ]
  },
  {
   "cell_type": "code",
   "execution_count": 4,
   "metadata": {},
   "outputs": [
    {
     "data": {
      "application/vnd.jupyter.widget-view+json": {
       "model_id": "d30b499c2e0d4088a39bd6a4d68fe06a",
       "version_major": 2,
       "version_minor": 0
      },
      "text/plain": [
       "Canvas(toolbar=Toolbar(toolitems=[('Home', 'Reset original view', 'home', 'home'), ('Back', 'Back to previous …"
      ]
     },
     "metadata": {},
     "output_type": "display_data"
    }
   ],
   "source": [
    "import numpy as np\n",
    "import matplotlib.pyplot as plt\n",
    "import matplotlib.animation as animation\n",
    "\n",
    "\n",
    "def data_gen():\n",
    "    for cnt in range(1000):\n",
    "        t = cnt / 10\n",
    "        yield t, np.sin(2*np.pi*t) * np.exp(-t/10.)\n",
    "\n",
    "\n",
    "def init():\n",
    "    ax.set_ylim(-1.1, 1.1)\n",
    "    ax.set_xlim(0, 10)\n",
    "    del xdata[:]\n",
    "    del ydata[:]\n",
    "    line.set_data(xdata, ydata)\n",
    "    return line,\n",
    "\n",
    "fig, ax = plt.subplots()\n",
    "line, = ax.plot([], [], lw=2)\n",
    "ax.grid()\n",
    "xdata, ydata = [], []\n",
    "\n",
    "\n",
    "def run(data):\n",
    "    # update the data\n",
    "    t, y = data\n",
    "    xdata.append(t)\n",
    "    ydata.append(y)\n",
    "    xmin, xmax = ax.get_xlim()\n",
    "\n",
    "    if t >= xmax:\n",
    "        ax.set_xlim(xmin, 2*xmax)\n",
    "        ax.figure.canvas.draw()\n",
    "    line.set_data(xdata, ydata)\n",
    "\n",
    "    return line,\n",
    "\n",
    "ani = animation.FuncAnimation(fig, run, data_gen, blit=False, interval=10,\n",
    "                              repeat=False, init_func=init)\n",
    "plt.show()"
   ]
  },
  {
   "cell_type": "code",
   "execution_count": 60,
   "metadata": {},
   "outputs": [],
   "source": [
    "import numpy as np\n",
    "\n",
    "import matplotlib.pyplot as plt\n",
    "import matplotlib.patches as patches\n",
    "import matplotlib.path as path\n",
    "import matplotlib.animation as animation\n",
    "\n",
    "# Fixing random state for reproducibility\n",
    "np.random.seed(19680801)\n",
    "\n",
    "# histogram our data with numpy\n",
    "data = np.random.randn(1000)\n",
    "n, bins = np.histogram(data, 100)\n",
    "initBins = bins\n",
    "# get the corners of the rectangles for the histogram\n",
    "left = np.array(bins[:-1])\n",
    "right = np.array(bins[1:])\n",
    "bottom = np.zeros(len(left))\n",
    "top = bottom + n\n",
    "nrects = len(left)"
   ]
  },
  {
   "cell_type": "code",
   "execution_count": 61,
   "metadata": {},
   "outputs": [],
   "source": [
    "nverts = nrects * (1 + 3 + 1)\n",
    "verts = np.zeros((nverts, 2))\n",
    "codes = np.ones(nverts, int) * path.Path.LINETO\n",
    "codes[0::5] = path.Path.MOVETO\n",
    "codes[4::5] = path.Path.CLOSEPOLY\n",
    "verts[0::5, 0] = left\n",
    "verts[0::5, 1] = bottom\n",
    "verts[1::5, 0] = left\n",
    "verts[1::5, 1] = top\n",
    "verts[2::5, 0] = right\n",
    "verts[2::5, 1] = top\n",
    "verts[3::5, 0] = right\n",
    "verts[3::5, 1] = bottom"
   ]
  },
  {
   "cell_type": "code",
   "execution_count": 65,
   "metadata": {},
   "outputs": [
    {
     "data": {
      "text/plain": [
       "array([-3.60332649, -3.52698161, -3.45063674, -3.37429186, -3.29794698,\n",
       "       -3.2216021 , -3.14525722, -3.06891234, -2.99256747, -2.91622259,\n",
       "       -2.83987771, -2.76353283, -2.68718795, -2.61084307, -2.5344982 ,\n",
       "       -2.45815332, -2.38180844, -2.30546356, -2.22911868, -2.1527738 ,\n",
       "       -2.07642893, -2.00008405, -1.92373917, -1.84739429, -1.77104941,\n",
       "       -1.69470453, -1.61835966, -1.54201478, -1.4656699 , -1.38932502,\n",
       "       -1.31298014, -1.23663526, -1.16029039, -1.08394551, -1.00760063,\n",
       "       -0.93125575, -0.85491087, -0.778566  , -0.70222112, -0.62587624,\n",
       "       -0.54953136, -0.47318648, -0.3968416 , -0.32049673, -0.24415185,\n",
       "       -0.16780697, -0.09146209, -0.01511721,  0.06122767,  0.13757254,\n",
       "        0.21391742,  0.2902623 ,  0.36660718,  0.44295206,  0.51929694,\n",
       "        0.59564181,  0.67198669,  0.74833157,  0.82467645,  0.90102133,\n",
       "        0.97736621,  1.05371108,  1.13005596,  1.20640084,  1.28274572,\n",
       "        1.3590906 ,  1.43543548,  1.51178035,  1.58812523,  1.66447011,\n",
       "        1.74081499,  1.81715987,  1.89350475,  1.96984962,  2.0461945 ,\n",
       "        2.12253938,  2.19888426,  2.27522914,  2.35157402,  2.42791889,\n",
       "        2.50426377,  2.58060865,  2.65695353,  2.73329841,  2.80964329,\n",
       "        2.88598816,  2.96233304,  3.03867792,  3.1150228 ,  3.19136768,\n",
       "        3.26771256,  3.34405743,  3.42040231,  3.49674719,  3.57309207,\n",
       "        3.64943695,  3.72578183,  3.8021267 ,  3.87847158,  3.95481646,\n",
       "        4.03116134])"
      ]
     },
     "execution_count": 65,
     "metadata": {},
     "output_type": "execute_result"
    }
   ],
   "source": []
  },
  {
   "cell_type": "code",
   "execution_count": 62,
   "metadata": {},
   "outputs": [],
   "source": [
    "patch = None\n",
    "\n",
    "\n",
    "def animate(i):\n",
    "    # simulate new data coming in\n",
    "    data = np.random.randn(1000)\n",
    "    n, bins = np.histogram(data, initBins)\n",
    "    top = bottom + n\n",
    "    verts[1::5, 1] = top\n",
    "    verts[2::5, 1] = top\n",
    "    return [patch, ]"
   ]
  },
  {
   "cell_type": "code",
   "execution_count": 70,
   "metadata": {},
   "outputs": [
    {
     "data": {
      "application/vnd.jupyter.widget-view+json": {
       "model_id": "4dc09f80e67a473480c67d2ee1bd45b5",
       "version_major": 2,
       "version_minor": 0
      },
      "text/plain": [
       "Canvas(toolbar=Toolbar(toolitems=[('Home', 'Reset original view', 'home', 'home'), ('Back', 'Back to previous …"
      ]
     },
     "metadata": {},
     "output_type": "display_data"
    }
   ],
   "source": [
    "fig, ax = plt.subplots()\n",
    "barpath = path.Path(verts, codes)\n",
    "patch = patches.PathPatch(\n",
    "    barpath, facecolor='yellow', edgecolor='black', alpha=1.0)\n",
    "ax.add_patch(patch)\n",
    "\n",
    "ax.set_xlim(left[0], right[-1])\n",
    "ax.set_ylim(bottom.min(), top.max())\n",
    "\n",
    "ani = animation.FuncAnimation(fig, animate, 30, repeat=False, blit=True)\n",
    "plt.show()"
   ]
  },
  {
   "cell_type": "code",
   "execution_count": 2,
   "metadata": {},
   "outputs": [
    {
     "data": {
      "application/vnd.jupyter.widget-view+json": {
       "model_id": "d2a5db0235974eee9a85798eb84b6268",
       "version_major": 2,
       "version_minor": 0
      },
      "text/plain": [
       "Canvas(toolbar=Toolbar(toolitems=[('Home', 'Reset original view', 'home', 'home'), ('Back', 'Back to previous …"
      ]
     },
     "metadata": {},
     "output_type": "display_data"
    }
   ],
   "source": [
    "import math\n",
    "\n",
    "import numpy as np\n",
    "import matplotlib.pyplot as plt\n",
    "from matplotlib.animation import FuncAnimation\n",
    "\n",
    "\n",
    "def beta_pdf(x, a, b):\n",
    "    return (x**(a-1) * (1-x)**(b-1) * math.gamma(a + b)\n",
    "            / (math.gamma(a) * math.gamma(b)))\n",
    "\n",
    "\n",
    "class UpdateDist:\n",
    "    def __init__(self, ax, prob=0.5):\n",
    "        self.success = 0\n",
    "        self.prob = prob\n",
    "        self.line, = ax.plot([], [], 'k-')\n",
    "        self.x = np.linspace(0, 1, 200)\n",
    "        self.ax = ax\n",
    "\n",
    "        # Set up plot parameters\n",
    "        self.ax.set_xlim(0, 1)\n",
    "        self.ax.set_ylim(0, 15)\n",
    "        self.ax.grid(True)\n",
    "\n",
    "        # This vertical line represents the theoretical value, to\n",
    "        # which the plotted distribution should converge.\n",
    "        self.ax.axvline(prob, linestyle='--', color='black')\n",
    "\n",
    "    def init(self):\n",
    "        self.success = 0\n",
    "        self.line.set_data([], [])\n",
    "        return self.line,\n",
    "\n",
    "    def __call__(self, i):\n",
    "        # This way the plot can continuously run and we just keep\n",
    "        # watching new realizations of the process\n",
    "        if i == 0:\n",
    "            return self.init()\n",
    "\n",
    "        # Choose success based on exceed a threshold with a uniform pick\n",
    "        if np.random.rand(1,) < self.prob:\n",
    "            self.success += 1\n",
    "        y = beta_pdf(self.x, self.success + 1, (i - self.success) + 1)\n",
    "        self.line.set_data(self.x, y)\n",
    "        return self.line,\n",
    "\n",
    "# Fixing random state for reproducibility\n",
    "np.random.seed(19680801)\n",
    "\n",
    "\n",
    "fig, ax = plt.subplots()\n",
    "ud = UpdateDist(ax, prob=0.7)\n",
    "anim = FuncAnimation(fig, ud, frames=np.arange(100), init_func=ud.init,\n",
    "                     interval=100, blit=True,repeat=False)\n",
    "plt.show()"
   ]
  },
  {
   "cell_type": "code",
   "execution_count": null,
   "metadata": {},
   "outputs": [],
   "source": []
  }
 ],
 "metadata": {
  "kernelspec": {
   "display_name": "Python 3",
   "language": "python",
   "name": "python3"
  },
  "language_info": {
   "codemirror_mode": {
    "name": "ipython",
    "version": 3
   },
   "file_extension": ".py",
   "mimetype": "text/x-python",
   "name": "python",
   "nbconvert_exporter": "python",
   "pygments_lexer": "ipython3",
   "version": "3.8.3"
  }
 },
 "nbformat": 4,
 "nbformat_minor": 4
}
