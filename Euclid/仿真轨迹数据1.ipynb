{
 "cells": [
  {
   "cell_type": "code",
   "execution_count": null,
   "metadata": {},
   "outputs": [],
   "source": [
    "import numpy as np\n",
    "import pandas as pd\n",
    "import requests\n",
    "import json\n",
    "from datetime import timedelta, datetime, tzinfo, timezone\n",
    "import random"
   ]
  },
  {
   "cell_type": "code",
   "execution_count": null,
   "metadata": {},
   "outputs": [],
   "source": [
    "np.random.seed(1)"
   ]
  },
  {
   "cell_type": "code",
   "execution_count": null,
   "metadata": {},
   "outputs": [],
   "source": [
    "k = 5"
   ]
  },
  {
   "cell_type": "code",
   "execution_count": null,
   "metadata": {},
   "outputs": [],
   "source": [
    "r = ( 0.1 ** 2 *2)**0.5"
   ]
  },
  {
   "cell_type": "code",
   "execution_count": null,
   "metadata": {},
   "outputs": [],
   "source": [
    "randomDegree = np.random.uniform(0,np.pi * 2,10).reshape((10,1))"
   ]
  },
  {
   "cell_type": "code",
   "execution_count": null,
   "metadata": {},
   "outputs": [],
   "source": [
    "normalSigma = 0.1\n",
    "normalSampleNum = 500 #样本数\n",
    "startPoint=[31.23, 121.47] #此处是China ShangHai"
   ]
  },
  {
   "cell_type": "code",
   "execution_count": null,
   "metadata": {},
   "outputs": [],
   "source": [
    "for lng,lat in np.concatenate((np.cos(randomDegree), np.sin(randomDegree)), axis=1)*r:\n",
    "    normalIntervalSampleLng = np.random.normal(lng, normalSigma, normalSampleNum).reshape((normalSampleNum,1))#同时生成经度和纬度的增量，因此是2\n",
    "    normalIntervalSampleLat = np.random.normal(lat, normalSigma, normalSampleNum).reshape((normalSampleNum,1))#同时生成经度和纬度的增量，因此是2\n",
    "    normalIntervalSample = np.concatenate((normalIntervalSampleLng, normalIntervalSampleLat), axis=1)\n",
    "    normalSample = normalIntervalSample.cumsum(0) + np.array(startPoint).reshape((1,2))\n",
    "    df = pd.DataFrame(normalSample,columns=['Lat', 'Long'])\n",
    "    df.plot.line(x = 'Lat', y = 'Long',figsize=(20,10))"
   ]
  },
  {
   "cell_type": "code",
   "execution_count": null,
   "metadata": {},
   "outputs": [],
   "source": [
    "\n"
   ]
  },
  {
   "cell_type": "code",
   "execution_count": null,
   "metadata": {},
   "outputs": [],
   "source": [
    "normalIntervalSampleLat = np.random.normal(lat, normalSigma, normalSampleNum).reshape((500,1))#同时生成经度和纬度的增量，因此是2"
   ]
  },
  {
   "cell_type": "code",
   "execution_count": null,
   "metadata": {},
   "outputs": [],
   "source": []
  },
  {
   "cell_type": "code",
   "execution_count": null,
   "metadata": {},
   "outputs": [],
   "source": [
    "normalIntervalSample = np.concatenate((normalIntervalSampleLng, normalIntervalSampleLat), axis=1)"
   ]
  },
  {
   "cell_type": "code",
   "execution_count": null,
   "metadata": {},
   "outputs": [],
   "source": [
    "normalSample = normalIntervalSample.cumsum(0) + np.array(startPoint).reshape((1,2))"
   ]
  },
  {
   "cell_type": "code",
   "execution_count": null,
   "metadata": {},
   "outputs": [],
   "source": [
    "df = pd.DataFrame(normalSample,columns=['Lat', 'Long'])\n",
    "df.plot.line(x = 'Lat', y = 'Long',figsize=(20,10))"
   ]
  },
  {
   "cell_type": "code",
   "execution_count": null,
   "metadata": {},
   "outputs": [],
   "source": []
  },
  {
   "cell_type": "code",
   "execution_count": null,
   "metadata": {},
   "outputs": [],
   "source": [
    "def updateTrajectory(object_id,occurtime,lng,lat):\n",
    "    data = {\n",
    "        \"object_id\": str(object_id),\n",
    "        \"gps_points\": [\n",
    "            {\n",
    "                    \"occurtime\": occurtime.strftime(\"%Y-%m-%d %H:%M:%S\"),\n",
    "                    \"long\": lng,\n",
    "                    \"lat\": lat\n",
    "                }\n",
    "        ]\n",
    "    }\n",
    "    headers = {\"Content-Type\": \"application/json\"}\n",
    "    r = requests.put('http://192.168.15.1:5002/objecttrajactory/{}'.format(object_id), data =json.dumps(data),headers=headers)\n",
    "    print(\"updateTrajectory {} ---> {}\".format(object_id,r.status_code))\n",
    "    "
   ]
  },
  {
   "cell_type": "code",
   "execution_count": null,
   "metadata": {},
   "outputs": [],
   "source": [
    "def updateLastPoint(object_id,lastmodified_time,lng,lat):\n",
    "    data = {\n",
    "        \"object_id\": str(object_id),\n",
    "        \"lastmodified_time\": lastmodified_time.strftime(\"%Y-%m-%d %H:%M:%S\"),\n",
    "        \"long\": lng,\n",
    "        \"lat\": lat\n",
    "    }\n",
    "    headers = {\"Content-Type\": \"application/json\"}\n",
    "    r = requests.put('http://192.168.15.1:5002/lastappeared/{}'.format(object_id), data =json.dumps(data),headers=headers)\n",
    "    print(\"updateLastPoint {} ---> {}\".format(object_id,r.status_code))"
   ]
  },
  {
   "cell_type": "code",
   "execution_count": null,
   "metadata": {},
   "outputs": [],
   "source": [
    "normalSigma = 0.1\n",
    "trackNum = 100\n",
    "normalSampleNumMax = 50 #样本数\n",
    "normalSampleNumMin = 10 #样本数\n",
    "startPoints=[(35.629104, 139.751159),(18.465228, 121.020231)] #此处是China ShangHai TaiBei\n",
    "randomDegree = np.random.uniform(0,np.pi * 2,trackNum).reshape((trackNum,1))\n",
    "r = ( 0.1 ** 2 *2)**0.5\n",
    "beginObject_id = 0\n",
    "\n",
    "startDatetime = datetime.now()\n",
    "delta = timedelta(minutes=2)\n",
    "\n",
    "\n"
   ]
  },
  {
   "cell_type": "code",
   "execution_count": null,
   "metadata": {},
   "outputs": [],
   "source": [
    "startObject_id = beginObject_id\n",
    "for lng,lat in np.concatenate((np.cos(randomDegree), np.sin(randomDegree)), axis=1)*r:\n",
    "    normalSampleNum = random.choice(range(normalSampleNumMin,normalSampleNumMax))\n",
    "    startPoint = random.choice(startPoints)\n",
    "    occurtime = startDatetime\n",
    "    normalIntervalSampleLng = np.random.normal(lng, normalSigma, normalSampleNum).reshape((normalSampleNum,1))#同时生成经度和纬度的增量，因此是2\n",
    "    normalIntervalSampleLat = np.random.normal(lat, normalSigma, normalSampleNum).reshape((normalSampleNum,1))#同时生成经度和纬度的增量，因此是2\n",
    "    normalIntervalSample = np.concatenate((normalIntervalSampleLng, normalIntervalSampleLat), axis=1)\n",
    "    normalSample = normalIntervalSample.cumsum(0) + np.array(startPoint).reshape((1,2))\n",
    "    for lat,lng in normalSample:\n",
    "        updateTrajectory(startObject_id,occurtime,lng,lat)\n",
    "        updateLastPoint(startObject_id,occurtime,lng,lat)\n",
    "        occurtime += delta\n",
    "    startObject_id +=1\n"
   ]
  },
  {
   "cell_type": "code",
   "execution_count": null,
   "metadata": {},
   "outputs": [],
   "source": [
    "def updateMachineTypes(object_id,machinetype):\n",
    "    data = {\n",
    "        \"object_id\": str(object_id),\n",
    "        \"machinetype\": machinetype\n",
    "\n",
    "    }\n",
    "\n",
    "    headers = {\"Content-Type\": \"application/json\"}\n",
    "    r = requests.post('http://192.168.15.1:5002/machinetype', data =json.dumps(data),headers=headers)\n",
    "    print(\"updateMachineTypes {} ---> {}\".format(object_id,r.status_code))\n",
    "machine_types = [\"加油机\",\"侦察机\",\"战斗机\",\"预警机\"]\n",
    "for i in range(beginObject_id,beginObject_id + trackNum):\n",
    "    updateMachineTypes(i,random.choice(machine_types))\n",
    "    "
   ]
  },
  {
   "cell_type": "code",
   "execution_count": null,
   "metadata": {},
   "outputs": [],
   "source": [
    "def updateExceptiontypes(object_id,exceptiontype):\n",
    "    data = {\n",
    "        \"object_id\": str(object_id),\n",
    "        \"exceptiontype\": exceptiontype\n",
    "\n",
    "    }\n",
    "\n",
    "    headers = {\"Content-Type\": \"application/json\"}\n",
    "    r = requests.post('http://192.168.15.1:5002/exceptiontype', data =json.dumps(data),headers=headers)\n",
    "    print(\"updateExceptionTypes {} ---> {}\".format(object_id,r.status_code))\n",
    "exceptiontype = [\"盘旋异常\",\"停留异常\"]\n",
    "for i in range(beginObject_id,beginObject_id + trackNum):\n",
    "    updateExceptiontypes(i,random.choice(exceptiontype))"
   ]
  },
  {
   "cell_type": "code",
   "execution_count": null,
   "metadata": {},
   "outputs": [],
   "source": [
    "random.choice(range(normalSampleNumMin,normalSampleNumMax))"
   ]
  },
  {
   "cell_type": "code",
   "execution_count": null,
   "metadata": {},
   "outputs": [],
   "source": []
  }
 ],
 "metadata": {
  "kernelspec": {
   "display_name": "Python 3",
   "language": "python",
   "name": "python3"
  },
  "language_info": {
   "codemirror_mode": {
    "name": "ipython",
    "version": 3
   },
   "file_extension": ".py",
   "mimetype": "text/x-python",
   "name": "python",
   "nbconvert_exporter": "python",
   "pygments_lexer": "ipython3",
   "version": "3.8.3"
  }
 },
 "nbformat": 4,
 "nbformat_minor": 4
}
