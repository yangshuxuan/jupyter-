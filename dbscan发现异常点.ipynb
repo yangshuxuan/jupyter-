{
 "cells": [
  {
   "cell_type": "code",
   "execution_count": 2,
   "metadata": {},
   "outputs": [],
   "source": [
    "import numpy as np\n",
    "import pandas as pd\n",
    "from shapely.geometry import Point\n",
    "import matplotlib.pyplot as plt"
   ]
  },
  {
   "cell_type": "code",
   "execution_count": 3,
   "metadata": {},
   "outputs": [
    {
     "data": {
      "text/html": [
       "<div>\n",
       "<style scoped>\n",
       "    .dataframe tbody tr th:only-of-type {\n",
       "        vertical-align: middle;\n",
       "    }\n",
       "\n",
       "    .dataframe tbody tr th {\n",
       "        vertical-align: top;\n",
       "    }\n",
       "\n",
       "    .dataframe thead th {\n",
       "        text-align: right;\n",
       "    }\n",
       "</style>\n",
       "<table border=\"1\" class=\"dataframe\">\n",
       "  <thead>\n",
       "    <tr style=\"text-align: right;\">\n",
       "      <th></th>\n",
       "      <th>AdvisoryNumber</th>\n",
       "      <th>Date</th>\n",
       "      <th>Lat</th>\n",
       "      <th>Long</th>\n",
       "      <th>Wind</th>\n",
       "      <th>Pres</th>\n",
       "      <th>Movement</th>\n",
       "      <th>Type</th>\n",
       "      <th>Name</th>\n",
       "      <th>Received</th>\n",
       "      <th>Forecaster</th>\n",
       "    </tr>\n",
       "  </thead>\n",
       "  <tbody>\n",
       "    <tr>\n",
       "      <th>0</th>\n",
       "      <td>1</td>\n",
       "      <td>08/30/2018 11:00</td>\n",
       "      <td>12.9</td>\n",
       "      <td>18.4</td>\n",
       "      <td>30</td>\n",
       "      <td>1007</td>\n",
       "      <td>W at 12 MPH (280 deg)</td>\n",
       "      <td>Potential Tropical Cyclone</td>\n",
       "      <td>Six</td>\n",
       "      <td>08/30/2018 10:45</td>\n",
       "      <td>Avila</td>\n",
       "    </tr>\n",
       "    <tr>\n",
       "      <th>1</th>\n",
       "      <td>1A</td>\n",
       "      <td>08/30/2018 14:00</td>\n",
       "      <td>12.9</td>\n",
       "      <td>19.0</td>\n",
       "      <td>30</td>\n",
       "      <td>1007</td>\n",
       "      <td>W at 12 MPH (280 deg)</td>\n",
       "      <td>Potential Tropical Cyclone</td>\n",
       "      <td>Six</td>\n",
       "      <td>08/30/2018 13:36</td>\n",
       "      <td>Avila</td>\n",
       "    </tr>\n",
       "    <tr>\n",
       "      <th>2</th>\n",
       "      <td>2</td>\n",
       "      <td>08/30/2018 17:00</td>\n",
       "      <td>12.9</td>\n",
       "      <td>19.4</td>\n",
       "      <td>30</td>\n",
       "      <td>1007</td>\n",
       "      <td>W at 9 MPH (280 deg)</td>\n",
       "      <td>Potential Tropical Cyclone</td>\n",
       "      <td>Six</td>\n",
       "      <td>08/30/2018 16:36</td>\n",
       "      <td>Avila</td>\n",
       "    </tr>\n",
       "    <tr>\n",
       "      <th>3</th>\n",
       "      <td>2A</td>\n",
       "      <td>08/30/2018 20:00</td>\n",
       "      <td>13.1</td>\n",
       "      <td>20.4</td>\n",
       "      <td>30</td>\n",
       "      <td>1007</td>\n",
       "      <td>W at 11 MPH (280 deg)</td>\n",
       "      <td>Potential Tropical Cyclone</td>\n",
       "      <td>Six</td>\n",
       "      <td>08/30/2018 19:44</td>\n",
       "      <td>Beven</td>\n",
       "    </tr>\n",
       "    <tr>\n",
       "      <th>4</th>\n",
       "      <td>3</td>\n",
       "      <td>08/30/2018 23:00</td>\n",
       "      <td>13.2</td>\n",
       "      <td>20.9</td>\n",
       "      <td>35</td>\n",
       "      <td>1007</td>\n",
       "      <td>W at 13 MPH (280 deg)</td>\n",
       "      <td>Potential Tropical Cyclone</td>\n",
       "      <td>Six</td>\n",
       "      <td>08/30/2018 22:42</td>\n",
       "      <td>Beven</td>\n",
       "    </tr>\n",
       "  </tbody>\n",
       "</table>\n",
       "</div>"
      ],
      "text/plain": [
       "  AdvisoryNumber              Date   Lat  Long  Wind  Pres  \\\n",
       "0              1  08/30/2018 11:00  12.9  18.4    30  1007   \n",
       "1             1A  08/30/2018 14:00  12.9  19.0    30  1007   \n",
       "2              2  08/30/2018 17:00  12.9  19.4    30  1007   \n",
       "3             2A  08/30/2018 20:00  13.1  20.4    30  1007   \n",
       "4              3  08/30/2018 23:00  13.2  20.9    35  1007   \n",
       "\n",
       "                Movement                        Type Name          Received  \\\n",
       "0  W at 12 MPH (280 deg)  Potential Tropical Cyclone  Six  08/30/2018 10:45   \n",
       "1  W at 12 MPH (280 deg)  Potential Tropical Cyclone  Six  08/30/2018 13:36   \n",
       "2   W at 9 MPH (280 deg)  Potential Tropical Cyclone  Six  08/30/2018 16:36   \n",
       "3  W at 11 MPH (280 deg)  Potential Tropical Cyclone  Six  08/30/2018 19:44   \n",
       "4  W at 13 MPH (280 deg)  Potential Tropical Cyclone  Six  08/30/2018 22:42   \n",
       "\n",
       "  Forecaster  \n",
       "0      Avila  \n",
       "1      Avila  \n",
       "2      Avila  \n",
       "3      Beven  \n",
       "4      Beven  "
      ]
     },
     "execution_count": 3,
     "metadata": {},
     "output_type": "execute_result"
    }
   ],
   "source": [
    "florence = pd.read_csv('D:\\\\florence.csv')\n",
    "florence.head()\n"
   ]
  },
  {
   "cell_type": "code",
   "execution_count": 4,
   "metadata": {},
   "outputs": [
    {
     "data": {
      "text/html": [
       "<div>\n",
       "<style scoped>\n",
       "    .dataframe tbody tr th:only-of-type {\n",
       "        vertical-align: middle;\n",
       "    }\n",
       "\n",
       "    .dataframe tbody tr th {\n",
       "        vertical-align: top;\n",
       "    }\n",
       "\n",
       "    .dataframe thead th {\n",
       "        text-align: right;\n",
       "    }\n",
       "</style>\n",
       "<table border=\"1\" class=\"dataframe\">\n",
       "  <thead>\n",
       "    <tr style=\"text-align: right;\">\n",
       "      <th></th>\n",
       "      <th>Date</th>\n",
       "      <th>Lat</th>\n",
       "      <th>Long</th>\n",
       "      <th>Wind</th>\n",
       "      <th>Pres</th>\n",
       "      <th>Movement</th>\n",
       "      <th>Type</th>\n",
       "      <th>Name</th>\n",
       "    </tr>\n",
       "  </thead>\n",
       "  <tbody>\n",
       "    <tr>\n",
       "      <th>0</th>\n",
       "      <td>08/30/2018 11:00</td>\n",
       "      <td>12.9</td>\n",
       "      <td>18.4</td>\n",
       "      <td>30</td>\n",
       "      <td>1007</td>\n",
       "      <td>W at 12 MPH (280 deg)</td>\n",
       "      <td>Potential Tropical Cyclone</td>\n",
       "      <td>Six</td>\n",
       "    </tr>\n",
       "    <tr>\n",
       "      <th>1</th>\n",
       "      <td>08/30/2018 14:00</td>\n",
       "      <td>12.9</td>\n",
       "      <td>19.0</td>\n",
       "      <td>30</td>\n",
       "      <td>1007</td>\n",
       "      <td>W at 12 MPH (280 deg)</td>\n",
       "      <td>Potential Tropical Cyclone</td>\n",
       "      <td>Six</td>\n",
       "    </tr>\n",
       "    <tr>\n",
       "      <th>2</th>\n",
       "      <td>08/30/2018 17:00</td>\n",
       "      <td>12.9</td>\n",
       "      <td>19.4</td>\n",
       "      <td>30</td>\n",
       "      <td>1007</td>\n",
       "      <td>W at 9 MPH (280 deg)</td>\n",
       "      <td>Potential Tropical Cyclone</td>\n",
       "      <td>Six</td>\n",
       "    </tr>\n",
       "    <tr>\n",
       "      <th>3</th>\n",
       "      <td>08/30/2018 20:00</td>\n",
       "      <td>13.1</td>\n",
       "      <td>20.4</td>\n",
       "      <td>30</td>\n",
       "      <td>1007</td>\n",
       "      <td>W at 11 MPH (280 deg)</td>\n",
       "      <td>Potential Tropical Cyclone</td>\n",
       "      <td>Six</td>\n",
       "    </tr>\n",
       "    <tr>\n",
       "      <th>4</th>\n",
       "      <td>08/30/2018 23:00</td>\n",
       "      <td>13.2</td>\n",
       "      <td>20.9</td>\n",
       "      <td>35</td>\n",
       "      <td>1007</td>\n",
       "      <td>W at 13 MPH (280 deg)</td>\n",
       "      <td>Potential Tropical Cyclone</td>\n",
       "      <td>Six</td>\n",
       "    </tr>\n",
       "  </tbody>\n",
       "</table>\n",
       "</div>"
      ],
      "text/plain": [
       "               Date   Lat  Long  Wind  Pres               Movement  \\\n",
       "0  08/30/2018 11:00  12.9  18.4    30  1007  W at 12 MPH (280 deg)   \n",
       "1  08/30/2018 14:00  12.9  19.0    30  1007  W at 12 MPH (280 deg)   \n",
       "2  08/30/2018 17:00  12.9  19.4    30  1007   W at 9 MPH (280 deg)   \n",
       "3  08/30/2018 20:00  13.1  20.4    30  1007  W at 11 MPH (280 deg)   \n",
       "4  08/30/2018 23:00  13.2  20.9    35  1007  W at 13 MPH (280 deg)   \n",
       "\n",
       "                         Type Name  \n",
       "0  Potential Tropical Cyclone  Six  \n",
       "1  Potential Tropical Cyclone  Six  \n",
       "2  Potential Tropical Cyclone  Six  \n",
       "3  Potential Tropical Cyclone  Six  \n",
       "4  Potential Tropical Cyclone  Six  "
      ]
     },
     "execution_count": 4,
     "metadata": {},
     "output_type": "execute_result"
    }
   ],
   "source": [
    "florence = florence.drop(['AdvisoryNumber', 'Forecaster', 'Received'], axis=1)\n",
    "florence.head()"
   ]
  },
  {
   "cell_type": "code",
   "execution_count": 5,
   "metadata": {},
   "outputs": [
    {
     "data": {
      "text/html": [
       "<div>\n",
       "<style scoped>\n",
       "    .dataframe tbody tr th:only-of-type {\n",
       "        vertical-align: middle;\n",
       "    }\n",
       "\n",
       "    .dataframe tbody tr th {\n",
       "        vertical-align: top;\n",
       "    }\n",
       "\n",
       "    .dataframe thead th {\n",
       "        text-align: right;\n",
       "    }\n",
       "</style>\n",
       "<table border=\"1\" class=\"dataframe\">\n",
       "  <thead>\n",
       "    <tr style=\"text-align: right;\">\n",
       "      <th></th>\n",
       "      <th>Date</th>\n",
       "      <th>Lat</th>\n",
       "      <th>Long</th>\n",
       "      <th>Wind</th>\n",
       "      <th>Pres</th>\n",
       "      <th>Movement</th>\n",
       "      <th>Type</th>\n",
       "      <th>Name</th>\n",
       "    </tr>\n",
       "  </thead>\n",
       "  <tbody>\n",
       "    <tr>\n",
       "      <th>0</th>\n",
       "      <td>08/30/2018 11:00</td>\n",
       "      <td>12.9</td>\n",
       "      <td>-18.4</td>\n",
       "      <td>30</td>\n",
       "      <td>1007</td>\n",
       "      <td>W at 12 MPH (280 deg)</td>\n",
       "      <td>Potential Tropical Cyclone</td>\n",
       "      <td>Six</td>\n",
       "    </tr>\n",
       "    <tr>\n",
       "      <th>1</th>\n",
       "      <td>08/30/2018 14:00</td>\n",
       "      <td>12.9</td>\n",
       "      <td>-19.0</td>\n",
       "      <td>30</td>\n",
       "      <td>1007</td>\n",
       "      <td>W at 12 MPH (280 deg)</td>\n",
       "      <td>Potential Tropical Cyclone</td>\n",
       "      <td>Six</td>\n",
       "    </tr>\n",
       "    <tr>\n",
       "      <th>2</th>\n",
       "      <td>08/30/2018 17:00</td>\n",
       "      <td>12.9</td>\n",
       "      <td>-19.4</td>\n",
       "      <td>30</td>\n",
       "      <td>1007</td>\n",
       "      <td>W at 9 MPH (280 deg)</td>\n",
       "      <td>Potential Tropical Cyclone</td>\n",
       "      <td>Six</td>\n",
       "    </tr>\n",
       "    <tr>\n",
       "      <th>3</th>\n",
       "      <td>08/30/2018 20:00</td>\n",
       "      <td>13.1</td>\n",
       "      <td>-20.4</td>\n",
       "      <td>30</td>\n",
       "      <td>1007</td>\n",
       "      <td>W at 11 MPH (280 deg)</td>\n",
       "      <td>Potential Tropical Cyclone</td>\n",
       "      <td>Six</td>\n",
       "    </tr>\n",
       "    <tr>\n",
       "      <th>4</th>\n",
       "      <td>08/30/2018 23:00</td>\n",
       "      <td>13.2</td>\n",
       "      <td>-20.9</td>\n",
       "      <td>35</td>\n",
       "      <td>1007</td>\n",
       "      <td>W at 13 MPH (280 deg)</td>\n",
       "      <td>Potential Tropical Cyclone</td>\n",
       "      <td>Six</td>\n",
       "    </tr>\n",
       "  </tbody>\n",
       "</table>\n",
       "</div>"
      ],
      "text/plain": [
       "               Date   Lat  Long  Wind  Pres               Movement  \\\n",
       "0  08/30/2018 11:00  12.9 -18.4    30  1007  W at 12 MPH (280 deg)   \n",
       "1  08/30/2018 14:00  12.9 -19.0    30  1007  W at 12 MPH (280 deg)   \n",
       "2  08/30/2018 17:00  12.9 -19.4    30  1007   W at 9 MPH (280 deg)   \n",
       "3  08/30/2018 20:00  13.1 -20.4    30  1007  W at 11 MPH (280 deg)   \n",
       "4  08/30/2018 23:00  13.2 -20.9    35  1007  W at 13 MPH (280 deg)   \n",
       "\n",
       "                         Type Name  \n",
       "0  Potential Tropical Cyclone  Six  \n",
       "1  Potential Tropical Cyclone  Six  \n",
       "2  Potential Tropical Cyclone  Six  \n",
       "3  Potential Tropical Cyclone  Six  \n",
       "4  Potential Tropical Cyclone  Six  "
      ]
     },
     "execution_count": 5,
     "metadata": {},
     "output_type": "execute_result"
    }
   ],
   "source": [
    "florence['Long'] = 0 - florence['Long']\n",
    "florence.head()"
   ]
  },
  {
   "cell_type": "code",
   "execution_count": 169,
   "metadata": {},
   "outputs": [
    {
     "data": {
      "text/html": [
       "<div>\n",
       "<style scoped>\n",
       "    .dataframe tbody tr th:only-of-type {\n",
       "        vertical-align: middle;\n",
       "    }\n",
       "\n",
       "    .dataframe tbody tr th {\n",
       "        vertical-align: top;\n",
       "    }\n",
       "\n",
       "    .dataframe thead th {\n",
       "        text-align: right;\n",
       "    }\n",
       "</style>\n",
       "<table border=\"1\" class=\"dataframe\">\n",
       "  <thead>\n",
       "    <tr style=\"text-align: right;\">\n",
       "      <th></th>\n",
       "      <th>Date</th>\n",
       "      <th>Lat</th>\n",
       "      <th>Long</th>\n",
       "      <th>Wind</th>\n",
       "      <th>Pres</th>\n",
       "      <th>Movement</th>\n",
       "      <th>Type</th>\n",
       "      <th>Name</th>\n",
       "      <th>coordinates</th>\n",
       "    </tr>\n",
       "  </thead>\n",
       "  <tbody>\n",
       "    <tr>\n",
       "      <th>14</th>\n",
       "      <td>09/01/2018 05:00</td>\n",
       "      <td>0.253073</td>\n",
       "      <td>-0.466003</td>\n",
       "      <td>40</td>\n",
       "      <td>1003</td>\n",
       "      <td>WNW at 14 MPH (285 deg)</td>\n",
       "      <td>Tropical Storm</td>\n",
       "      <td>Florence</td>\n",
       "      <td>[-0.46600291028248597, 0.2530727415391778]</td>\n",
       "    </tr>\n",
       "    <tr>\n",
       "      <th>15</th>\n",
       "      <td>09/01/2018 08:00</td>\n",
       "      <td>0.254818</td>\n",
       "      <td>-0.474730</td>\n",
       "      <td>40</td>\n",
       "      <td>1003</td>\n",
       "      <td>WNW at 14 MPH (285 deg)</td>\n",
       "      <td>Tropical Storm</td>\n",
       "      <td>Florence</td>\n",
       "      <td>[-0.47472955654245763, 0.25481807079117214]</td>\n",
       "    </tr>\n",
       "    <tr>\n",
       "      <th>16</th>\n",
       "      <td>09/01/2018 11:00</td>\n",
       "      <td>0.258309</td>\n",
       "      <td>-0.485202</td>\n",
       "      <td>45</td>\n",
       "      <td>1003</td>\n",
       "      <td>WNW at 14 MPH (285 deg)</td>\n",
       "      <td>Tropical Storm</td>\n",
       "      <td>Florence</td>\n",
       "      <td>[-0.4852015320544236, 0.2583087292951608]</td>\n",
       "    </tr>\n",
       "    <tr>\n",
       "      <th>17</th>\n",
       "      <td>09/01/2018 17:00</td>\n",
       "      <td>0.272271</td>\n",
       "      <td>-0.506145</td>\n",
       "      <td>45</td>\n",
       "      <td>1002</td>\n",
       "      <td>WNW at 16 MPH (285 deg)</td>\n",
       "      <td>Tropical Storm</td>\n",
       "      <td>Florence</td>\n",
       "      <td>[-0.5061454830783556, 0.2722713633111154]</td>\n",
       "    </tr>\n",
       "    <tr>\n",
       "      <th>18</th>\n",
       "      <td>09/01/2018 23:00</td>\n",
       "      <td>0.279253</td>\n",
       "      <td>-0.527089</td>\n",
       "      <td>50</td>\n",
       "      <td>1000</td>\n",
       "      <td>WNW at 14 MPH (290 deg)</td>\n",
       "      <td>Tropical Storm</td>\n",
       "      <td>Florence</td>\n",
       "      <td>[-0.5270894341022875, 0.2792526803190927]</td>\n",
       "    </tr>\n",
       "  </tbody>\n",
       "</table>\n",
       "</div>"
      ],
      "text/plain": [
       "                Date       Lat      Long  Wind  Pres                 Movement  \\\n",
       "14  09/01/2018 05:00  0.253073 -0.466003    40  1003  WNW at 14 MPH (285 deg)   \n",
       "15  09/01/2018 08:00  0.254818 -0.474730    40  1003  WNW at 14 MPH (285 deg)   \n",
       "16  09/01/2018 11:00  0.258309 -0.485202    45  1003  WNW at 14 MPH (285 deg)   \n",
       "17  09/01/2018 17:00  0.272271 -0.506145    45  1002  WNW at 16 MPH (285 deg)   \n",
       "18  09/01/2018 23:00  0.279253 -0.527089    50  1000  WNW at 14 MPH (290 deg)   \n",
       "\n",
       "              Type      Name                                  coordinates  \n",
       "14  Tropical Storm  Florence   [-0.46600291028248597, 0.2530727415391778]  \n",
       "15  Tropical Storm  Florence  [-0.47472955654245763, 0.25481807079117214]  \n",
       "16  Tropical Storm  Florence    [-0.4852015320544236, 0.2583087292951608]  \n",
       "17  Tropical Storm  Florence    [-0.5061454830783556, 0.2722713633111154]  \n",
       "18  Tropical Storm  Florence    [-0.5270894341022875, 0.2792526803190927]  "
      ]
     },
     "execution_count": 169,
     "metadata": {},
     "output_type": "execute_result"
    }
   ],
   "source": [
    "florence['coordinates'] = florence[['Long', 'Lat']].values.tolist()\n",
    "florence['coordinates'] = florence[['Long', 'Lat']].values.tolist()\n",
    "florence.head()"
   ]
  },
  {
   "cell_type": "code",
   "execution_count": null,
   "metadata": {},
   "outputs": [],
   "source": [
    "florence['coordinates'] = florence['coordinates'].apply(Point)\n",
    "florence.head()"
   ]
  },
  {
   "cell_type": "code",
   "execution_count": 65,
   "metadata": {},
   "outputs": [
    {
     "data": {
      "text/plain": [
       "<matplotlib.axes._subplots.AxesSubplot at 0x15e8ad8e0c8>"
      ]
     },
     "execution_count": 65,
     "metadata": {},
     "output_type": "execute_result"
    },
    {
     "data": {
      "image/png": "[encoded data removed]",
      "text/plain": [
       "<Figure size 1440x720 with 1 Axes>"
      ]
     },
     "metadata": {
      "needs_background": "light"
     },
     "output_type": "display_data"
    }
   ],
   "source": [
    "florence.plot.scatter(x = 'Lat', y = 'Long',figsize=(20,10))"
   ]
  },
  {
   "cell_type": "code",
   "execution_count": 75,
   "metadata": {},
   "outputs": [
    {
     "data": {
      "text/html": [
       "<div>\n",
       "<style scoped>\n",
       "    .dataframe tbody tr th:only-of-type {\n",
       "        vertical-align: middle;\n",
       "    }\n",
       "\n",
       "    .dataframe tbody tr th {\n",
       "        vertical-align: top;\n",
       "    }\n",
       "\n",
       "    .dataframe thead th {\n",
       "        text-align: right;\n",
       "    }\n",
       "</style>\n",
       "<table border=\"1\" class=\"dataframe\">\n",
       "  <thead>\n",
       "    <tr style=\"text-align: right;\">\n",
       "      <th></th>\n",
       "      <th>Date</th>\n",
       "      <th>Lat</th>\n",
       "      <th>Long</th>\n",
       "      <th>Wind</th>\n",
       "      <th>Pres</th>\n",
       "      <th>Movement</th>\n",
       "      <th>Type</th>\n",
       "      <th>Name</th>\n",
       "      <th>coordinates</th>\n",
       "    </tr>\n",
       "  </thead>\n",
       "  <tbody>\n",
       "    <tr>\n",
       "      <th>104</th>\n",
       "      <td>09/18/2018 11:00</td>\n",
       "      <td>42.6</td>\n",
       "      <td>-71.9</td>\n",
       "      <td>25</td>\n",
       "      <td>1006</td>\n",
       "      <td>ENE at 25 MPH (70 deg)</td>\n",
       "      <td>Post-Tropical Cyclone</td>\n",
       "      <td>Florence</td>\n",
       "      <td>[-71.9, 42.6]</td>\n",
       "    </tr>\n",
       "    <tr>\n",
       "      <th>103</th>\n",
       "      <td>09/18/2018 05:00</td>\n",
       "      <td>41.3</td>\n",
       "      <td>-75.9</td>\n",
       "      <td>25</td>\n",
       "      <td>1006</td>\n",
       "      <td>E at 13 MPH (100 deg)</td>\n",
       "      <td>Post-Tropical Cyclone</td>\n",
       "      <td>Florence</td>\n",
       "      <td>[-75.9, 41.3]</td>\n",
       "    </tr>\n",
       "    <tr>\n",
       "      <th>102</th>\n",
       "      <td>09/17/2018 23:00</td>\n",
       "      <td>39.8</td>\n",
       "      <td>-80.2</td>\n",
       "      <td>25</td>\n",
       "      <td>1008</td>\n",
       "      <td>NE at 9 MPH (35 deg)</td>\n",
       "      <td>Post-Tropical Cyclone</td>\n",
       "      <td>Florence</td>\n",
       "      <td>[-80.2, 39.8]</td>\n",
       "    </tr>\n",
       "    <tr>\n",
       "      <th>101</th>\n",
       "      <td>09/17/2018 17:00</td>\n",
       "      <td>39.0</td>\n",
       "      <td>-81.3</td>\n",
       "      <td>25</td>\n",
       "      <td>1008</td>\n",
       "      <td>ENE at 14 MPH (60 deg)</td>\n",
       "      <td>Post-Tropical Cyclone</td>\n",
       "      <td>Florence</td>\n",
       "      <td>[-81.3, 39.0]</td>\n",
       "    </tr>\n",
       "    <tr>\n",
       "      <th>94</th>\n",
       "      <td>09/16/2018 02:00</td>\n",
       "      <td>33.7</td>\n",
       "      <td>-80.8</td>\n",
       "      <td>40</td>\n",
       "      <td>999</td>\n",
       "      <td>W at 6 MPH (275 deg)</td>\n",
       "      <td>Tropical Storm</td>\n",
       "      <td>Florence</td>\n",
       "      <td>[-80.8, 33.7]</td>\n",
       "    </tr>\n",
       "    <tr>\n",
       "      <th>93</th>\n",
       "      <td>09/15/2018 23:00</td>\n",
       "      <td>33.7</td>\n",
       "      <td>-80.5</td>\n",
       "      <td>40</td>\n",
       "      <td>998</td>\n",
       "      <td>W at 3 MPH (275 deg)</td>\n",
       "      <td>Tropical Storm</td>\n",
       "      <td>Florence</td>\n",
       "      <td>[-80.5, 33.7]</td>\n",
       "    </tr>\n",
       "    <tr>\n",
       "      <th>92</th>\n",
       "      <td>09/15/2018 20:00</td>\n",
       "      <td>33.6</td>\n",
       "      <td>-80.1</td>\n",
       "      <td>45</td>\n",
       "      <td>997</td>\n",
       "      <td>W at 2 MPH (270 deg)</td>\n",
       "      <td>Tropical Storm</td>\n",
       "      <td>Florence</td>\n",
       "      <td>[-80.1, 33.6]</td>\n",
       "    </tr>\n",
       "    <tr>\n",
       "      <th>91</th>\n",
       "      <td>09/15/2018 17:00</td>\n",
       "      <td>33.6</td>\n",
       "      <td>-79.9</td>\n",
       "      <td>45</td>\n",
       "      <td>997</td>\n",
       "      <td>W at 2 MPH (270 deg)</td>\n",
       "      <td>Tropical Storm</td>\n",
       "      <td>Florence</td>\n",
       "      <td>[-79.9, 33.6]</td>\n",
       "    </tr>\n",
       "    <tr>\n",
       "      <th>90</th>\n",
       "      <td>09/15/2018 14:00</td>\n",
       "      <td>33.6</td>\n",
       "      <td>-79.8</td>\n",
       "      <td>45</td>\n",
       "      <td>997</td>\n",
       "      <td>W at 3 MPH (270 deg)</td>\n",
       "      <td>Tropical Storm</td>\n",
       "      <td>Florence</td>\n",
       "      <td>[-79.8, 33.6]</td>\n",
       "    </tr>\n",
       "    <tr>\n",
       "      <th>89</th>\n",
       "      <td>09/15/2018 11:00</td>\n",
       "      <td>33.6</td>\n",
       "      <td>-79.6</td>\n",
       "      <td>45</td>\n",
       "      <td>995</td>\n",
       "      <td>W at 2 MPH (270 deg)</td>\n",
       "      <td>Tropical Storm</td>\n",
       "      <td>Florence</td>\n",
       "      <td>[-79.6, 33.6]</td>\n",
       "    </tr>\n",
       "    <tr>\n",
       "      <th>88</th>\n",
       "      <td>09/15/2018 08:00</td>\n",
       "      <td>33.6</td>\n",
       "      <td>-79.5</td>\n",
       "      <td>50</td>\n",
       "      <td>989</td>\n",
       "      <td>W at 2 MPH (260 deg)</td>\n",
       "      <td>Tropical Storm</td>\n",
       "      <td>Florence</td>\n",
       "      <td>[-79.5, 33.6]</td>\n",
       "    </tr>\n",
       "    <tr>\n",
       "      <th>87</th>\n",
       "      <td>09/15/2018 05:00</td>\n",
       "      <td>33.6</td>\n",
       "      <td>-79.5</td>\n",
       "      <td>50</td>\n",
       "      <td>986</td>\n",
       "      <td>WSW at 5 MPH (255 deg)</td>\n",
       "      <td>Tropical Storm</td>\n",
       "      <td>Florence</td>\n",
       "      <td>[-79.5, 33.6]</td>\n",
       "    </tr>\n",
       "    <tr>\n",
       "      <th>86</th>\n",
       "      <td>09/15/2018 02:00</td>\n",
       "      <td>33.7</td>\n",
       "      <td>-79.3</td>\n",
       "      <td>60</td>\n",
       "      <td>984</td>\n",
       "      <td>WSW at 5 MPH (255 deg)</td>\n",
       "      <td>Tropical Storm</td>\n",
       "      <td>Florence</td>\n",
       "      <td>[-79.3, 33.7]</td>\n",
       "    </tr>\n",
       "    <tr>\n",
       "      <th>85</th>\n",
       "      <td>09/14/2018 23:00</td>\n",
       "      <td>33.8</td>\n",
       "      <td>-79.1</td>\n",
       "      <td>65</td>\n",
       "      <td>980</td>\n",
       "      <td>WSW at 5 MPH (255 deg)</td>\n",
       "      <td>Tropical Storm</td>\n",
       "      <td>Florence</td>\n",
       "      <td>[-79.1, 33.8]</td>\n",
       "    </tr>\n",
       "    <tr>\n",
       "      <th>84</th>\n",
       "      <td>09/14/2018 20:00</td>\n",
       "      <td>33.9</td>\n",
       "      <td>-78.8</td>\n",
       "      <td>70</td>\n",
       "      <td>975</td>\n",
       "      <td>W at 3 MPH (270 deg)</td>\n",
       "      <td>Tropical Storm</td>\n",
       "      <td>Florence</td>\n",
       "      <td>[-78.8, 33.9]</td>\n",
       "    </tr>\n",
       "    <tr>\n",
       "      <th>83</th>\n",
       "      <td>09/14/2018 17:00</td>\n",
       "      <td>34.0</td>\n",
       "      <td>-78.6</td>\n",
       "      <td>70</td>\n",
       "      <td>972</td>\n",
       "      <td>W at 3 MPH (270 deg)</td>\n",
       "      <td>Tropical Storm</td>\n",
       "      <td>Florence</td>\n",
       "      <td>[-78.6, 34.0]</td>\n",
       "    </tr>\n",
       "    <tr>\n",
       "      <th>82</th>\n",
       "      <td>09/14/2018 14:00</td>\n",
       "      <td>34.0</td>\n",
       "      <td>-78.4</td>\n",
       "      <td>75</td>\n",
       "      <td>968</td>\n",
       "      <td>W at 5 MPH (270 deg)</td>\n",
       "      <td>Hurricane</td>\n",
       "      <td>Florence</td>\n",
       "      <td>[-78.4, 34.0]</td>\n",
       "    </tr>\n",
       "    <tr>\n",
       "      <th>81</th>\n",
       "      <td>09/14/2018 11:00</td>\n",
       "      <td>34.0</td>\n",
       "      <td>-78.0</td>\n",
       "      <td>80</td>\n",
       "      <td>958</td>\n",
       "      <td>WSW at 3 MPH (245 deg)</td>\n",
       "      <td>Hurricane</td>\n",
       "      <td>Florence</td>\n",
       "      <td>[-78.0, 34.0]</td>\n",
       "    </tr>\n",
       "    <tr>\n",
       "      <th>80</th>\n",
       "      <td>09/14/2018 08:00</td>\n",
       "      <td>34.1</td>\n",
       "      <td>-77.9</td>\n",
       "      <td>90</td>\n",
       "      <td>958</td>\n",
       "      <td>WNW at 6 MPH (260 deg)</td>\n",
       "      <td>Hurricane</td>\n",
       "      <td>Florence</td>\n",
       "      <td>[-77.9, 34.1]</td>\n",
       "    </tr>\n",
       "    <tr>\n",
       "      <th>79</th>\n",
       "      <td>09/14/2018 05:00</td>\n",
       "      <td>34.2</td>\n",
       "      <td>-77.4</td>\n",
       "      <td>90</td>\n",
       "      <td>958</td>\n",
       "      <td>WNW at 6 MPH (285 deg)</td>\n",
       "      <td>Hurricane</td>\n",
       "      <td>Florence</td>\n",
       "      <td>[-77.4, 34.2]</td>\n",
       "    </tr>\n",
       "    <tr>\n",
       "      <th>78</th>\n",
       "      <td>09/14/2018 02:00</td>\n",
       "      <td>34.1</td>\n",
       "      <td>-77.2</td>\n",
       "      <td>90</td>\n",
       "      <td>954</td>\n",
       "      <td>WNW at 6 MPH (300 deg)</td>\n",
       "      <td>Hurricane</td>\n",
       "      <td>Florence</td>\n",
       "      <td>[-77.2, 34.1]</td>\n",
       "    </tr>\n",
       "    <tr>\n",
       "      <th>77</th>\n",
       "      <td>09/13/2018 23:00</td>\n",
       "      <td>34.0</td>\n",
       "      <td>-76.8</td>\n",
       "      <td>90</td>\n",
       "      <td>956</td>\n",
       "      <td>NW at 6 MPH (305 deg)</td>\n",
       "      <td>Hurricane</td>\n",
       "      <td>Florence</td>\n",
       "      <td>[-76.8, 34.0]</td>\n",
       "    </tr>\n",
       "    <tr>\n",
       "      <th>76</th>\n",
       "      <td>09/13/2018 20:00</td>\n",
       "      <td>33.9</td>\n",
       "      <td>-76.4</td>\n",
       "      <td>100</td>\n",
       "      <td>955</td>\n",
       "      <td>NW at 5 MPH (305 deg)</td>\n",
       "      <td>Hurricane</td>\n",
       "      <td>Florence</td>\n",
       "      <td>[-76.4, 33.9]</td>\n",
       "    </tr>\n",
       "    <tr>\n",
       "      <th>75</th>\n",
       "      <td>09/13/2018 17:00</td>\n",
       "      <td>33.7</td>\n",
       "      <td>-76.2</td>\n",
       "      <td>100</td>\n",
       "      <td>955</td>\n",
       "      <td>WNW at 5 MPH (295 deg)</td>\n",
       "      <td>Hurricane</td>\n",
       "      <td>Florence</td>\n",
       "      <td>[-76.2, 33.7]</td>\n",
       "    </tr>\n",
       "    <tr>\n",
       "      <th>74</th>\n",
       "      <td>09/13/2018 14:00</td>\n",
       "      <td>33.6</td>\n",
       "      <td>-76.0</td>\n",
       "      <td>105</td>\n",
       "      <td>955</td>\n",
       "      <td>NW at 10 MPH (315 deg)</td>\n",
       "      <td>Hurricane</td>\n",
       "      <td>Florence</td>\n",
       "      <td>[-76.0, 33.6]</td>\n",
       "    </tr>\n",
       "    <tr>\n",
       "      <th>73</th>\n",
       "      <td>09/13/2018 11:00</td>\n",
       "      <td>33.4</td>\n",
       "      <td>-75.5</td>\n",
       "      <td>105</td>\n",
       "      <td>955</td>\n",
       "      <td>NW at 10 MPH (315 deg)</td>\n",
       "      <td>Hurricane</td>\n",
       "      <td>Florence</td>\n",
       "      <td>[-75.5, 33.4]</td>\n",
       "    </tr>\n",
       "    <tr>\n",
       "      <th>72</th>\n",
       "      <td>09/13/2018 08:00</td>\n",
       "      <td>33.1</td>\n",
       "      <td>-75.1</td>\n",
       "      <td>110</td>\n",
       "      <td>956</td>\n",
       "      <td>NW at 12 MPH (315 deg)</td>\n",
       "      <td>Hurricane</td>\n",
       "      <td>Florence</td>\n",
       "      <td>[-75.1, 33.1]</td>\n",
       "    </tr>\n",
       "    <tr>\n",
       "      <th>71</th>\n",
       "      <td>09/13/2018 05:00</td>\n",
       "      <td>32.8</td>\n",
       "      <td>-74.7</td>\n",
       "      <td>110</td>\n",
       "      <td>956</td>\n",
       "      <td>NW at 15 MPH (315 deg)</td>\n",
       "      <td>Hurricane</td>\n",
       "      <td>Florence</td>\n",
       "      <td>[-74.7, 32.8]</td>\n",
       "    </tr>\n",
       "    <tr>\n",
       "      <th>70</th>\n",
       "      <td>09/13/2018 02:00</td>\n",
       "      <td>32.5</td>\n",
       "      <td>-74.3</td>\n",
       "      <td>110</td>\n",
       "      <td>956</td>\n",
       "      <td>NW at 17 MPH (315 deg)</td>\n",
       "      <td>Hurricane</td>\n",
       "      <td>Florence</td>\n",
       "      <td>[-74.3, 32.5]</td>\n",
       "    </tr>\n",
       "    <tr>\n",
       "      <th>69</th>\n",
       "      <td>09/12/2018 23:00</td>\n",
       "      <td>32.0</td>\n",
       "      <td>-73.7</td>\n",
       "      <td>110</td>\n",
       "      <td>957</td>\n",
       "      <td>NW at 17 MPH (315 deg)</td>\n",
       "      <td>Hurricane</td>\n",
       "      <td>Florence</td>\n",
       "      <td>[-73.7, 32.0]</td>\n",
       "    </tr>\n",
       "  </tbody>\n",
       "</table>\n",
       "</div>"
      ],
      "text/plain": [
       "                 Date   Lat  Long  Wind  Pres                Movement  \\\n",
       "104  09/18/2018 11:00  42.6 -71.9    25  1006  ENE at 25 MPH (70 deg)   \n",
       "103  09/18/2018 05:00  41.3 -75.9    25  1006   E at 13 MPH (100 deg)   \n",
       "102  09/17/2018 23:00  39.8 -80.2    25  1008    NE at 9 MPH (35 deg)   \n",
       "101  09/17/2018 17:00  39.0 -81.3    25  1008  ENE at 14 MPH (60 deg)   \n",
       "94   09/16/2018 02:00  33.7 -80.8    40   999    W at 6 MPH (275 deg)   \n",
       "93   09/15/2018 23:00  33.7 -80.5    40   998    W at 3 MPH (275 deg)   \n",
       "92   09/15/2018 20:00  33.6 -80.1    45   997    W at 2 MPH (270 deg)   \n",
       "91   09/15/2018 17:00  33.6 -79.9    45   997    W at 2 MPH (270 deg)   \n",
       "90   09/15/2018 14:00  33.6 -79.8    45   997    W at 3 MPH (270 deg)   \n",
       "89   09/15/2018 11:00  33.6 -79.6    45   995    W at 2 MPH (270 deg)   \n",
       "88   09/15/2018 08:00  33.6 -79.5    50   989    W at 2 MPH (260 deg)   \n",
       "87   09/15/2018 05:00  33.6 -79.5    50   986  WSW at 5 MPH (255 deg)   \n",
       "86   09/15/2018 02:00  33.7 -79.3    60   984  WSW at 5 MPH (255 deg)   \n",
       "85   09/14/2018 23:00  33.8 -79.1    65   980  WSW at 5 MPH (255 deg)   \n",
       "84   09/14/2018 20:00  33.9 -78.8    70   975    W at 3 MPH (270 deg)   \n",
       "83   09/14/2018 17:00  34.0 -78.6    70   972    W at 3 MPH (270 deg)   \n",
       "82   09/14/2018 14:00  34.0 -78.4    75   968    W at 5 MPH (270 deg)   \n",
       "81   09/14/2018 11:00  34.0 -78.0    80   958  WSW at 3 MPH (245 deg)   \n",
       "80   09/14/2018 08:00  34.1 -77.9    90   958  WNW at 6 MPH (260 deg)   \n",
       "79   09/14/2018 05:00  34.2 -77.4    90   958  WNW at 6 MPH (285 deg)   \n",
       "78   09/14/2018 02:00  34.1 -77.2    90   954  WNW at 6 MPH (300 deg)   \n",
       "77   09/13/2018 23:00  34.0 -76.8    90   956   NW at 6 MPH (305 deg)   \n",
       "76   09/13/2018 20:00  33.9 -76.4   100   955   NW at 5 MPH (305 deg)   \n",
       "75   09/13/2018 17:00  33.7 -76.2   100   955  WNW at 5 MPH (295 deg)   \n",
       "74   09/13/2018 14:00  33.6 -76.0   105   955  NW at 10 MPH (315 deg)   \n",
       "73   09/13/2018 11:00  33.4 -75.5   105   955  NW at 10 MPH (315 deg)   \n",
       "72   09/13/2018 08:00  33.1 -75.1   110   956  NW at 12 MPH (315 deg)   \n",
       "71   09/13/2018 05:00  32.8 -74.7   110   956  NW at 15 MPH (315 deg)   \n",
       "70   09/13/2018 02:00  32.5 -74.3   110   956  NW at 17 MPH (315 deg)   \n",
       "69   09/12/2018 23:00  32.0 -73.7   110   957  NW at 17 MPH (315 deg)   \n",
       "\n",
       "                      Type      Name    coordinates  \n",
       "104  Post-Tropical Cyclone  Florence  [-71.9, 42.6]  \n",
       "103  Post-Tropical Cyclone  Florence  [-75.9, 41.3]  \n",
       "102  Post-Tropical Cyclone  Florence  [-80.2, 39.8]  \n",
       "101  Post-Tropical Cyclone  Florence  [-81.3, 39.0]  \n",
       "94          Tropical Storm  Florence  [-80.8, 33.7]  \n",
       "93          Tropical Storm  Florence  [-80.5, 33.7]  \n",
       "92          Tropical Storm  Florence  [-80.1, 33.6]  \n",
       "91          Tropical Storm  Florence  [-79.9, 33.6]  \n",
       "90          Tropical Storm  Florence  [-79.8, 33.6]  \n",
       "89          Tropical Storm  Florence  [-79.6, 33.6]  \n",
       "88          Tropical Storm  Florence  [-79.5, 33.6]  \n",
       "87          Tropical Storm  Florence  [-79.5, 33.6]  \n",
       "86          Tropical Storm  Florence  [-79.3, 33.7]  \n",
       "85          Tropical Storm  Florence  [-79.1, 33.8]  \n",
       "84          Tropical Storm  Florence  [-78.8, 33.9]  \n",
       "83          Tropical Storm  Florence  [-78.6, 34.0]  \n",
       "82               Hurricane  Florence  [-78.4, 34.0]  \n",
       "81               Hurricane  Florence  [-78.0, 34.0]  \n",
       "80               Hurricane  Florence  [-77.9, 34.1]  \n",
       "79               Hurricane  Florence  [-77.4, 34.2]  \n",
       "78               Hurricane  Florence  [-77.2, 34.1]  \n",
       "77               Hurricane  Florence  [-76.8, 34.0]  \n",
       "76               Hurricane  Florence  [-76.4, 33.9]  \n",
       "75               Hurricane  Florence  [-76.2, 33.7]  \n",
       "74               Hurricane  Florence  [-76.0, 33.6]  \n",
       "73               Hurricane  Florence  [-75.5, 33.4]  \n",
       "72               Hurricane  Florence  [-75.1, 33.1]  \n",
       "71               Hurricane  Florence  [-74.7, 32.8]  \n",
       "70               Hurricane  Florence  [-74.3, 32.5]  \n",
       "69               Hurricane  Florence  [-73.7, 32.0]  "
      ]
     },
     "execution_count": 75,
     "metadata": {},
     "output_type": "execute_result"
    }
   ],
   "source": [
    "florence.sort_values(by=['Date'], ascending=False, na_position='first').head(30)"
   ]
  },
  {
   "cell_type": "code",
   "execution_count": 76,
   "metadata": {},
   "outputs": [],
   "source": [
    "florence = florence.sort_values(by=['Date'])"
   ]
  },
  {
   "cell_type": "code",
   "execution_count": 146,
   "metadata": {},
   "outputs": [],
   "source": [
    "florence[['Lat','Long']] = np.radians(florence[['Lat','Long']])"
   ]
  },
  {
   "cell_type": "code",
   "execution_count": 147,
   "metadata": {},
   "outputs": [
    {
     "data": {
      "text/html": [
       "<div>\n",
       "<style scoped>\n",
       "    .dataframe tbody tr th:only-of-type {\n",
       "        vertical-align: middle;\n",
       "    }\n",
       "\n",
       "    .dataframe tbody tr th {\n",
       "        vertical-align: top;\n",
       "    }\n",
       "\n",
       "    .dataframe thead th {\n",
       "        text-align: right;\n",
       "    }\n",
       "</style>\n",
       "<table border=\"1\" class=\"dataframe\">\n",
       "  <thead>\n",
       "    <tr style=\"text-align: right;\">\n",
       "      <th></th>\n",
       "      <th>Date</th>\n",
       "      <th>Lat</th>\n",
       "      <th>Long</th>\n",
       "      <th>Wind</th>\n",
       "      <th>Pres</th>\n",
       "      <th>Movement</th>\n",
       "      <th>Type</th>\n",
       "      <th>Name</th>\n",
       "      <th>coordinates</th>\n",
       "    </tr>\n",
       "  </thead>\n",
       "  <tbody>\n",
       "    <tr>\n",
       "      <th>14</th>\n",
       "      <td>09/01/2018 05:00</td>\n",
       "      <td>0.253073</td>\n",
       "      <td>-0.466003</td>\n",
       "      <td>40</td>\n",
       "      <td>1003</td>\n",
       "      <td>WNW at 14 MPH (285 deg)</td>\n",
       "      <td>Tropical Storm</td>\n",
       "      <td>Florence</td>\n",
       "      <td>[-26.7, 14.5]</td>\n",
       "    </tr>\n",
       "    <tr>\n",
       "      <th>15</th>\n",
       "      <td>09/01/2018 08:00</td>\n",
       "      <td>0.254818</td>\n",
       "      <td>-0.474730</td>\n",
       "      <td>40</td>\n",
       "      <td>1003</td>\n",
       "      <td>WNW at 14 MPH (285 deg)</td>\n",
       "      <td>Tropical Storm</td>\n",
       "      <td>Florence</td>\n",
       "      <td>[-27.2, 14.6]</td>\n",
       "    </tr>\n",
       "    <tr>\n",
       "      <th>16</th>\n",
       "      <td>09/01/2018 11:00</td>\n",
       "      <td>0.258309</td>\n",
       "      <td>-0.485202</td>\n",
       "      <td>45</td>\n",
       "      <td>1003</td>\n",
       "      <td>WNW at 14 MPH (285 deg)</td>\n",
       "      <td>Tropical Storm</td>\n",
       "      <td>Florence</td>\n",
       "      <td>[-27.8, 14.8]</td>\n",
       "    </tr>\n",
       "    <tr>\n",
       "      <th>17</th>\n",
       "      <td>09/01/2018 17:00</td>\n",
       "      <td>0.272271</td>\n",
       "      <td>-0.506145</td>\n",
       "      <td>45</td>\n",
       "      <td>1002</td>\n",
       "      <td>WNW at 16 MPH (285 deg)</td>\n",
       "      <td>Tropical Storm</td>\n",
       "      <td>Florence</td>\n",
       "      <td>[-29.0, 15.6]</td>\n",
       "    </tr>\n",
       "    <tr>\n",
       "      <th>18</th>\n",
       "      <td>09/01/2018 23:00</td>\n",
       "      <td>0.279253</td>\n",
       "      <td>-0.527089</td>\n",
       "      <td>50</td>\n",
       "      <td>1000</td>\n",
       "      <td>WNW at 14 MPH (290 deg)</td>\n",
       "      <td>Tropical Storm</td>\n",
       "      <td>Florence</td>\n",
       "      <td>[-30.2, 16.0]</td>\n",
       "    </tr>\n",
       "    <tr>\n",
       "      <th>...</th>\n",
       "      <td>...</td>\n",
       "      <td>...</td>\n",
       "      <td>...</td>\n",
       "      <td>...</td>\n",
       "      <td>...</td>\n",
       "      <td>...</td>\n",
       "      <td>...</td>\n",
       "      <td>...</td>\n",
       "      <td>...</td>\n",
       "    </tr>\n",
       "    <tr>\n",
       "      <th>94</th>\n",
       "      <td>09/16/2018 02:00</td>\n",
       "      <td>0.588176</td>\n",
       "      <td>-1.410226</td>\n",
       "      <td>40</td>\n",
       "      <td>999</td>\n",
       "      <td>W at 6 MPH (275 deg)</td>\n",
       "      <td>Tropical Storm</td>\n",
       "      <td>Florence</td>\n",
       "      <td>[-80.8, 33.7]</td>\n",
       "    </tr>\n",
       "    <tr>\n",
       "      <th>101</th>\n",
       "      <td>09/17/2018 17:00</td>\n",
       "      <td>0.680678</td>\n",
       "      <td>-1.418953</td>\n",
       "      <td>25</td>\n",
       "      <td>1008</td>\n",
       "      <td>ENE at 14 MPH (60 deg)</td>\n",
       "      <td>Post-Tropical Cyclone</td>\n",
       "      <td>Florence</td>\n",
       "      <td>[-81.3, 39.0]</td>\n",
       "    </tr>\n",
       "    <tr>\n",
       "      <th>102</th>\n",
       "      <td>09/17/2018 23:00</td>\n",
       "      <td>0.694641</td>\n",
       "      <td>-1.399754</td>\n",
       "      <td>25</td>\n",
       "      <td>1008</td>\n",
       "      <td>NE at 9 MPH (35 deg)</td>\n",
       "      <td>Post-Tropical Cyclone</td>\n",
       "      <td>Florence</td>\n",
       "      <td>[-80.2, 39.8]</td>\n",
       "    </tr>\n",
       "    <tr>\n",
       "      <th>103</th>\n",
       "      <td>09/18/2018 05:00</td>\n",
       "      <td>0.720821</td>\n",
       "      <td>-1.324705</td>\n",
       "      <td>25</td>\n",
       "      <td>1006</td>\n",
       "      <td>E at 13 MPH (100 deg)</td>\n",
       "      <td>Post-Tropical Cyclone</td>\n",
       "      <td>Florence</td>\n",
       "      <td>[-75.9, 41.3]</td>\n",
       "    </tr>\n",
       "    <tr>\n",
       "      <th>104</th>\n",
       "      <td>09/18/2018 11:00</td>\n",
       "      <td>0.743510</td>\n",
       "      <td>-1.254892</td>\n",
       "      <td>25</td>\n",
       "      <td>1006</td>\n",
       "      <td>ENE at 25 MPH (70 deg)</td>\n",
       "      <td>Post-Tropical Cyclone</td>\n",
       "      <td>Florence</td>\n",
       "      <td>[-71.9, 42.6]</td>\n",
       "    </tr>\n",
       "  </tbody>\n",
       "</table>\n",
       "<p>85 rows × 9 columns</p>\n",
       "</div>"
      ],
      "text/plain": [
       "                 Date       Lat      Long  Wind  Pres  \\\n",
       "14   09/01/2018 05:00  0.253073 -0.466003    40  1003   \n",
       "15   09/01/2018 08:00  0.254818 -0.474730    40  1003   \n",
       "16   09/01/2018 11:00  0.258309 -0.485202    45  1003   \n",
       "17   09/01/2018 17:00  0.272271 -0.506145    45  1002   \n",
       "18   09/01/2018 23:00  0.279253 -0.527089    50  1000   \n",
       "..                ...       ...       ...   ...   ...   \n",
       "94   09/16/2018 02:00  0.588176 -1.410226    40   999   \n",
       "101  09/17/2018 17:00  0.680678 -1.418953    25  1008   \n",
       "102  09/17/2018 23:00  0.694641 -1.399754    25  1008   \n",
       "103  09/18/2018 05:00  0.720821 -1.324705    25  1006   \n",
       "104  09/18/2018 11:00  0.743510 -1.254892    25  1006   \n",
       "\n",
       "                    Movement                   Type      Name    coordinates  \n",
       "14   WNW at 14 MPH (285 deg)         Tropical Storm  Florence  [-26.7, 14.5]  \n",
       "15   WNW at 14 MPH (285 deg)         Tropical Storm  Florence  [-27.2, 14.6]  \n",
       "16   WNW at 14 MPH (285 deg)         Tropical Storm  Florence  [-27.8, 14.8]  \n",
       "17   WNW at 16 MPH (285 deg)         Tropical Storm  Florence  [-29.0, 15.6]  \n",
       "18   WNW at 14 MPH (290 deg)         Tropical Storm  Florence  [-30.2, 16.0]  \n",
       "..                       ...                    ...       ...            ...  \n",
       "94      W at 6 MPH (275 deg)         Tropical Storm  Florence  [-80.8, 33.7]  \n",
       "101   ENE at 14 MPH (60 deg)  Post-Tropical Cyclone  Florence  [-81.3, 39.0]  \n",
       "102     NE at 9 MPH (35 deg)  Post-Tropical Cyclone  Florence  [-80.2, 39.8]  \n",
       "103    E at 13 MPH (100 deg)  Post-Tropical Cyclone  Florence  [-75.9, 41.3]  \n",
       "104   ENE at 25 MPH (70 deg)  Post-Tropical Cyclone  Florence  [-71.9, 42.6]  \n",
       "\n",
       "[85 rows x 9 columns]"
      ]
     },
     "execution_count": 147,
     "metadata": {},
     "output_type": "execute_result"
    }
   ],
   "source": [
    "florence"
   ]
  },
  {
   "cell_type": "code",
   "execution_count": 148,
   "metadata": {},
   "outputs": [],
   "source": [
    "left = florence[0:-1].reset_index(drop=True)[['Date','Lat','Long']].rename(columns={\"Date\":\"StartDate\",\"Lat\":\"StartLat\",\"Long\":\"StartLong\"})"
   ]
  },
  {
   "cell_type": "code",
   "execution_count": 149,
   "metadata": {},
   "outputs": [
    {
     "data": {
      "text/html": [
       "<div>\n",
       "<style scoped>\n",
       "    .dataframe tbody tr th:only-of-type {\n",
       "        vertical-align: middle;\n",
       "    }\n",
       "\n",
       "    .dataframe tbody tr th {\n",
       "        vertical-align: top;\n",
       "    }\n",
       "\n",
       "    .dataframe thead th {\n",
       "        text-align: right;\n",
       "    }\n",
       "</style>\n",
       "<table border=\"1\" class=\"dataframe\">\n",
       "  <thead>\n",
       "    <tr style=\"text-align: right;\">\n",
       "      <th></th>\n",
       "      <th>StartDate</th>\n",
       "      <th>StartLat</th>\n",
       "      <th>StartLong</th>\n",
       "    </tr>\n",
       "  </thead>\n",
       "  <tbody>\n",
       "    <tr>\n",
       "      <th>0</th>\n",
       "      <td>09/01/2018 05:00</td>\n",
       "      <td>0.253073</td>\n",
       "      <td>-0.466003</td>\n",
       "    </tr>\n",
       "    <tr>\n",
       "      <th>1</th>\n",
       "      <td>09/01/2018 08:00</td>\n",
       "      <td>0.254818</td>\n",
       "      <td>-0.474730</td>\n",
       "    </tr>\n",
       "  </tbody>\n",
       "</table>\n",
       "</div>"
      ],
      "text/plain": [
       "          StartDate  StartLat  StartLong\n",
       "0  09/01/2018 05:00  0.253073  -0.466003\n",
       "1  09/01/2018 08:00  0.254818  -0.474730"
      ]
     },
     "execution_count": 149,
     "metadata": {},
     "output_type": "execute_result"
    }
   ],
   "source": [
    "left.head(2)"
   ]
  },
  {
   "cell_type": "code",
   "execution_count": 150,
   "metadata": {},
   "outputs": [],
   "source": [
    "right =  florence[1:].reset_index(drop=True)[['Date','Lat','Long']].rename(columns={\"Date\":\"EndDate\",\"Lat\":\"EndLat\",\"Long\":\"EndLong\"})"
   ]
  },
  {
   "cell_type": "code",
   "execution_count": 151,
   "metadata": {},
   "outputs": [
    {
     "data": {
      "text/html": [
       "<div>\n",
       "<style scoped>\n",
       "    .dataframe tbody tr th:only-of-type {\n",
       "        vertical-align: middle;\n",
       "    }\n",
       "\n",
       "    .dataframe tbody tr th {\n",
       "        vertical-align: top;\n",
       "    }\n",
       "\n",
       "    .dataframe thead th {\n",
       "        text-align: right;\n",
       "    }\n",
       "</style>\n",
       "<table border=\"1\" class=\"dataframe\">\n",
       "  <thead>\n",
       "    <tr style=\"text-align: right;\">\n",
       "      <th></th>\n",
       "      <th>EndDate</th>\n",
       "      <th>EndLat</th>\n",
       "      <th>EndLong</th>\n",
       "    </tr>\n",
       "  </thead>\n",
       "  <tbody>\n",
       "    <tr>\n",
       "      <th>0</th>\n",
       "      <td>09/01/2018 08:00</td>\n",
       "      <td>0.254818</td>\n",
       "      <td>-0.474730</td>\n",
       "    </tr>\n",
       "    <tr>\n",
       "      <th>1</th>\n",
       "      <td>09/01/2018 11:00</td>\n",
       "      <td>0.258309</td>\n",
       "      <td>-0.485202</td>\n",
       "    </tr>\n",
       "  </tbody>\n",
       "</table>\n",
       "</div>"
      ],
      "text/plain": [
       "            EndDate    EndLat   EndLong\n",
       "0  09/01/2018 08:00  0.254818 -0.474730\n",
       "1  09/01/2018 11:00  0.258309 -0.485202"
      ]
     },
     "execution_count": 151,
     "metadata": {},
     "output_type": "execute_result"
    }
   ],
   "source": [
    "right.head(2)"
   ]
  },
  {
   "cell_type": "code",
   "execution_count": 152,
   "metadata": {},
   "outputs": [],
   "source": [
    "leftright = pd.concat([left,right],axis = 1)"
   ]
  },
  {
   "cell_type": "code",
   "execution_count": 153,
   "metadata": {},
   "outputs": [
    {
     "data": {
      "text/html": [
       "<div>\n",
       "<style scoped>\n",
       "    .dataframe tbody tr th:only-of-type {\n",
       "        vertical-align: middle;\n",
       "    }\n",
       "\n",
       "    .dataframe tbody tr th {\n",
       "        vertical-align: top;\n",
       "    }\n",
       "\n",
       "    .dataframe thead th {\n",
       "        text-align: right;\n",
       "    }\n",
       "</style>\n",
       "<table border=\"1\" class=\"dataframe\">\n",
       "  <thead>\n",
       "    <tr style=\"text-align: right;\">\n",
       "      <th></th>\n",
       "      <th>StartDate</th>\n",
       "      <th>StartLat</th>\n",
       "      <th>StartLong</th>\n",
       "      <th>EndDate</th>\n",
       "      <th>EndLat</th>\n",
       "      <th>EndLong</th>\n",
       "    </tr>\n",
       "  </thead>\n",
       "  <tbody>\n",
       "    <tr>\n",
       "      <th>0</th>\n",
       "      <td>09/01/2018 05:00</td>\n",
       "      <td>0.253073</td>\n",
       "      <td>-0.466003</td>\n",
       "      <td>09/01/2018 08:00</td>\n",
       "      <td>0.254818</td>\n",
       "      <td>-0.474730</td>\n",
       "    </tr>\n",
       "    <tr>\n",
       "      <th>1</th>\n",
       "      <td>09/01/2018 08:00</td>\n",
       "      <td>0.254818</td>\n",
       "      <td>-0.474730</td>\n",
       "      <td>09/01/2018 11:00</td>\n",
       "      <td>0.258309</td>\n",
       "      <td>-0.485202</td>\n",
       "    </tr>\n",
       "    <tr>\n",
       "      <th>2</th>\n",
       "      <td>09/01/2018 11:00</td>\n",
       "      <td>0.258309</td>\n",
       "      <td>-0.485202</td>\n",
       "      <td>09/01/2018 17:00</td>\n",
       "      <td>0.272271</td>\n",
       "      <td>-0.506145</td>\n",
       "    </tr>\n",
       "    <tr>\n",
       "      <th>3</th>\n",
       "      <td>09/01/2018 17:00</td>\n",
       "      <td>0.272271</td>\n",
       "      <td>-0.506145</td>\n",
       "      <td>09/01/2018 23:00</td>\n",
       "      <td>0.279253</td>\n",
       "      <td>-0.527089</td>\n",
       "    </tr>\n",
       "    <tr>\n",
       "      <th>4</th>\n",
       "      <td>09/01/2018 23:00</td>\n",
       "      <td>0.279253</td>\n",
       "      <td>-0.527089</td>\n",
       "      <td>09/02/2018 05:00</td>\n",
       "      <td>0.287979</td>\n",
       "      <td>-0.548033</td>\n",
       "    </tr>\n",
       "    <tr>\n",
       "      <th>...</th>\n",
       "      <td>...</td>\n",
       "      <td>...</td>\n",
       "      <td>...</td>\n",
       "      <td>...</td>\n",
       "      <td>...</td>\n",
       "      <td>...</td>\n",
       "    </tr>\n",
       "    <tr>\n",
       "      <th>79</th>\n",
       "      <td>09/15/2018 23:00</td>\n",
       "      <td>0.588176</td>\n",
       "      <td>-1.404990</td>\n",
       "      <td>09/16/2018 02:00</td>\n",
       "      <td>0.588176</td>\n",
       "      <td>-1.410226</td>\n",
       "    </tr>\n",
       "    <tr>\n",
       "      <th>80</th>\n",
       "      <td>09/16/2018 02:00</td>\n",
       "      <td>0.588176</td>\n",
       "      <td>-1.410226</td>\n",
       "      <td>09/17/2018 17:00</td>\n",
       "      <td>0.680678</td>\n",
       "      <td>-1.418953</td>\n",
       "    </tr>\n",
       "    <tr>\n",
       "      <th>81</th>\n",
       "      <td>09/17/2018 17:00</td>\n",
       "      <td>0.680678</td>\n",
       "      <td>-1.418953</td>\n",
       "      <td>09/17/2018 23:00</td>\n",
       "      <td>0.694641</td>\n",
       "      <td>-1.399754</td>\n",
       "    </tr>\n",
       "    <tr>\n",
       "      <th>82</th>\n",
       "      <td>09/17/2018 23:00</td>\n",
       "      <td>0.694641</td>\n",
       "      <td>-1.399754</td>\n",
       "      <td>09/18/2018 05:00</td>\n",
       "      <td>0.720821</td>\n",
       "      <td>-1.324705</td>\n",
       "    </tr>\n",
       "    <tr>\n",
       "      <th>83</th>\n",
       "      <td>09/18/2018 05:00</td>\n",
       "      <td>0.720821</td>\n",
       "      <td>-1.324705</td>\n",
       "      <td>09/18/2018 11:00</td>\n",
       "      <td>0.743510</td>\n",
       "      <td>-1.254892</td>\n",
       "    </tr>\n",
       "  </tbody>\n",
       "</table>\n",
       "<p>84 rows × 6 columns</p>\n",
       "</div>"
      ],
      "text/plain": [
       "           StartDate  StartLat  StartLong           EndDate    EndLat  \\\n",
       "0   09/01/2018 05:00  0.253073  -0.466003  09/01/2018 08:00  0.254818   \n",
       "1   09/01/2018 08:00  0.254818  -0.474730  09/01/2018 11:00  0.258309   \n",
       "2   09/01/2018 11:00  0.258309  -0.485202  09/01/2018 17:00  0.272271   \n",
       "3   09/01/2018 17:00  0.272271  -0.506145  09/01/2018 23:00  0.279253   \n",
       "4   09/01/2018 23:00  0.279253  -0.527089  09/02/2018 05:00  0.287979   \n",
       "..               ...       ...        ...               ...       ...   \n",
       "79  09/15/2018 23:00  0.588176  -1.404990  09/16/2018 02:00  0.588176   \n",
       "80  09/16/2018 02:00  0.588176  -1.410226  09/17/2018 17:00  0.680678   \n",
       "81  09/17/2018 17:00  0.680678  -1.418953  09/17/2018 23:00  0.694641   \n",
       "82  09/17/2018 23:00  0.694641  -1.399754  09/18/2018 05:00  0.720821   \n",
       "83  09/18/2018 05:00  0.720821  -1.324705  09/18/2018 11:00  0.743510   \n",
       "\n",
       "     EndLong  \n",
       "0  -0.474730  \n",
       "1  -0.485202  \n",
       "2  -0.506145  \n",
       "3  -0.527089  \n",
       "4  -0.548033  \n",
       "..       ...  \n",
       "79 -1.410226  \n",
       "80 -1.418953  \n",
       "81 -1.399754  \n",
       "82 -1.324705  \n",
       "83 -1.254892  \n",
       "\n",
       "[84 rows x 6 columns]"
      ]
     },
     "execution_count": 153,
     "metadata": {},
     "output_type": "execute_result"
    }
   ],
   "source": [
    "leftright"
   ]
  },
  {
   "cell_type": "code",
   "execution_count": 154,
   "metadata": {},
   "outputs": [
    {
     "name": "stdout",
     "output_type": "stream",
     "text": [
      "<class 'pandas.core.frame.DataFrame'>\n",
      "RangeIndex: 84 entries, 0 to 83\n",
      "Data columns (total 6 columns):\n",
      " #   Column     Non-Null Count  Dtype  \n",
      "---  ------     --------------  -----  \n",
      " 0   StartDate  84 non-null     string \n",
      " 1   StartLat   84 non-null     float64\n",
      " 2   StartLong  84 non-null     float64\n",
      " 3   EndDate    84 non-null     string \n",
      " 4   EndLat     84 non-null     float64\n",
      " 5   EndLong    84 non-null     float64\n",
      "dtypes: float64(4), string(2)\n",
      "memory usage: 4.1 KB\n"
     ]
    }
   ],
   "source": [
    "leftright.astype({\"StartDate\":\"string\",\"EndDate\":\"string\"}).info()"
   ]
  },
  {
   "cell_type": "code",
   "execution_count": 155,
   "metadata": {},
   "outputs": [],
   "source": [
    "#leftright[\"timeinterval\"]=leftright[\"EndDate\"]-leftright[\"StartDate\"]"
   ]
  },
  {
   "cell_type": "code",
   "execution_count": 156,
   "metadata": {},
   "outputs": [],
   "source": [
    "leftright[['StartDate']]=pd.to_datetime(leftright['StartDate'])"
   ]
  },
  {
   "cell_type": "code",
   "execution_count": 157,
   "metadata": {},
   "outputs": [],
   "source": [
    "leftright[['EndDate']]=pd.to_datetime(leftright['EndDate'])"
   ]
  },
  {
   "cell_type": "code",
   "execution_count": 158,
   "metadata": {},
   "outputs": [
    {
     "data": {
      "text/plain": [
       "0      10800.0\n",
       "1      10800.0\n",
       "2      21600.0\n",
       "3      21600.0\n",
       "4      21600.0\n",
       "        ...   \n",
       "79     10800.0\n",
       "80    140400.0\n",
       "81     21600.0\n",
       "82     21600.0\n",
       "83     21600.0\n",
       "Length: 84, dtype: float64"
      ]
     },
     "execution_count": 158,
     "metadata": {},
     "output_type": "execute_result"
    }
   ],
   "source": [
    "(leftright['EndDate'] - leftright['StartDate'])/np.timedelta64(1, 's')"
   ]
  },
  {
   "cell_type": "code",
   "execution_count": 168,
   "metadata": {},
   "outputs": [
    {
     "data": {
      "text/html": [
       "<div>\n",
       "<style scoped>\n",
       "    .dataframe tbody tr th:only-of-type {\n",
       "        vertical-align: middle;\n",
       "    }\n",
       "\n",
       "    .dataframe tbody tr th {\n",
       "        vertical-align: top;\n",
       "    }\n",
       "\n",
       "    .dataframe thead th {\n",
       "        text-align: right;\n",
       "    }\n",
       "</style>\n",
       "<table border=\"1\" class=\"dataframe\">\n",
       "  <thead>\n",
       "    <tr style=\"text-align: right;\">\n",
       "      <th></th>\n",
       "      <th>StartDate</th>\n",
       "      <th>StartLat</th>\n",
       "      <th>StartLong</th>\n",
       "      <th>EndDate</th>\n",
       "      <th>EndLat</th>\n",
       "      <th>EndLong</th>\n",
       "    </tr>\n",
       "  </thead>\n",
       "  <tbody>\n",
       "    <tr>\n",
       "      <th>0</th>\n",
       "      <td>2018-09-01 05:00:00</td>\n",
       "      <td>0.253073</td>\n",
       "      <td>-0.466003</td>\n",
       "      <td>2018-09-01 08:00:00</td>\n",
       "      <td>0.254818</td>\n",
       "      <td>-0.474730</td>\n",
       "    </tr>\n",
       "    <tr>\n",
       "      <th>1</th>\n",
       "      <td>2018-09-01 08:00:00</td>\n",
       "      <td>0.254818</td>\n",
       "      <td>-0.474730</td>\n",
       "      <td>2018-09-01 11:00:00</td>\n",
       "      <td>0.258309</td>\n",
       "      <td>-0.485202</td>\n",
       "    </tr>\n",
       "    <tr>\n",
       "      <th>2</th>\n",
       "      <td>2018-09-01 11:00:00</td>\n",
       "      <td>0.258309</td>\n",
       "      <td>-0.485202</td>\n",
       "      <td>2018-09-01 17:00:00</td>\n",
       "      <td>0.272271</td>\n",
       "      <td>-0.506145</td>\n",
       "    </tr>\n",
       "    <tr>\n",
       "      <th>3</th>\n",
       "      <td>2018-09-01 17:00:00</td>\n",
       "      <td>0.272271</td>\n",
       "      <td>-0.506145</td>\n",
       "      <td>2018-09-01 23:00:00</td>\n",
       "      <td>0.279253</td>\n",
       "      <td>-0.527089</td>\n",
       "    </tr>\n",
       "    <tr>\n",
       "      <th>4</th>\n",
       "      <td>2018-09-01 23:00:00</td>\n",
       "      <td>0.279253</td>\n",
       "      <td>-0.527089</td>\n",
       "      <td>2018-09-02 05:00:00</td>\n",
       "      <td>0.287979</td>\n",
       "      <td>-0.548033</td>\n",
       "    </tr>\n",
       "    <tr>\n",
       "      <th>...</th>\n",
       "      <td>...</td>\n",
       "      <td>...</td>\n",
       "      <td>...</td>\n",
       "      <td>...</td>\n",
       "      <td>...</td>\n",
       "      <td>...</td>\n",
       "    </tr>\n",
       "    <tr>\n",
       "      <th>79</th>\n",
       "      <td>2018-09-15 23:00:00</td>\n",
       "      <td>0.588176</td>\n",
       "      <td>-1.404990</td>\n",
       "      <td>2018-09-16 02:00:00</td>\n",
       "      <td>0.588176</td>\n",
       "      <td>-1.410226</td>\n",
       "    </tr>\n",
       "    <tr>\n",
       "      <th>80</th>\n",
       "      <td>2018-09-16 02:00:00</td>\n",
       "      <td>0.588176</td>\n",
       "      <td>-1.410226</td>\n",
       "      <td>2018-09-17 17:00:00</td>\n",
       "      <td>0.680678</td>\n",
       "      <td>-1.418953</td>\n",
       "    </tr>\n",
       "    <tr>\n",
       "      <th>81</th>\n",
       "      <td>2018-09-17 17:00:00</td>\n",
       "      <td>0.680678</td>\n",
       "      <td>-1.418953</td>\n",
       "      <td>2018-09-17 23:00:00</td>\n",
       "      <td>0.694641</td>\n",
       "      <td>-1.399754</td>\n",
       "    </tr>\n",
       "    <tr>\n",
       "      <th>82</th>\n",
       "      <td>2018-09-17 23:00:00</td>\n",
       "      <td>0.694641</td>\n",
       "      <td>-1.399754</td>\n",
       "      <td>2018-09-18 05:00:00</td>\n",
       "      <td>0.720821</td>\n",
       "      <td>-1.324705</td>\n",
       "    </tr>\n",
       "    <tr>\n",
       "      <th>83</th>\n",
       "      <td>2018-09-18 05:00:00</td>\n",
       "      <td>0.720821</td>\n",
       "      <td>-1.324705</td>\n",
       "      <td>2018-09-18 11:00:00</td>\n",
       "      <td>0.743510</td>\n",
       "      <td>-1.254892</td>\n",
       "    </tr>\n",
       "  </tbody>\n",
       "</table>\n",
       "<p>84 rows × 6 columns</p>\n",
       "</div>"
      ],
      "text/plain": [
       "             StartDate  StartLat  StartLong             EndDate    EndLat  \\\n",
       "0  2018-09-01 05:00:00  0.253073  -0.466003 2018-09-01 08:00:00  0.254818   \n",
       "1  2018-09-01 08:00:00  0.254818  -0.474730 2018-09-01 11:00:00  0.258309   \n",
       "2  2018-09-01 11:00:00  0.258309  -0.485202 2018-09-01 17:00:00  0.272271   \n",
       "3  2018-09-01 17:00:00  0.272271  -0.506145 2018-09-01 23:00:00  0.279253   \n",
       "4  2018-09-01 23:00:00  0.279253  -0.527089 2018-09-02 05:00:00  0.287979   \n",
       "..                 ...       ...        ...                 ...       ...   \n",
       "79 2018-09-15 23:00:00  0.588176  -1.404990 2018-09-16 02:00:00  0.588176   \n",
       "80 2018-09-16 02:00:00  0.588176  -1.410226 2018-09-17 17:00:00  0.680678   \n",
       "81 2018-09-17 17:00:00  0.680678  -1.418953 2018-09-17 23:00:00  0.694641   \n",
       "82 2018-09-17 23:00:00  0.694641  -1.399754 2018-09-18 05:00:00  0.720821   \n",
       "83 2018-09-18 05:00:00  0.720821  -1.324705 2018-09-18 11:00:00  0.743510   \n",
       "\n",
       "     EndLong  \n",
       "0  -0.474730  \n",
       "1  -0.485202  \n",
       "2  -0.506145  \n",
       "3  -0.527089  \n",
       "4  -0.548033  \n",
       "..       ...  \n",
       "79 -1.410226  \n",
       "80 -1.418953  \n",
       "81 -1.399754  \n",
       "82 -1.324705  \n",
       "83 -1.254892  \n",
       "\n",
       "[84 rows x 6 columns]"
      ]
     },
     "execution_count": 168,
     "metadata": {},
     "output_type": "execute_result"
    }
   ],
   "source": [
    "leftright"
   ]
  },
  {
   "cell_type": "code",
   "execution_count": 176,
   "metadata": {},
   "outputs": [],
   "source": [
    "leftright[[\"StartLat\",\"StartLong\"]].values.tolist()\n",
    "leftright['Startcoordinates'] = leftright[[\"StartLat\",\"StartLong\"]].values.tolist()"
   ]
  },
  {
   "cell_type": "code",
   "execution_count": 178,
   "metadata": {},
   "outputs": [],
   "source": [
    "leftright['Endcoordinates'] = leftright[[\"EndLat\",\"EndLong\"]].values.tolist()"
   ]
  },
  {
   "cell_type": "code",
   "execution_count": 180,
   "metadata": {},
   "outputs": [],
   "source": [
    "leftright[\"startend\"]= leftright[[\"Startcoordinates\",\"Endcoordinates\"]].values.tolist()"
   ]
  },
  {
   "cell_type": "code",
   "execution_count": 208,
   "metadata": {},
   "outputs": [
    {
     "data": {
      "text/plain": [
       "0      54.951152\n",
       "1      68.257554\n",
       "2     156.503842\n",
       "3     135.877883\n",
       "4     139.647170\n",
       "         ...    \n",
       "79     27.752714\n",
       "80    591.028680\n",
       "81    129.792030\n",
       "82    399.702541\n",
       "83    360.950551\n",
       "Name: startend, Length: 84, dtype: float64"
      ]
     },
     "execution_count": 208,
     "metadata": {},
     "output_type": "execute_result"
    }
   ],
   "source": [
    "leftright[\"startend\"].apply(haversine_distances).apply(lambda x:x[0,1]*6371)"
   ]
  },
  {
   "cell_type": "code",
   "execution_count": 187,
   "metadata": {},
   "outputs": [
    {
     "data": {
      "text/html": [
       "<div>\n",
       "<style scoped>\n",
       "    .dataframe tbody tr th:only-of-type {\n",
       "        vertical-align: middle;\n",
       "    }\n",
       "\n",
       "    .dataframe tbody tr th {\n",
       "        vertical-align: top;\n",
       "    }\n",
       "\n",
       "    .dataframe thead th {\n",
       "        text-align: right;\n",
       "    }\n",
       "</style>\n",
       "<table border=\"1\" class=\"dataframe\">\n",
       "  <thead>\n",
       "    <tr style=\"text-align: right;\">\n",
       "      <th></th>\n",
       "      <th>StartDate</th>\n",
       "      <th>StartLat</th>\n",
       "      <th>StartLong</th>\n",
       "      <th>EndDate</th>\n",
       "      <th>EndLat</th>\n",
       "      <th>EndLong</th>\n",
       "      <th>Startcoordinates</th>\n",
       "      <th>Endcoordinates</th>\n",
       "      <th>startend</th>\n",
       "    </tr>\n",
       "  </thead>\n",
       "  <tbody>\n",
       "    <tr>\n",
       "      <th>0</th>\n",
       "      <td>2018-09-01 05:00:00</td>\n",
       "      <td>0.253073</td>\n",
       "      <td>-0.466003</td>\n",
       "      <td>2018-09-01 08:00:00</td>\n",
       "      <td>0.254818</td>\n",
       "      <td>-0.474730</td>\n",
       "      <td>[0.2530727415391778, -0.46600291028248597]</td>\n",
       "      <td>[0.25481807079117214, -0.47472955654245763]</td>\n",
       "      <td>[[0.2530727415391778, -0.46600291028248597], [...</td>\n",
       "    </tr>\n",
       "    <tr>\n",
       "      <th>1</th>\n",
       "      <td>2018-09-01 08:00:00</td>\n",
       "      <td>0.254818</td>\n",
       "      <td>-0.474730</td>\n",
       "      <td>2018-09-01 11:00:00</td>\n",
       "      <td>0.258309</td>\n",
       "      <td>-0.485202</td>\n",
       "      <td>[0.25481807079117214, -0.47472955654245763]</td>\n",
       "      <td>[0.2583087292951608, -0.4852015320544236]</td>\n",
       "      <td>[[0.25481807079117214, -0.47472955654245763], ...</td>\n",
       "    </tr>\n",
       "    <tr>\n",
       "      <th>2</th>\n",
       "      <td>2018-09-01 11:00:00</td>\n",
       "      <td>0.258309</td>\n",
       "      <td>-0.485202</td>\n",
       "      <td>2018-09-01 17:00:00</td>\n",
       "      <td>0.272271</td>\n",
       "      <td>-0.506145</td>\n",
       "      <td>[0.2583087292951608, -0.4852015320544236]</td>\n",
       "      <td>[0.2722713633111154, -0.5061454830783556]</td>\n",
       "      <td>[[0.2583087292951608, -0.4852015320544236], [0...</td>\n",
       "    </tr>\n",
       "    <tr>\n",
       "      <th>3</th>\n",
       "      <td>2018-09-01 17:00:00</td>\n",
       "      <td>0.272271</td>\n",
       "      <td>-0.506145</td>\n",
       "      <td>2018-09-01 23:00:00</td>\n",
       "      <td>0.279253</td>\n",
       "      <td>-0.527089</td>\n",
       "      <td>[0.2722713633111154, -0.5061454830783556]</td>\n",
       "      <td>[0.2792526803190927, -0.5270894341022875]</td>\n",
       "      <td>[[0.2722713633111154, -0.5061454830783556], [0...</td>\n",
       "    </tr>\n",
       "    <tr>\n",
       "      <th>4</th>\n",
       "      <td>2018-09-01 23:00:00</td>\n",
       "      <td>0.279253</td>\n",
       "      <td>-0.527089</td>\n",
       "      <td>2018-09-02 05:00:00</td>\n",
       "      <td>0.287979</td>\n",
       "      <td>-0.548033</td>\n",
       "      <td>[0.2792526803190927, -0.5270894341022875]</td>\n",
       "      <td>[0.2879793265790644, -0.5480333851262195]</td>\n",
       "      <td>[[0.2792526803190927, -0.5270894341022875], [0...</td>\n",
       "    </tr>\n",
       "    <tr>\n",
       "      <th>...</th>\n",
       "      <td>...</td>\n",
       "      <td>...</td>\n",
       "      <td>...</td>\n",
       "      <td>...</td>\n",
       "      <td>...</td>\n",
       "      <td>...</td>\n",
       "      <td>...</td>\n",
       "      <td>...</td>\n",
       "      <td>...</td>\n",
       "    </tr>\n",
       "    <tr>\n",
       "      <th>79</th>\n",
       "      <td>2018-09-15 23:00:00</td>\n",
       "      <td>0.588176</td>\n",
       "      <td>-1.404990</td>\n",
       "      <td>2018-09-16 02:00:00</td>\n",
       "      <td>0.588176</td>\n",
       "      <td>-1.410226</td>\n",
       "      <td>[0.5881759579220891, -1.4049900478554354]</td>\n",
       "      <td>[0.5881759579220891, -1.4102260356114182]</td>\n",
       "      <td>[[0.5881759579220891, -1.4049900478554354], [0...</td>\n",
       "    </tr>\n",
       "    <tr>\n",
       "      <th>80</th>\n",
       "      <td>2018-09-16 02:00:00</td>\n",
       "      <td>0.588176</td>\n",
       "      <td>-1.410226</td>\n",
       "      <td>2018-09-17 17:00:00</td>\n",
       "      <td>0.680678</td>\n",
       "      <td>-1.418953</td>\n",
       "      <td>[0.5881759579220891, -1.4102260356114182]</td>\n",
       "      <td>[0.6806784082777885, -1.4189526818713898]</td>\n",
       "      <td>[[0.5881759579220891, -1.4102260356114182], [0...</td>\n",
       "    </tr>\n",
       "    <tr>\n",
       "      <th>81</th>\n",
       "      <td>2018-09-17 17:00:00</td>\n",
       "      <td>0.680678</td>\n",
       "      <td>-1.418953</td>\n",
       "      <td>2018-09-17 23:00:00</td>\n",
       "      <td>0.694641</td>\n",
       "      <td>-1.399754</td>\n",
       "      <td>[0.6806784082777885, -1.4189526818713898]</td>\n",
       "      <td>[0.6946410422937431, -1.3997540600994522]</td>\n",
       "      <td>[[0.6806784082777885, -1.4189526818713898], [0...</td>\n",
       "    </tr>\n",
       "    <tr>\n",
       "      <th>82</th>\n",
       "      <td>2018-09-17 23:00:00</td>\n",
       "      <td>0.694641</td>\n",
       "      <td>-1.399754</td>\n",
       "      <td>2018-09-18 05:00:00</td>\n",
       "      <td>0.720821</td>\n",
       "      <td>-1.324705</td>\n",
       "      <td>[0.6946410422937431, -1.3997540600994522]</td>\n",
       "      <td>[0.7208209810736581, -1.3247049022636963]</td>\n",
       "      <td>[[0.6946410422937431, -1.3997540600994522], [0...</td>\n",
       "    </tr>\n",
       "    <tr>\n",
       "      <th>83</th>\n",
       "      <td>2018-09-18 05:00:00</td>\n",
       "      <td>0.720821</td>\n",
       "      <td>-1.324705</td>\n",
       "      <td>2018-09-18 11:00:00</td>\n",
       "      <td>0.743510</td>\n",
       "      <td>-1.254892</td>\n",
       "      <td>[0.7208209810736581, -1.3247049022636963]</td>\n",
       "      <td>[0.7435102613495844, -1.254891732183923]</td>\n",
       "      <td>[[0.7208209810736581, -1.3247049022636963], [0...</td>\n",
       "    </tr>\n",
       "  </tbody>\n",
       "</table>\n",
       "<p>84 rows × 9 columns</p>\n",
       "</div>"
      ],
      "text/plain": [
       "             StartDate  StartLat  StartLong             EndDate    EndLat  \\\n",
       "0  2018-09-01 05:00:00  0.253073  -0.466003 2018-09-01 08:00:00  0.254818   \n",
       "1  2018-09-01 08:00:00  0.254818  -0.474730 2018-09-01 11:00:00  0.258309   \n",
       "2  2018-09-01 11:00:00  0.258309  -0.485202 2018-09-01 17:00:00  0.272271   \n",
       "3  2018-09-01 17:00:00  0.272271  -0.506145 2018-09-01 23:00:00  0.279253   \n",
       "4  2018-09-01 23:00:00  0.279253  -0.527089 2018-09-02 05:00:00  0.287979   \n",
       "..                 ...       ...        ...                 ...       ...   \n",
       "79 2018-09-15 23:00:00  0.588176  -1.404990 2018-09-16 02:00:00  0.588176   \n",
       "80 2018-09-16 02:00:00  0.588176  -1.410226 2018-09-17 17:00:00  0.680678   \n",
       "81 2018-09-17 17:00:00  0.680678  -1.418953 2018-09-17 23:00:00  0.694641   \n",
       "82 2018-09-17 23:00:00  0.694641  -1.399754 2018-09-18 05:00:00  0.720821   \n",
       "83 2018-09-18 05:00:00  0.720821  -1.324705 2018-09-18 11:00:00  0.743510   \n",
       "\n",
       "     EndLong                             Startcoordinates  \\\n",
       "0  -0.474730   [0.2530727415391778, -0.46600291028248597]   \n",
       "1  -0.485202  [0.25481807079117214, -0.47472955654245763]   \n",
       "2  -0.506145    [0.2583087292951608, -0.4852015320544236]   \n",
       "3  -0.527089    [0.2722713633111154, -0.5061454830783556]   \n",
       "4  -0.548033    [0.2792526803190927, -0.5270894341022875]   \n",
       "..       ...                                          ...   \n",
       "79 -1.410226    [0.5881759579220891, -1.4049900478554354]   \n",
       "80 -1.418953    [0.5881759579220891, -1.4102260356114182]   \n",
       "81 -1.399754    [0.6806784082777885, -1.4189526818713898]   \n",
       "82 -1.324705    [0.6946410422937431, -1.3997540600994522]   \n",
       "83 -1.254892    [0.7208209810736581, -1.3247049022636963]   \n",
       "\n",
       "                                 Endcoordinates  \\\n",
       "0   [0.25481807079117214, -0.47472955654245763]   \n",
       "1     [0.2583087292951608, -0.4852015320544236]   \n",
       "2     [0.2722713633111154, -0.5061454830783556]   \n",
       "3     [0.2792526803190927, -0.5270894341022875]   \n",
       "4     [0.2879793265790644, -0.5480333851262195]   \n",
       "..                                          ...   \n",
       "79    [0.5881759579220891, -1.4102260356114182]   \n",
       "80    [0.6806784082777885, -1.4189526818713898]   \n",
       "81    [0.6946410422937431, -1.3997540600994522]   \n",
       "82    [0.7208209810736581, -1.3247049022636963]   \n",
       "83     [0.7435102613495844, -1.254891732183923]   \n",
       "\n",
       "                                             startend  \n",
       "0   [[0.2530727415391778, -0.46600291028248597], [...  \n",
       "1   [[0.25481807079117214, -0.47472955654245763], ...  \n",
       "2   [[0.2583087292951608, -0.4852015320544236], [0...  \n",
       "3   [[0.2722713633111154, -0.5061454830783556], [0...  \n",
       "4   [[0.2792526803190927, -0.5270894341022875], [0...  \n",
       "..                                                ...  \n",
       "79  [[0.5881759579220891, -1.4049900478554354], [0...  \n",
       "80  [[0.5881759579220891, -1.4102260356114182], [0...  \n",
       "81  [[0.6806784082777885, -1.4189526818713898], [0...  \n",
       "82  [[0.6946410422937431, -1.3997540600994522], [0...  \n",
       "83  [[0.7208209810736581, -1.3247049022636963], [0...  \n",
       "\n",
       "[84 rows x 9 columns]"
      ]
     },
     "execution_count": 187,
     "metadata": {},
     "output_type": "execute_result"
    }
   ],
   "source": [
    "leftright"
   ]
  },
  {
   "cell_type": "code",
   "execution_count": 160,
   "metadata": {},
   "outputs": [],
   "source": [
    "from sklearn.metrics.pairwise import haversine_distances\n",
    "from math import radians\n",
    "bsas = [-34.83333, -58.5166646]\n",
    "paris = [49.0083899664, 2.53844117956]\n",
    "bsas_in_radians = [radians(_) for _ in bsas]\n",
    "paris_in_radians = [radians(_) for _ in paris]\n",
    "result = haversine_distances([bsas_in_radians, paris_in_radians])"
   ]
  },
  {
   "cell_type": "code",
   "execution_count": 161,
   "metadata": {},
   "outputs": [
    {
     "data": {
      "text/plain": [
       "array([[    0.        , 11099.54035582],\n",
       "       [11099.54035582,     0.        ]])"
      ]
     },
     "execution_count": 161,
     "metadata": {},
     "output_type": "execute_result"
    }
   ],
   "source": [
    " result * 6371000/1000"
   ]
  },
  {
   "cell_type": "code",
   "execution_count": 54,
   "metadata": {},
   "outputs": [],
   "source": [
    "kms_per_rad = 6371.0088\n",
    "eps = 500\n",
    "epsilon = eps/kms_per_rad\n",
    "\n",
    "# Extract intersection coordinates (latitude, longitude)\n",
    "fac_coords = florence[['Lat','Long']].values\n"
   ]
  },
  {
   "cell_type": "code",
   "execution_count": 55,
   "metadata": {},
   "outputs": [],
   "source": [
    "dbsc = cluster.DBSCAN(eps=epsilon, min_samples=3, algorithm='ball_tree', metric='haversine').fit(np.radians(fac_coords))\n",
    "fac_cluster_labels = dbsc.labels_\n",
    "\n",
    "# get the number of clusters\n",
    "num_clusters = len(set(dbsc.labels_))"
   ]
  },
  {
   "cell_type": "code",
   "execution_count": 56,
   "metadata": {},
   "outputs": [
    {
     "data": {
      "text/plain": [
       "1"
      ]
     },
     "execution_count": 56,
     "metadata": {},
     "output_type": "execute_result"
    }
   ],
   "source": [
    "num_clusters"
   ]
  },
  {
   "cell_type": "code",
   "execution_count": 57,
   "metadata": {},
   "outputs": [],
   "source": [
    "if hasattr(dbscan, 'labels_'):\n",
    "    y_pred = dbsc.labels_.astype(np.int)\n",
    "else:\n",
    "    y_pred = dbsc.predict(fac_coords)"
   ]
  },
  {
   "cell_type": "code",
   "execution_count": 58,
   "metadata": {},
   "outputs": [
    {
     "data": {
      "text/plain": [
       "<matplotlib.collections.PathCollection at 0x15e880baac8>"
      ]
     },
     "execution_count": 58,
     "metadata": {},
     "output_type": "execute_result"
    },
    {
     "data": {
      "image/png": "[encoded data removed]",
      "text/plain": [
       "<Figure size 432x288 with 1 Axes>"
      ]
     },
     "metadata": {
      "needs_background": "light"
     },
     "output_type": "display_data"
    }
   ],
   "source": [
    "colors = np.array(list(islice(cycle(['#377eb8', '#ff7f00', '#4daf4a',\n",
    "                                             '#f781bf', '#a65628', '#984ea3',\n",
    "                                             '#999999', '#e41a1c', '#dede00']),\n",
    "                                      int(max(y_pred) + 1))))\n",
    "# add black color for outliers (if any)\n",
    "colors = np.append(colors, [\"#000000\"])\n",
    "plt.scatter(fac_coords[:, 0],fac_coords[:, 1], s=10, color=colors[y_pred])"
   ]
  },
  {
   "cell_type": "code",
   "execution_count": 38,
   "metadata": {},
   "outputs": [
    {
     "data": {
      "text/plain": [
       "array([-1, -1, -1, -1, -1, -1, -1, -1, -1, -1, -1, -1, -1, -1, -1, -1, -1,\n",
       "       -1, -1, -1, -1, -1, -1, -1, -1, -1, -1, -1, -1, -1, -1, -1, -1, -1,\n",
       "       -1, -1, -1, -1, -1, -1, -1, -1, -1, -1, -1, -1, -1, -1, -1, -1, -1,\n",
       "       -1, -1, -1, -1, -1, -1, -1, -1, -1, -1, -1, -1, -1, -1, -1, -1, -1,\n",
       "       -1, -1, -1, -1, -1, -1, -1, -1, -1, -1, -1, -1, -1, -1, -1, -1, -1,\n",
       "       -1, -1, -1, -1, -1, -1, -1, -1, -1, -1, -1, -1, -1, -1, -1, -1, -1,\n",
       "       -1, -1, -1])"
      ]
     },
     "execution_count": 38,
     "metadata": {},
     "output_type": "execute_result"
    }
   ],
   "source": [
    "y_pred"
   ]
  },
  {
   "cell_type": "code",
   "execution_count": 205,
   "metadata": {},
   "outputs": [
    {
     "data": {
      "text/plain": [
       "<matplotlib.collections.PathCollection at 0x15e8c55e508>"
      ]
     },
     "execution_count": 205,
     "metadata": {},
     "output_type": "execute_result"
    },
    {
     "data": {
      "image/png": "[encoded data removed]",
      "text/plain": [
       "<Figure size 432x288 with 1 Axes>"
      ]
     },
     "metadata": {
      "needs_background": "light"
     },
     "output_type": "display_data"
    }
   ],
   "source": [
    "\n",
    "optics = cluster.OPTICS(min_samples=1,algorithm='ball_tree', metric='haversine').fit(np.radians(fac_coords))\n",
    "if hasattr(optics, 'labels_'):\n",
    "    y_pred = optics.labels_.astype(np.int)\n",
    "else:\n",
    "    y_pred = optics.predict(fac_coords)\n",
    "colors = np.array(list(islice(cycle(['#377eb8', '#ff7f00', '#4daf4a',\n",
    "                                             '#f781bf', '#a65628', '#984ea3',\n",
    "                                             '#999999', '#e41a1c', '#dede00']),\n",
    "                                      int(max(y_pred) + 1))))\n",
    "# add black color for outliers (if any)\n",
    "colors = np.append(colors, [\"#000000\"])\n",
    "plt.scatter(fac_coords[:, 0],fac_coords[:, 1], s=10, color=colors[y_pred])\n"
   ]
  },
  {
   "cell_type": "code",
   "execution_count": 206,
   "metadata": {},
   "outputs": [
    {
     "data": {
      "text/plain": [
       "array([0, 0, 0, 0, 0, 0, 0, 0, 0, 0, 0, 0, 0, 0, 0, 0, 0, 0, 0, 0, 0, 0,\n",
       "       0, 0, 0, 0, 0, 0, 0, 0, 0, 0, 0, 0, 0, 0, 0, 0, 0, 0, 0, 0, 0, 0,\n",
       "       0, 0, 0, 0, 0, 0, 0, 0, 0, 0, 0, 0, 0, 0, 0, 0, 0, 0, 0, 0, 0, 0,\n",
       "       0, 0, 0, 0, 0, 0, 0, 0, 0, 0, 0, 0, 0, 0, 0, 0, 0, 0, 0, 0, 0, 0,\n",
       "       0, 0, 0, 0, 0, 0, 0, 0, 0, 0, 0, 0, 0, 0, 0, 0, 0])"
      ]
     },
     "execution_count": 206,
     "metadata": {},
     "output_type": "execute_result"
    }
   ],
   "source": [
    "y_pred"
   ]
  },
  {
   "cell_type": "code",
   "execution_count": 9,
   "metadata": {},
   "outputs": [],
   "source": [
    "import time\n",
    "import warnings\n",
    "\n",
    "import numpy as np\n",
    "import matplotlib.pyplot as plt\n",
    "\n",
    "from sklearn import cluster, datasets, mixture\n",
    "from sklearn.neighbors import kneighbors_graph\n",
    "from sklearn.preprocessing import StandardScaler\n",
    "from itertools import cycle, islice\n",
    "\n",
    "np.random.seed(0)\n",
    "n_samples = 1500"
   ]
  },
  {
   "cell_type": "code",
   "execution_count": null,
   "metadata": {},
   "outputs": [],
   "source": []
  },
  {
   "cell_type": "code",
   "execution_count": 12,
   "metadata": {},
   "outputs": [
    {
     "data": {
      "text/plain": [
       "<matplotlib.collections.PathCollection at 0x15e87b9efc8>"
      ]
     },
     "execution_count": 12,
     "metadata": {},
     "output_type": "execute_result"
    },
    {
     "data": {
      "image/png": "[encoded data removed]",
      "text/plain": [
       "<Figure size 432x288 with 1 Axes>"
      ]
     },
     "metadata": {
      "needs_background": "light"
     },
     "output_type": "display_data"
    }
   ],
   "source": [
    "noisy_moons = datasets.make_moons(n_samples=n_samples, noise=.03)\n",
    "X, y = noisy_moons \n",
    "X = StandardScaler().fit_transform(X)\n",
    "colors = np.array(list(islice(cycle(['#377eb8', '#ff7f00', '#4daf4a',\n",
    "                                         '#f781bf', '#a65628', '#984ea3',\n",
    "                                         '#999999', '#e41a1c', '#dede00']),\n",
    "                                  int(max(y) + 1))))\n",
    "# add black color for outliers (if any)\n",
    "colors = np.append(colors, [\"#000000\"])\n",
    "plt.scatter(X[:, 0], X[:, 1], s=10, color=colors[y])"
   ]
  },
  {
   "cell_type": "code",
   "execution_count": 13,
   "metadata": {},
   "outputs": [],
   "source": [
    "dbscan = cluster.DBSCAN(eps=.1)\n",
    "dbscan.fit(X)\n",
    "if hasattr(dbscan, 'labels_'):\n",
    "    y_pred = dbscan.labels_.astype(np.int)\n",
    "else:\n",
    "    y_pred = dbscan.predict(X)"
   ]
  },
  {
   "cell_type": "code",
   "execution_count": 14,
   "metadata": {},
   "outputs": [
    {
     "data": {
      "text/plain": [
       "<matplotlib.collections.PathCollection at 0x15e87c1f7c8>"
      ]
     },
     "execution_count": 14,
     "metadata": {},
     "output_type": "execute_result"
    },
    {
     "data": {
      "image/png": "[encoded data removed]",
      "text/plain": [
       "<Figure size 432x288 with 1 Axes>"
      ]
     },
     "metadata": {
      "needs_background": "light"
     },
     "output_type": "display_data"
    }
   ],
   "source": [
    "colors = np.array(list(islice(cycle(['#377eb8', '#ff7f00', '#4daf4a',\n",
    "                                             '#f781bf', '#a65628', '#984ea3',\n",
    "                                             '#999999', '#e41a1c', '#dede00']),\n",
    "                                      int(max(y_pred) + 1))))\n",
    "# add black color for outliers (if any)\n",
    "colors = np.append(colors, [\"#000000\"])\n",
    "plt.scatter(X[:, 0], X[:, 1], s=10, color=colors[y_pred])"
   ]
  },
  {
   "cell_type": "code",
   "execution_count": null,
   "metadata": {},
   "outputs": [],
   "source": []
  },
  {
   "cell_type": "code",
   "execution_count": 15,
   "metadata": {},
   "outputs": [
    {
     "data": {
      "text/plain": [
       "924"
      ]
     },
     "execution_count": 15,
     "metadata": {},
     "output_type": "execute_result"
    }
   ],
   "source": [
    "42 * 22"
   ]
  },
  {
   "cell_type": "code",
   "execution_count": null,
   "metadata": {},
   "outputs": [],
   "source": [
    "121.47\n",
    "纬度：31.23"
   ]
  },
  {
   "cell_type": "code",
   "execution_count": 216,
   "metadata": {},
   "outputs": [
    {
     "data": {
      "text/plain": [
       "array([[ 0.        , 14.62713916],\n",
       "       [14.62713916,  0.        ]])"
      ]
     },
     "execution_count": 216,
     "metadata": {},
     "output_type": "execute_result"
    }
   ],
   "source": [
    "from sklearn.metrics.pairwise import haversine_distances\n",
    "from math import radians\n",
    "sh = [31.23, 121.47]\n",
    "ot = [31.33, 121.57]\n",
    "bsas_in_radians = [radians(_) for _ in sh]\n",
    "paris_in_radians = [radians(_) for _ in ot]\n",
    "result = haversine_distances([bsas_in_radians, paris_in_radians])\n",
    "result * 6371  # multiply by Earth radius to get kilometers\n"
   ]
  },
  {
   "cell_type": "code",
   "execution_count": 215,
   "metadata": {},
   "outputs": [
    {
     "name": "stdout",
     "output_type": "stream",
     "text": [
      "0\n",
      "1\n",
      "2\n",
      "3\n",
      "4\n"
     ]
    }
   ],
   "source": [
    "for i in range(5):\n",
    "    print(i)"
   ]
  },
  {
   "cell_type": "markdown",
   "metadata": {},
   "source": [
    "正常轨迹点的分布"
   ]
  },
  {
   "cell_type": "code",
   "execution_count": 269,
   "metadata": {},
   "outputs": [],
   "source": [
    "\n",
    "mu, sigma = 0.1, 0.1 # mean and standard deviation\n",
    "normalsample = 500\n",
    "s = np.random.normal(mu, sigma, (sample,2))"
   ]
  },
  {
   "cell_type": "code",
   "execution_count": 321,
   "metadata": {},
   "outputs": [],
   "source": [
    "t = s.cumsum(0) + np.array([31.23, 121.47]).reshape((1,2))"
   ]
  },
  {
   "cell_type": "code",
   "execution_count": 324,
   "metadata": {},
   "outputs": [],
   "source": [
    "#t"
   ]
  },
  {
   "cell_type": "markdown",
   "metadata": {},
   "source": [
    "毛刺点分布"
   ]
  },
  {
   "cell_type": "code",
   "execution_count": 288,
   "metadata": {},
   "outputs": [],
   "source": [
    "amu, asigma = 0.1, 10.0 # mean and standard deviation\n",
    "abnormalsamplePercent = 0.01\n",
    "abnormalsample = int(normalsample *  abnormalsamplePercent)\n",
    "abnormalA = np.random.normal(amu, asigma, (abnormalsample,2))"
   ]
  },
  {
   "cell_type": "markdown",
   "metadata": {},
   "source": [
    "选取若干点变成毛刺点"
   ]
  },
  {
   "cell_type": "code",
   "execution_count": 325,
   "metadata": {},
   "outputs": [
    {
     "data": {
      "text/plain": [
       "array([[ 50.31051488, 143.20563031],\n",
       "       [ 73.93063795, 167.49796033],\n",
       "       [ 35.97390693, 128.04685819],\n",
       "       [ 61.92653756, 154.71214578],\n",
       "       [ 75.02197744, 168.91131236]])"
      ]
     },
     "execution_count": 325,
     "metadata": {},
     "output_type": "execute_result"
    }
   ],
   "source": [
    "arr = np.arange(1,normalsample)\n",
    "np.random.shuffle(arr)\n",
    "t[arr[0:abnormalsample]]"
   ]
  },
  {
   "cell_type": "code",
   "execution_count": 329,
   "metadata": {},
   "outputs": [
    {
     "data": {
      "text/plain": [
       "array([[ 50.33701164, 143.11387365],\n",
       "       [ 73.74693193, 167.42395661],\n",
       "       [ 35.79808408, 128.06729114],\n",
       "       [ 61.9363212 , 154.40921934],\n",
       "       [ 74.82577405, 168.74419399]])"
      ]
     },
     "execution_count": 329,
     "metadata": {},
     "output_type": "execute_result"
    }
   ],
   "source": [
    "t[arr[0:abnormalsample]-1]"
   ]
  },
  {
   "cell_type": "code",
   "execution_count": 331,
   "metadata": {},
   "outputs": [],
   "source": [
    "t[arr[0:abnormalsample]] = t[arr[0:abnormalsample]-1]+abnormalA"
   ]
  },
  {
   "cell_type": "code",
   "execution_count": 289,
   "metadata": {},
   "outputs": [
    {
     "data": {
      "text/plain": [
       "array([[ 4.07476066, -9.34014157],\n",
       "       [ 5.35935074,  3.3227328 ],\n",
       "       [16.65255643,  3.03535318],\n",
       "       [-2.08806055, 10.33152953],\n",
       "       [ 2.29048041, 11.03968432]])"
      ]
     },
     "execution_count": 289,
     "metadata": {},
     "output_type": "execute_result"
    }
   ],
   "source": [
    "abnormalA"
   ]
  },
  {
   "cell_type": "code",
   "execution_count": 333,
   "metadata": {},
   "outputs": [],
   "source": [
    "#t"
   ]
  },
  {
   "cell_type": "code",
   "execution_count": 290,
   "metadata": {},
   "outputs": [],
   "source": [
    "k = np.concatenate((s, abnormalA), axis=0)"
   ]
  },
  {
   "cell_type": "code",
   "execution_count": 291,
   "metadata": {},
   "outputs": [
    {
     "data": {
      "text/plain": [
       "array([[ 9.21022787e-02,  1.69706446e-01],\n",
       "       [-5.62318707e-03,  4.41377670e-02],\n",
       "       [ 2.44591957e-01,  7.69117704e-02],\n",
       "       ...,\n",
       "       [ 1.66525564e+01,  3.03535318e+00],\n",
       "       [-2.08806055e+00,  1.03315295e+01],\n",
       "       [ 2.29048041e+00,  1.10396843e+01]])"
      ]
     },
     "execution_count": 291,
     "metadata": {},
     "output_type": "execute_result"
    }
   ],
   "source": [
    "k"
   ]
  },
  {
   "cell_type": "code",
   "execution_count": 292,
   "metadata": {},
   "outputs": [],
   "source": [
    "np.random.shuffle(k)"
   ]
  },
  {
   "cell_type": "code",
   "execution_count": 293,
   "metadata": {},
   "outputs": [
    {
     "data": {
      "text/plain": [
       "array([[ 0.22211337,  0.09263597],\n",
       "       [ 0.10925155,  0.00387689],\n",
       "       [ 0.18694935,  0.0722459 ],\n",
       "       ...,\n",
       "       [-0.02218619,  0.21618874],\n",
       "       [ 0.02498989, -0.09115521],\n",
       "       [ 0.16284404,  0.0526573 ]])"
      ]
     },
     "execution_count": 293,
     "metadata": {},
     "output_type": "execute_result"
    }
   ],
   "source": [
    "k"
   ]
  },
  {
   "cell_type": "code",
   "execution_count": 294,
   "metadata": {},
   "outputs": [
    {
     "data": {
      "text/plain": [
       "array([[ 0.22211337,  0.09263597],\n",
       "       [ 0.33136492,  0.09651286],\n",
       "       [ 0.51831427,  0.16875876],\n",
       "       ...,\n",
       "       [74.05377179, 69.41829616],\n",
       "       [74.07876168, 69.32714095],\n",
       "       [74.24160572, 69.37979825]])"
      ]
     },
     "execution_count": 294,
     "metadata": {},
     "output_type": "execute_result"
    }
   ],
   "source": [
    "k.cumsum(0)"
   ]
  },
  {
   "cell_type": "code",
   "execution_count": 295,
   "metadata": {},
   "outputs": [],
   "source": [
    "t = k.cumsum(0) + np.array([31.23, 121.47]).reshape((1,2))"
   ]
  },
  {
   "cell_type": "code",
   "execution_count": 334,
   "metadata": {},
   "outputs": [],
   "source": [
    "df2 = pd.DataFrame(t,\n",
    "                   columns=['Lat', 'Long'])"
   ]
  },
  {
   "cell_type": "code",
   "execution_count": 336,
   "metadata": {},
   "outputs": [
    {
     "data": {
      "text/plain": [
       "<matplotlib.axes._subplots.AxesSubplot at 0x15e8444a3c8>"
      ]
     },
     "execution_count": 336,
     "metadata": {},
     "output_type": "execute_result"
    },
    {
     "data": {
      "image/png": "[encoded data removed]",
      "text/plain": [
       "<Figure size 1440x720 with 1 Axes>"
      ]
     },
     "metadata": {
      "needs_background": "light"
     },
     "output_type": "display_data"
    }
   ],
   "source": [
    "df2.plot.line(x = 'Lat', y = 'Long',figsize=(20,10))"
   ]
  },
  {
   "cell_type": "code",
   "execution_count": 302,
   "metadata": {},
   "outputs": [],
   "source": [
    "u = np.array([[1,2],[3,4],[5,6]])"
   ]
  },
  {
   "cell_type": "code",
   "execution_count": 303,
   "metadata": {},
   "outputs": [
    {
     "data": {
      "text/plain": [
       "array([[1, 2],\n",
       "       [3, 4],\n",
       "       [5, 6]])"
      ]
     },
     "execution_count": 303,
     "metadata": {},
     "output_type": "execute_result"
    }
   ],
   "source": [
    "u"
   ]
  },
  {
   "cell_type": "code",
   "execution_count": 304,
   "metadata": {},
   "outputs": [
    {
     "data": {
      "text/plain": [
       "(3, 2)"
      ]
     },
     "execution_count": 304,
     "metadata": {},
     "output_type": "execute_result"
    }
   ],
   "source": [
    "u.shape\n"
   ]
  },
  {
   "cell_type": "code",
   "execution_count": 311,
   "metadata": {},
   "outputs": [],
   "source": [
    "v = np.array([[0.1,0.2],[0.4,0.5]])"
   ]
  },
  {
   "cell_type": "code",
   "execution_count": 312,
   "metadata": {},
   "outputs": [],
   "source": [
    "u[[0,2]]=u[[0,2]] + v"
   ]
  },
  {
   "cell_type": "code",
   "execution_count": 313,
   "metadata": {},
   "outputs": [
    {
     "data": {
      "text/plain": [
       "array([[1, 2],\n",
       "       [3, 4],\n",
       "       [5, 6]])"
      ]
     },
     "execution_count": 313,
     "metadata": {},
     "output_type": "execute_result"
    }
   ],
   "source": [
    "u"
   ]
  },
  {
   "cell_type": "code",
   "execution_count": 317,
   "metadata": {},
   "outputs": [
    {
     "data": {
      "text/plain": [
       "array([2, 0, 1])"
      ]
     },
     "execution_count": 317,
     "metadata": {},
     "output_type": "execute_result"
    }
   ],
   "source": [
    "arr = np.arange(3)\n",
    "np.random.shuffle(arr)\n",
    "arr"
   ]
  },
  {
   "cell_type": "code",
   "execution_count": 320,
   "metadata": {},
   "outputs": [
    {
     "data": {
      "text/plain": [
       "array([2, 0, 1])"
      ]
     },
     "execution_count": 320,
     "metadata": {},
     "output_type": "execute_result"
    }
   ],
   "source": [
    "arr[0:3]"
   ]
  },
  {
   "cell_type": "code",
   "execution_count": 319,
   "metadata": {},
   "outputs": [
    {
     "data": {
      "text/plain": [
       "array([[5, 6]])"
      ]
     },
     "execution_count": 319,
     "metadata": {},
     "output_type": "execute_result"
    }
   ],
   "source": [
    "u[arr[0:1]]"
   ]
  },
  {
   "cell_type": "code",
   "execution_count": 323,
   "metadata": {},
   "outputs": [],
   "source": [
    " np.arange?"
   ]
  },
  {
   "cell_type": "code",
   "execution_count": null,
   "metadata": {},
   "outputs": [],
   "source": []
  }
 ],
 "metadata": {
  "kernelspec": {
   "display_name": "Python 3",
   "language": "python",
   "name": "python3"
  },
  "language_info": {
   "codemirror_mode": {
    "name": "ipython",
    "version": 3
   },
   "file_extension": ".py",
   "mimetype": "text/x-python",
   "name": "python",
   "nbconvert_exporter": "python",
   "pygments_lexer": "ipython3",
   "version": "3.7.6"
  }
 },
 "nbformat": 4,
 "nbformat_minor": 4
}
